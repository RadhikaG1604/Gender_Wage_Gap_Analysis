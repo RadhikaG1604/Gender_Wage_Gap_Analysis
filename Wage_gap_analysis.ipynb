{
 "cells": [
  {
   "cell_type": "markdown",
   "id": "f75e1b70",
   "metadata": {
    "id": "f75e1b70"
   },
   "source": [
    "# Data Science and Big Data\n",
    "\n",
    "## Project 1 - Telling a Story with Data\n",
    "\n",
    "### Team 5 - Radhika Govindarajan(rgovind2), Yuchan Guo(yuchang)"
   ]
  },
  {
   "cell_type": "markdown",
   "id": "dbf33100",
   "metadata": {
    "id": "dbf33100"
   },
   "source": [
    "# <font color = blue> Introduction"
   ]
  },
  {
   "cell_type": "markdown",
   "id": "38cb18f4",
   "metadata": {
    "id": "38cb18f4"
   },
   "source": [
    "The Gender Pay Gap is a pervasive global issue that transcends borders, cultures, and socio-economic backgrounds, impacting individuals irrespective of their professional pursuits. Informed by the groundbreaking research of 2023 Economics Nobel Prize awardee Claudia Goldin (Refer article - https://www.scientificamerican.com/article/why-women-earn-less-than-men-economic-historian-wins-nobel-for-work-on-gender-pay-gap/), we endeavor to investigate the nuanced relationship between gender pay inequalities and economic growth, drawing on the rich dataset at our disposal."
   ]
  },
  {
   "cell_type": "markdown",
   "id": "df1c8389",
   "metadata": {
    "id": "df1c8389"
   },
   "source": [
    "# <font color = blue> Motivation & Related Work"
   ]
  },
  {
   "cell_type": "markdown",
   "id": "c14d6240",
   "metadata": {
    "id": "c14d6240"
   },
   "source": [
    "As two aspiring scholars pursuing advanced degrees, we intimately understand the challenges and disparities that can arise in the workforce, which underscores the gravity of this matter. Our commitment to addressing complex, socially relevant challenges finds a profound resonance in delving into this dataset.\n",
    "\n",
    "This analysis holds personal significance for us, as it aligns with our dedication to advancing a more inclusive and equitable workforce. The objective of this project is to not only illuminate the existing disparities but also to showcase our analytical prowess in deriving meaningful insights. Through a comprehensive examination of the data, we aim to generate insights that will serve as a foundation for policy recommendations and workplace strategies dedicated to reducing the gender pay gap."
   ]
  },
  {
   "cell_type": "markdown",
   "id": "49932b42",
   "metadata": {
    "id": "49932b42"
   },
   "source": [
    "Both of us are well acquainted with the global prevalence of gender disparities. Additionally, I once listened to the “Invisible Women” podcast, which eloquently addresses the gender imbalances in data and technology, which further fueled my desire to delve into gender related workforce issues. Recognizing the substantial impact of the wage gap, we were particularly drawn to this dataset for analysis. This project not only aligns with our existing knowledge and passion but we also believe that will help us derive meaningful insights and offer policy recommendations to address this issue.\n",
    "\n",
    "We also recently came across this analysis done by the US Census Bureau - https://www.gao.gov/products/gao-23-106041 which emphasizes the variations in pay gaps among the different racial and ethnic groups and education levels, further underlining the complexity of the issue."
   ]
  },
  {
   "cell_type": "markdown",
   "id": "c012f13e",
   "metadata": {
    "id": "c012f13e"
   },
   "source": [
    "# <font color = blue> Dataset"
   ]
  },
  {
   "cell_type": "markdown",
   "id": "b46270bf",
   "metadata": {},
   "source": [
    "We obtained this gender pay gap dataset from Kaggle - https://www.kaggle.com/datasets/fedesoriano/gender-pay-gap-dataset "
   ]
  },
  {
   "cell_type": "markdown",
   "id": "2f334bf3",
   "metadata": {
    "id": "2f334bf3"
   },
   "source": [
    "The dataset, sourced from the Kaggle platform, comprises Panel Study of Income Dynamics (PSID) microdata spanning three decades from 1980 to 2010. With 344,287 rows and 234 columns of raw data, a meticulous data cleaning process is imperative. We plan to focus our analysis on a select portion of the dataset to extract the most relevant and meaningful insights."
   ]
  },
  {
   "cell_type": "markdown",
   "id": "a07c84cd",
   "metadata": {
    "id": "a07c84cd"
   },
   "source": [
    "This dataset provides a comprehensive collection of socio-economic and demographic information for individuals, spanning various aspects of their lives.\n",
    "\n",
    "- It encompasses identification variables such as interview numbers and gender, along with personal details like age, region\n",
    "- Educational and employment-related data includes the highest level of schooling, employment status, degree status, occupation, and industry. Additionally, income and work experience metrics, such as hourly wage and years of experience are included.\n",
    "- Various dummy variables represent racial and ethnic categories, and indicators for government employment and self-employment are provided.\n",
    "\n",
    "Notably, the dataset encompasses a diverse range of information, making it suitable for a wide array of analyses and studies pertaining to individual socio-economic profiles."
   ]
  },
  {
   "cell_type": "markdown",
   "id": "be25e9b3",
   "metadata": {
    "id": "be25e9b3"
   },
   "source": [
    "# <font color = blue> Our Hypothesis - Possible Findings and Implications"
   ]
  },
  {
   "cell_type": "markdown",
   "id": "382dfd8b",
   "metadata": {
    "id": "382dfd8b"
   },
   "source": [
    "To guide our analysis, we have formulated a set of hypotheses.\n",
    "\n",
    "- We anticipate uncovering a significant gender pay gap in the labor market, with women earning substantially less than their male counterparts.\n",
    "- Furthermore, we posit that factors such as years of experience and education level will play pivotal roles in determining earnings for both genders, with potential variations in their influence.\n",
    "- Additionally, we expect to observe regional disparities in income, reflecting the complex interplay of socio-economic factors. - Industry sectors are anticipated to wield a substantial influence on wage disparities, possibly owing to historical biases or structural factors. We are particularly intrigued by the potential variations in the gender pay gap among different racial and ethnic groups, and aim to explore the temporal evolution of these disparities.\n",
    "\n",
    "This hypothesis serves as a comprehensive framework for our project, encompassing the main questions and areas of investigation we outlined earlier and also sets the stage for analysis of datasets."
   ]
  },
  {
   "cell_type": "markdown",
   "id": "952de9eb",
   "metadata": {
    "id": "952de9eb"
   },
   "source": [
    "# <font color = blue> Key Questions"
   ]
  },
  {
   "cell_type": "markdown",
   "id": "9b70f353",
   "metadata": {
    "id": "9b70f353"
   },
   "source": [
    "Below are our key questions based on our hypothesis:\n",
    "    \n",
    "1. Does a significant wage gap exist between men and women ?\n",
    "  - Overall distribution of hourly wage\n",
    "  - How does the average/median vary between men and women ?\n",
    "  - Is the observed wage disparity specific to certain occupation or industries ?\n",
    "  - Do industries have an equal or acceptable proportion of men and women ?\n",
    "  - How does the level of wage disparity vary between industries ?\n",
    "2. What are the underlying causes that contribute to this wage disparity ?\n",
    "  - Work Experience\n",
    "  - Education Level\n",
    "  - Racial Disparities\n",
    "  - Working Hours\n",
    "3. How proportionate are the differences in these factors with the difference in wages and how has this evolved over the years ?"
   ]
  },
  {
   "cell_type": "markdown",
   "id": "11e698ea",
   "metadata": {
    "id": "11e698ea"
   },
   "source": [
    "# <font color = blue> Cleaning the Data"
   ]
  },
  {
   "cell_type": "code",
   "execution_count": 1,
   "id": "44bba79e",
   "metadata": {
    "id": "44bba79e",
    "outputId": "f19f3d13-e943-4c57-d6c4-d7aa04a9d378"
   },
   "outputs": [
    {
     "data": {
      "text/plain": [
       "DataTransformerRegistry.enable('vegafusion')"
      ]
     },
     "execution_count": 1,
     "metadata": {},
     "output_type": "execute_result"
    }
   ],
   "source": [
    "# Importing the required libraries\n",
    "\n",
    "import pandas as pd\n",
    "import numpy as np\n",
    "import altair as alt\n",
    "from matplotlib import pyplot as plt\n",
    "alt.data_transformers.enable('vegafusion')"
   ]
  },
  {
   "cell_type": "code",
   "execution_count": 2,
   "id": "5a70375c",
   "metadata": {
    "id": "5a70375c"
   },
   "outputs": [],
   "source": [
    "# Reading the CSV file as dataframe\n",
    "\n",
    "income_dynamics = pd.read_csv(\"PanelStudyIncomeDynamics.csv\")"
   ]
  },
  {
   "cell_type": "code",
   "execution_count": 3,
   "id": "a1597348",
   "metadata": {
    "id": "a1597348",
    "outputId": "8c4d8c87-a289-4ee7-8bab-97e32b4d1cb6"
   },
   "outputs": [
    {
     "data": {
      "text/html": [
       "<div>\n",
       "<style scoped>\n",
       "    .dataframe tbody tr th:only-of-type {\n",
       "        vertical-align: middle;\n",
       "    }\n",
       "\n",
       "    .dataframe tbody tr th {\n",
       "        vertical-align: top;\n",
       "    }\n",
       "\n",
       "    .dataframe thead th {\n",
       "        text-align: right;\n",
       "    }\n",
       "</style>\n",
       "<table border=\"1\" class=\"dataframe\">\n",
       "  <thead>\n",
       "    <tr style=\"text-align: right;\">\n",
       "      <th></th>\n",
       "      <th>intnum68</th>\n",
       "      <th>pernum68</th>\n",
       "      <th>wave</th>\n",
       "      <th>sex</th>\n",
       "      <th>intnum</th>\n",
       "      <th>farminc</th>\n",
       "      <th>region</th>\n",
       "      <th>famwgt</th>\n",
       "      <th>relhead</th>\n",
       "      <th>age</th>\n",
       "      <th>...</th>\n",
       "      <th>foodcare</th>\n",
       "      <th>building</th>\n",
       "      <th>sales</th>\n",
       "      <th>officeadmin</th>\n",
       "      <th>farmer</th>\n",
       "      <th>constructextractinstall</th>\n",
       "      <th>production</th>\n",
       "      <th>transport</th>\n",
       "      <th>sumocc</th>\n",
       "      <th>LEHS</th>\n",
       "    </tr>\n",
       "  </thead>\n",
       "  <tbody>\n",
       "    <tr>\n",
       "      <th>0</th>\n",
       "      <td>1152</td>\n",
       "      <td>24</td>\n",
       "      <td>1981</td>\n",
       "      <td>1</td>\n",
       "      <td>3505</td>\n",
       "      <td>0.0</td>\n",
       "      <td>1.0</td>\n",
       "      <td>17.000</td>\n",
       "      <td>10</td>\n",
       "      <td>34</td>\n",
       "      <td>...</td>\n",
       "      <td>0</td>\n",
       "      <td>0</td>\n",
       "      <td>1</td>\n",
       "      <td>0</td>\n",
       "      <td>0</td>\n",
       "      <td>0</td>\n",
       "      <td>0</td>\n",
       "      <td>0</td>\n",
       "      <td>1</td>\n",
       "      <td>0</td>\n",
       "    </tr>\n",
       "    <tr>\n",
       "      <th>1</th>\n",
       "      <td>5057</td>\n",
       "      <td>171</td>\n",
       "      <td>1981</td>\n",
       "      <td>1</td>\n",
       "      <td>675</td>\n",
       "      <td>0.0</td>\n",
       "      <td>2.0</td>\n",
       "      <td>2.000</td>\n",
       "      <td>10</td>\n",
       "      <td>32</td>\n",
       "      <td>...</td>\n",
       "      <td>0</td>\n",
       "      <td>0</td>\n",
       "      <td>0</td>\n",
       "      <td>0</td>\n",
       "      <td>0</td>\n",
       "      <td>0</td>\n",
       "      <td>1</td>\n",
       "      <td>0</td>\n",
       "      <td>1</td>\n",
       "      <td>1</td>\n",
       "    </tr>\n",
       "    <tr>\n",
       "      <th>2</th>\n",
       "      <td>6375</td>\n",
       "      <td>170</td>\n",
       "      <td>2009</td>\n",
       "      <td>1</td>\n",
       "      <td>8505</td>\n",
       "      <td>0.0</td>\n",
       "      <td>1.0</td>\n",
       "      <td>6.565</td>\n",
       "      <td>10</td>\n",
       "      <td>64</td>\n",
       "      <td>...</td>\n",
       "      <td>0</td>\n",
       "      <td>0</td>\n",
       "      <td>0</td>\n",
       "      <td>0</td>\n",
       "      <td>0</td>\n",
       "      <td>0</td>\n",
       "      <td>1</td>\n",
       "      <td>0</td>\n",
       "      <td>1</td>\n",
       "      <td>1</td>\n",
       "    </tr>\n",
       "    <tr>\n",
       "      <th>3</th>\n",
       "      <td>2261</td>\n",
       "      <td>3</td>\n",
       "      <td>1999</td>\n",
       "      <td>1</td>\n",
       "      <td>4202</td>\n",
       "      <td>0.0</td>\n",
       "      <td>2.0</td>\n",
       "      <td>25.973</td>\n",
       "      <td>10</td>\n",
       "      <td>50</td>\n",
       "      <td>...</td>\n",
       "      <td>0</td>\n",
       "      <td>0</td>\n",
       "      <td>0</td>\n",
       "      <td>0</td>\n",
       "      <td>0</td>\n",
       "      <td>0</td>\n",
       "      <td>0</td>\n",
       "      <td>1</td>\n",
       "      <td>1</td>\n",
       "      <td>1</td>\n",
       "    </tr>\n",
       "    <tr>\n",
       "      <th>4</th>\n",
       "      <td>5927</td>\n",
       "      <td>7</td>\n",
       "      <td>1990</td>\n",
       "      <td>1</td>\n",
       "      <td>605</td>\n",
       "      <td>0.0</td>\n",
       "      <td>3.0</td>\n",
       "      <td>14.819</td>\n",
       "      <td>10</td>\n",
       "      <td>26</td>\n",
       "      <td>...</td>\n",
       "      <td>0</td>\n",
       "      <td>0</td>\n",
       "      <td>0</td>\n",
       "      <td>0</td>\n",
       "      <td>0</td>\n",
       "      <td>0</td>\n",
       "      <td>1</td>\n",
       "      <td>0</td>\n",
       "      <td>1</td>\n",
       "      <td>1</td>\n",
       "    </tr>\n",
       "  </tbody>\n",
       "</table>\n",
       "<p>5 rows × 274 columns</p>\n",
       "</div>"
      ],
      "text/plain": [
       "   intnum68  pernum68  wave  sex  intnum  farminc  region  famwgt  relhead  \\\n",
       "0      1152        24  1981    1    3505      0.0     1.0  17.000       10   \n",
       "1      5057       171  1981    1     675      0.0     2.0   2.000       10   \n",
       "2      6375       170  2009    1    8505      0.0     1.0   6.565       10   \n",
       "3      2261         3  1999    1    4202      0.0     2.0  25.973       10   \n",
       "4      5927         7  1990    1     605      0.0     3.0  14.819       10   \n",
       "\n",
       "   age  ...  foodcare  building  sales  officeadmin  farmer  \\\n",
       "0   34  ...         0         0      1            0       0   \n",
       "1   32  ...         0         0      0            0       0   \n",
       "2   64  ...         0         0      0            0       0   \n",
       "3   50  ...         0         0      0            0       0   \n",
       "4   26  ...         0         0      0            0       0   \n",
       "\n",
       "   constructextractinstall  production  transport  sumocc  LEHS  \n",
       "0                        0           0          0       1     0  \n",
       "1                        0           1          0       1     1  \n",
       "2                        0           1          0       1     1  \n",
       "3                        0           0          1       1     1  \n",
       "4                        0           1          0       1     1  \n",
       "\n",
       "[5 rows x 274 columns]"
      ]
     },
     "execution_count": 3,
     "metadata": {},
     "output_type": "execute_result"
    }
   ],
   "source": [
    "# Printing the top 5 rows of the dataframe\n",
    "\n",
    "income_dynamics.head()"
   ]
  },
  {
   "cell_type": "code",
   "execution_count": 4,
   "id": "ce90030c",
   "metadata": {
    "id": "ce90030c",
    "outputId": "9cc1a802-5a5c-4a20-bb16-d81e345a0284"
   },
   "outputs": [
    {
     "data": {
      "text/plain": [
       "(33398, 274)"
      ]
     },
     "execution_count": 4,
     "metadata": {},
     "output_type": "execute_result"
    }
   ],
   "source": [
    "# Getting the number of records\n",
    "\n",
    "income_dynamics.shape"
   ]
  },
  {
   "cell_type": "code",
   "execution_count": 5,
   "id": "18e5d50b",
   "metadata": {
    "id": "18e5d50b",
    "outputId": "a8c4a75f-b472-4c80-a1cb-b248d0075d36"
   },
   "outputs": [
    {
     "data": {
      "text/plain": [
       "['intnum68',\n",
       " 'pernum68',\n",
       " 'wave',\n",
       " 'sex',\n",
       " 'intnum',\n",
       " 'farminc',\n",
       " 'region',\n",
       " 'famwgt',\n",
       " 'relhead',\n",
       " 'age',\n",
       " 'employed',\n",
       " 'sch',\n",
       " 'annhrs',\n",
       " 'annlabinc',\n",
       " 'occ',\n",
       " 'ind',\n",
       " 'white',\n",
       " 'black',\n",
       " 'hisp',\n",
       " 'othrace',\n",
       " 'degree',\n",
       " 'degupd',\n",
       " 'schupd',\n",
       " 'annwks',\n",
       " 'unjob',\n",
       " 'usualhrwk',\n",
       " 'labincbus',\n",
       " 'yrsexp',\n",
       " 'yrsftexp',\n",
       " 'yrsptexp',\n",
       " 'yrsptexpsq',\n",
       " 'yrsftexpsq',\n",
       " 'yrsExpSq',\n",
       " 'yrsexpfz',\n",
       " 'yrsftexpfz',\n",
       " 'yrsptexpfz',\n",
       " 'yrsexpfzsq',\n",
       " 'yrsftexpfzsq',\n",
       " 'yrsptexpfzsq',\n",
       " 'wtrgov',\n",
       " 'selfemp',\n",
       " 'predict98',\n",
       " 'predictft98',\n",
       " 'predict00',\n",
       " 'predictft00',\n",
       " 'predict02',\n",
       " 'predictft02',\n",
       " 'predict04',\n",
       " 'predictft04',\n",
       " 'predict06',\n",
       " 'predictft06',\n",
       " 'predict08',\n",
       " 'predictft08',\n",
       " 'predict10',\n",
       " 'predictft10',\n",
       " 'origage',\n",
       " 'origannHrsHD',\n",
       " 'origannHrsWF',\n",
       " 'origannLabIncHD',\n",
       " 'origannLabIncWF',\n",
       " 'origannWeeksHD',\n",
       " 'origannWeeksWF',\n",
       " 'origcurrHrWkHD',\n",
       " 'origcurrHrWkWF',\n",
       " 'origdegreeHD',\n",
       " 'origdegreeWF',\n",
       " 'origemp',\n",
       " 'origeverwrkHD07',\n",
       " 'origeverwrkHD09',\n",
       " 'origeverwrkHD11',\n",
       " 'origeverwrkHD99',\n",
       " 'origeverwrkWF07',\n",
       " 'origeverwrkWF09',\n",
       " 'origeverwrkWF11',\n",
       " 'origeverwrkWF99',\n",
       " 'origfamWgt',\n",
       " 'origfarmInc',\n",
       " 'origindHD',\n",
       " 'origindWF',\n",
       " 'origmarSt',\n",
       " 'orignumChld',\n",
       " 'origoccHD',\n",
       " 'origoccWF',\n",
       " 'origraceHD',\n",
       " 'origraceWF',\n",
       " 'origregion',\n",
       " 'origrelHead',\n",
       " 'origsch',\n",
       " 'origschfamHD07',\n",
       " 'origschfamHD09',\n",
       " 'origschfamHD11',\n",
       " 'origschfamHD81',\n",
       " 'origschfamHD99',\n",
       " 'origschfamWF07',\n",
       " 'origschfamWF09',\n",
       " 'origschfamWF11',\n",
       " 'origschfamWF81',\n",
       " 'origschfamWF99',\n",
       " 'origsexHead',\n",
       " 'origspanHD',\n",
       " 'origspanWF',\n",
       " 'origstopwrkHDE299',\n",
       " 'origstopwrkHDE399',\n",
       " 'origstopwrkHDE499',\n",
       " 'origstopwrkHDE599',\n",
       " 'origstopwrkHDE699',\n",
       " 'origstopwrkHDU299',\n",
       " 'origstopwrkHDU399',\n",
       " 'origstopwrkHDU499',\n",
       " 'origstopwrkHDU599',\n",
       " 'origstopwrkHDU699',\n",
       " 'origstopwrkWFE299',\n",
       " 'origstopwrkWFE399',\n",
       " 'origstopwrkWFE499',\n",
       " 'origstopwrkWFE599',\n",
       " 'origstopwrkWFE699',\n",
       " 'origstopwrkWFU299',\n",
       " 'origstopwrkWFU399',\n",
       " 'origstopwrkWFU499',\n",
       " 'origstopwrkWFU599',\n",
       " 'origstopwrkWFU699',\n",
       " 'origtotYrsFTHD',\n",
       " 'origtotYrsFTWF',\n",
       " 'origtotYrsHD',\n",
       " 'origtotYrsWF',\n",
       " 'origunJobHD',\n",
       " 'origunJobWF',\n",
       " 'origwrkPriorJanHD',\n",
       " 'origwrkPriorJanWF',\n",
       " 'origwtrNewHD',\n",
       " 'origwtrNewWF',\n",
       " 'origyrNewHD',\n",
       " 'origyrNewWF',\n",
       " 'predict97',\n",
       " 'predictft97',\n",
       " 'predictfz97',\n",
       " 'predictftfz97',\n",
       " 'predictfz98',\n",
       " 'predictftfz98',\n",
       " 'predict1999',\n",
       " 'predictft1999',\n",
       " 'predictfz99',\n",
       " 'predictftfz99',\n",
       " 'predictfz00',\n",
       " 'predictftfz00',\n",
       " 'predict01',\n",
       " 'predictft01',\n",
       " 'predictfz01',\n",
       " 'predictftfz01',\n",
       " 'predictfz02',\n",
       " 'predictftfz02',\n",
       " 'predict03',\n",
       " 'predictft03',\n",
       " 'predictfz03',\n",
       " 'predictftfz03',\n",
       " 'predictfz04',\n",
       " 'predictftfz04',\n",
       " 'predictfz06',\n",
       " 'predictftfz06',\n",
       " 'predict2007',\n",
       " 'predictft2007',\n",
       " 'predictfz07',\n",
       " 'predictftfz07',\n",
       " 'predictfz08',\n",
       " 'predictftfz08',\n",
       " 'predict2009',\n",
       " 'predictft2009',\n",
       " 'predictfz09',\n",
       " 'predictftfz09',\n",
       " 'predictfz10',\n",
       " 'predictftfz10',\n",
       " 'predict2011',\n",
       " 'predictft2011',\n",
       " 'predictfz11',\n",
       " 'predictftfz11',\n",
       " 'origAdvHD',\n",
       " 'origAdvWF',\n",
       " 'origBAHD',\n",
       " 'origBAWF',\n",
       " 'origannWeeksHDE',\n",
       " 'origannWeeksHDR',\n",
       " 'origannWeeksHDU',\n",
       " 'origannWeeksWFE',\n",
       " 'origannWeeksWFR',\n",
       " 'origannWeeksWFU',\n",
       " 'origindHDE',\n",
       " 'origindWFE',\n",
       " 'origindHDU',\n",
       " 'origindWFU',\n",
       " 'origindHDR',\n",
       " 'origindWFR',\n",
       " 'origoccHDE',\n",
       " 'origoccHDR',\n",
       " 'origoccHDU',\n",
       " 'origoccWFE',\n",
       " 'origoccWFR',\n",
       " 'origoccWFU',\n",
       " 'origrace',\n",
       " 'origschHD',\n",
       " 'origschWF',\n",
       " 'origyrHghstDegHD',\n",
       " 'origyrHghstDegWF',\n",
       " 'origwtrCollDegHD',\n",
       " 'origwtrCollDegWF',\n",
       " 'origwtrCollHD',\n",
       " 'origwtrCollWF',\n",
       " 'predict',\n",
       " 'predictft',\n",
       " 'smsa',\n",
       " 'perconexp',\n",
       " 'hrwage',\n",
       " 'annhrs2',\n",
       " 'expendbase10',\n",
       " 'inflate',\n",
       " 'realhrwage',\n",
       " 'immigrantsamp',\n",
       " 'northeast',\n",
       " 'northcentral',\n",
       " 'south',\n",
       " 'west',\n",
       " 'lnrealwg',\n",
       " 'ft',\n",
       " 'potexp',\n",
       " 'potexp2',\n",
       " 'ba',\n",
       " 'adv',\n",
       " 'military',\n",
       " 'basesamp',\n",
       " 'wagesamp',\n",
       " 'female',\n",
       " 'ind2',\n",
       " 'occ2',\n",
       " 'occ2name',\n",
       " 'Agriculture',\n",
       " 'miningconstruction',\n",
       " 'durables',\n",
       " 'nondurables',\n",
       " 'Transport',\n",
       " 'Utilities',\n",
       " 'Communications',\n",
       " 'retailtrade',\n",
       " 'wholesaletrade',\n",
       " 'finance',\n",
       " 'SocArtOther',\n",
       " 'hotelsrestaurants',\n",
       " 'Medical',\n",
       " 'Education',\n",
       " 'professional',\n",
       " 'publicadmin',\n",
       " 'sumind',\n",
       " 'manager',\n",
       " 'business',\n",
       " 'financialop',\n",
       " 'computer',\n",
       " 'architect',\n",
       " 'scientist',\n",
       " 'socialworker',\n",
       " 'postseceduc',\n",
       " 'legaleduc',\n",
       " 'artist',\n",
       " 'lawyerphysician',\n",
       " 'healthcare',\n",
       " 'healthsupport',\n",
       " 'protective',\n",
       " 'foodcare',\n",
       " 'building',\n",
       " 'sales',\n",
       " 'officeadmin',\n",
       " 'farmer',\n",
       " 'constructextractinstall',\n",
       " 'production',\n",
       " 'transport',\n",
       " 'sumocc',\n",
       " 'LEHS']"
      ]
     },
     "execution_count": 5,
     "metadata": {},
     "output_type": "execute_result"
    }
   ],
   "source": [
    "# Printing the variables of the dataframe\n",
    "\n",
    "list(income_dynamics.columns)"
   ]
  },
  {
   "cell_type": "markdown",
   "id": "d2da2c3b",
   "metadata": {
    "id": "d2da2c3b"
   },
   "source": [
    "Our dataset has 274 variables, however not all variables are relevant to our analysis, hence obtained a subset of the datset with only required columns as mentioned below."
   ]
  },
  {
   "cell_type": "code",
   "execution_count": 6,
   "id": "b52359a6",
   "metadata": {
    "id": "b52359a6"
   },
   "outputs": [],
   "source": [
    "# Obtaining subset of relevant variables\n",
    "\n",
    "income_dynamics = income_dynamics[['wave', 'sch','sex', 'region', 'age', 'schupd', 'degupd',\n",
    "                                   'employed', 'annhrs', 'annwks','usualhrwk', 'realhrwage',\n",
    "                                   'yrsexp', 'yrsftexp', 'yrsptexp', 'wtrgov', 'selfemp', 'occ', 'ind','occ2name',\n",
    "                                   'white', 'black', 'hisp', 'othrace',\n",
    "                                   'northeast', 'northcentral', 'south', 'west',\n",
    "                                   'Agriculture', 'miningconstruction', 'durables', 'nondurables', 'Transport', 'Utilities',\n",
    "                                   'Communications', 'retailtrade', 'wholesaletrade', 'finance', 'SocArtOther',\n",
    "                                   'hotelsrestaurants', 'Medical', 'Education', 'professional', 'publicadmin', 'sumind',\n",
    "                                   'manager', 'business', 'financialop', 'computer', 'architect', 'scientist', 'socialworker',\n",
    "                                   'postseceduc', 'legaleduc', 'artist', 'lawyerphysician', 'healthcare', 'healthsupport',\n",
    "                                   'protective', 'foodcare', 'building', 'sales', 'officeadmin', 'farmer',\n",
    "                                   'constructextractinstall', 'production', 'transport']]"
   ]
  },
  {
   "cell_type": "code",
   "execution_count": 7,
   "id": "4d175f44",
   "metadata": {
    "id": "4d175f44"
   },
   "outputs": [],
   "source": [
    "# Data Dictionary of the variables in the dataset\n",
    "\n",
    "income_dynamics_dict = {'wave': 'year',\n",
    "                        'sex': 'gender',\n",
    "                        'region': 'region of the individual',\n",
    "                        'age': 'age of the individual',\n",
    "                        'employed': 'whether they are employed or unemployed',\n",
    "                        'schupd': 'schooling status',\n",
    "                        'degreeupd': 'Indicates the highest level of degree obtained by the individual',\n",
    "                        'annhrs': 'Annual working hours logged by the invidual',\n",
    "                        'usualhrwk': 'Typical working hours logged by the individual per week',\n",
    "                        'anwks': 'Annual working weeks logged by the individual',\n",
    "                        'annualbinc': 'Annual Labor Income',\n",
    "                        'realhrwage': 'Hourly Wage paid to the individual',\n",
    "                        'occ': 'Occupation code',\n",
    "                        'ind': 'Working Industry code',\n",
    "                        'occ2name': 'Occupation Name',\n",
    "                        'wrtgov': 'Binary variable indicating if the individual works in government',\n",
    "                        'selfemp': 'Variable indicating if the individual is self-employed',\n",
    "                        'white': 'Binary variable indicating if the individual is white or not',\n",
    "                        'black': 'Binary variable indicating if the individual is black or not',\n",
    "                        'hisp': 'Binary variable indicating if the individual is hispanic or not',\n",
    "                        'othrace': 'Binary variable indicating if the individual belongs to other race or not'\n",
    "                        }"
   ]
  },
  {
   "cell_type": "code",
   "execution_count": 8,
   "id": "2aaa5d1f",
   "metadata": {
    "id": "2aaa5d1f",
    "outputId": "f8acde45-89fe-4a84-be42-adec26005dda"
   },
   "outputs": [
    {
     "name": "stdout",
     "output_type": "stream",
     "text": [
      "<class 'pandas.core.frame.DataFrame'>\n",
      "RangeIndex: 33398 entries, 0 to 33397\n",
      "Data columns (total 67 columns):\n",
      " #   Column                   Non-Null Count  Dtype  \n",
      "---  ------                   --------------  -----  \n",
      " 0   wave                     33398 non-null  int64  \n",
      " 1   sch                      33373 non-null  float64\n",
      " 2   sex                      33398 non-null  int64  \n",
      " 3   region                   33395 non-null  float64\n",
      " 4   age                      33398 non-null  int64  \n",
      " 5   schupd                   33398 non-null  int64  \n",
      " 6   degupd                   33358 non-null  float64\n",
      " 7   employed                 33398 non-null  int64  \n",
      " 8   annhrs                   33398 non-null  int64  \n",
      " 9   annwks                   33398 non-null  float64\n",
      " 10  usualhrwk                33303 non-null  float64\n",
      " 11  realhrwage               33398 non-null  float64\n",
      " 12  yrsexp                   33398 non-null  float64\n",
      " 13  yrsftexp                 33398 non-null  float64\n",
      " 14  yrsptexp                 33398 non-null  float64\n",
      " 15  wtrgov                   33284 non-null  float64\n",
      " 16  selfemp                  33398 non-null  int64  \n",
      " 17  occ                      33398 non-null  int64  \n",
      " 18  ind                      33398 non-null  int64  \n",
      " 19  occ2name                 33398 non-null  object \n",
      " 20  white                    33398 non-null  int64  \n",
      " 21  black                    33398 non-null  int64  \n",
      " 22  hisp                     33398 non-null  int64  \n",
      " 23  othrace                  33398 non-null  int64  \n",
      " 24  northeast                33398 non-null  int64  \n",
      " 25  northcentral             33398 non-null  int64  \n",
      " 26  south                    33398 non-null  int64  \n",
      " 27  west                     33398 non-null  int64  \n",
      " 28  Agriculture              33398 non-null  int64  \n",
      " 29  miningconstruction       33398 non-null  int64  \n",
      " 30  durables                 33398 non-null  int64  \n",
      " 31  nondurables              33398 non-null  int64  \n",
      " 32  Transport                33398 non-null  int64  \n",
      " 33  Utilities                33398 non-null  int64  \n",
      " 34  Communications           33398 non-null  int64  \n",
      " 35  retailtrade              33398 non-null  int64  \n",
      " 36  wholesaletrade           33398 non-null  int64  \n",
      " 37  finance                  33398 non-null  int64  \n",
      " 38  SocArtOther              33398 non-null  int64  \n",
      " 39  hotelsrestaurants        33398 non-null  int64  \n",
      " 40  Medical                  33398 non-null  int64  \n",
      " 41  Education                33398 non-null  int64  \n",
      " 42  professional             33398 non-null  int64  \n",
      " 43  publicadmin              33398 non-null  int64  \n",
      " 44  sumind                   33398 non-null  int64  \n",
      " 45  manager                  33398 non-null  int64  \n",
      " 46  business                 33398 non-null  int64  \n",
      " 47  financialop              33398 non-null  int64  \n",
      " 48  computer                 33398 non-null  int64  \n",
      " 49  architect                33398 non-null  int64  \n",
      " 50  scientist                33398 non-null  int64  \n",
      " 51  socialworker             33398 non-null  int64  \n",
      " 52  postseceduc              33398 non-null  int64  \n",
      " 53  legaleduc                33398 non-null  int64  \n",
      " 54  artist                   33398 non-null  int64  \n",
      " 55  lawyerphysician          33398 non-null  int64  \n",
      " 56  healthcare               33398 non-null  int64  \n",
      " 57  healthsupport            33398 non-null  int64  \n",
      " 58  protective               33398 non-null  int64  \n",
      " 59  foodcare                 33398 non-null  int64  \n",
      " 60  building                 33398 non-null  int64  \n",
      " 61  sales                    33398 non-null  int64  \n",
      " 62  officeadmin              33398 non-null  int64  \n",
      " 63  farmer                   33398 non-null  int64  \n",
      " 64  constructextractinstall  33398 non-null  int64  \n",
      " 65  production               33398 non-null  int64  \n",
      " 66  transport                33398 non-null  int64  \n",
      "dtypes: float64(10), int64(56), object(1)\n",
      "memory usage: 17.1+ MB\n"
     ]
    }
   ],
   "source": [
    "# Checking for null values in the dataset\n",
    "\n",
    "income_dynamics.info()"
   ]
  },
  {
   "cell_type": "code",
   "execution_count": 9,
   "id": "2e3edcf6",
   "metadata": {
    "id": "2e3edcf6"
   },
   "outputs": [],
   "source": [
    "# Dropping rows with null values\n",
    "income_dynamics = income_dynamics.dropna()"
   ]
  },
  {
   "cell_type": "code",
   "execution_count": 10,
   "id": "f2d918b2",
   "metadata": {
    "id": "f2d918b2",
    "outputId": "64109312-0f64-43e4-aa1b-59389362c9f6"
   },
   "outputs": [
    {
     "data": {
      "text/html": [
       "<div>\n",
       "<style scoped>\n",
       "    .dataframe tbody tr th:only-of-type {\n",
       "        vertical-align: middle;\n",
       "    }\n",
       "\n",
       "    .dataframe tbody tr th {\n",
       "        vertical-align: top;\n",
       "    }\n",
       "\n",
       "    .dataframe thead th {\n",
       "        text-align: right;\n",
       "    }\n",
       "</style>\n",
       "<table border=\"1\" class=\"dataframe\">\n",
       "  <thead>\n",
       "    <tr style=\"text-align: right;\">\n",
       "      <th></th>\n",
       "      <th>wave</th>\n",
       "      <th>sch</th>\n",
       "      <th>sex</th>\n",
       "      <th>region</th>\n",
       "      <th>age</th>\n",
       "      <th>schupd</th>\n",
       "      <th>degupd</th>\n",
       "      <th>employed</th>\n",
       "      <th>annhrs</th>\n",
       "      <th>annwks</th>\n",
       "      <th>...</th>\n",
       "      <th>healthsupport</th>\n",
       "      <th>protective</th>\n",
       "      <th>foodcare</th>\n",
       "      <th>building</th>\n",
       "      <th>sales</th>\n",
       "      <th>officeadmin</th>\n",
       "      <th>farmer</th>\n",
       "      <th>constructextractinstall</th>\n",
       "      <th>production</th>\n",
       "      <th>transport</th>\n",
       "    </tr>\n",
       "  </thead>\n",
       "  <tbody>\n",
       "    <tr>\n",
       "      <th>0</th>\n",
       "      <td>1981</td>\n",
       "      <td>16.0</td>\n",
       "      <td>1</td>\n",
       "      <td>1.0</td>\n",
       "      <td>34</td>\n",
       "      <td>17</td>\n",
       "      <td>1.0</td>\n",
       "      <td>1</td>\n",
       "      <td>1600</td>\n",
       "      <td>32.000000</td>\n",
       "      <td>...</td>\n",
       "      <td>0</td>\n",
       "      <td>0</td>\n",
       "      <td>0</td>\n",
       "      <td>0</td>\n",
       "      <td>1</td>\n",
       "      <td>0</td>\n",
       "      <td>0</td>\n",
       "      <td>0</td>\n",
       "      <td>0</td>\n",
       "      <td>0</td>\n",
       "    </tr>\n",
       "    <tr>\n",
       "      <th>1</th>\n",
       "      <td>1981</td>\n",
       "      <td>14.0</td>\n",
       "      <td>1</td>\n",
       "      <td>2.0</td>\n",
       "      <td>32</td>\n",
       "      <td>14</td>\n",
       "      <td>0.0</td>\n",
       "      <td>1</td>\n",
       "      <td>520</td>\n",
       "      <td>13.000000</td>\n",
       "      <td>...</td>\n",
       "      <td>0</td>\n",
       "      <td>0</td>\n",
       "      <td>0</td>\n",
       "      <td>0</td>\n",
       "      <td>0</td>\n",
       "      <td>0</td>\n",
       "      <td>0</td>\n",
       "      <td>0</td>\n",
       "      <td>1</td>\n",
       "      <td>0</td>\n",
       "    </tr>\n",
       "    <tr>\n",
       "      <th>2</th>\n",
       "      <td>2009</td>\n",
       "      <td>12.0</td>\n",
       "      <td>1</td>\n",
       "      <td>1.0</td>\n",
       "      <td>64</td>\n",
       "      <td>12</td>\n",
       "      <td>0.0</td>\n",
       "      <td>1</td>\n",
       "      <td>2550</td>\n",
       "      <td>51.000000</td>\n",
       "      <td>...</td>\n",
       "      <td>0</td>\n",
       "      <td>0</td>\n",
       "      <td>0</td>\n",
       "      <td>0</td>\n",
       "      <td>0</td>\n",
       "      <td>0</td>\n",
       "      <td>0</td>\n",
       "      <td>0</td>\n",
       "      <td>1</td>\n",
       "      <td>0</td>\n",
       "    </tr>\n",
       "    <tr>\n",
       "      <th>3</th>\n",
       "      <td>1999</td>\n",
       "      <td>12.0</td>\n",
       "      <td>1</td>\n",
       "      <td>2.0</td>\n",
       "      <td>50</td>\n",
       "      <td>12</td>\n",
       "      <td>0.0</td>\n",
       "      <td>1</td>\n",
       "      <td>3072</td>\n",
       "      <td>51.200001</td>\n",
       "      <td>...</td>\n",
       "      <td>0</td>\n",
       "      <td>0</td>\n",
       "      <td>0</td>\n",
       "      <td>0</td>\n",
       "      <td>0</td>\n",
       "      <td>0</td>\n",
       "      <td>0</td>\n",
       "      <td>0</td>\n",
       "      <td>0</td>\n",
       "      <td>1</td>\n",
       "    </tr>\n",
       "    <tr>\n",
       "      <th>4</th>\n",
       "      <td>1990</td>\n",
       "      <td>12.0</td>\n",
       "      <td>1</td>\n",
       "      <td>3.0</td>\n",
       "      <td>26</td>\n",
       "      <td>12</td>\n",
       "      <td>0.0</td>\n",
       "      <td>1</td>\n",
       "      <td>2100</td>\n",
       "      <td>50.000000</td>\n",
       "      <td>...</td>\n",
       "      <td>0</td>\n",
       "      <td>0</td>\n",
       "      <td>0</td>\n",
       "      <td>0</td>\n",
       "      <td>0</td>\n",
       "      <td>0</td>\n",
       "      <td>0</td>\n",
       "      <td>0</td>\n",
       "      <td>1</td>\n",
       "      <td>0</td>\n",
       "    </tr>\n",
       "  </tbody>\n",
       "</table>\n",
       "<p>5 rows × 67 columns</p>\n",
       "</div>"
      ],
      "text/plain": [
       "   wave   sch  sex  region  age  schupd  degupd  employed  annhrs     annwks  \\\n",
       "0  1981  16.0    1     1.0   34      17     1.0         1    1600  32.000000   \n",
       "1  1981  14.0    1     2.0   32      14     0.0         1     520  13.000000   \n",
       "2  2009  12.0    1     1.0   64      12     0.0         1    2550  51.000000   \n",
       "3  1999  12.0    1     2.0   50      12     0.0         1    3072  51.200001   \n",
       "4  1990  12.0    1     3.0   26      12     0.0         1    2100  50.000000   \n",
       "\n",
       "   ...  healthsupport  protective  foodcare  building  sales  officeadmin  \\\n",
       "0  ...              0           0         0         0      1            0   \n",
       "1  ...              0           0         0         0      0            0   \n",
       "2  ...              0           0         0         0      0            0   \n",
       "3  ...              0           0         0         0      0            0   \n",
       "4  ...              0           0         0         0      0            0   \n",
       "\n",
       "   farmer  constructextractinstall  production transport  \n",
       "0       0                        0           0         0  \n",
       "1       0                        0           1         0  \n",
       "2       0                        0           1         0  \n",
       "3       0                        0           0         1  \n",
       "4       0                        0           1         0  \n",
       "\n",
       "[5 rows x 67 columns]"
      ]
     },
     "execution_count": 10,
     "metadata": {},
     "output_type": "execute_result"
    }
   ],
   "source": [
    "# Printing the top 5 rows of the cleaned dataset\n",
    "\n",
    "income_dynamics.head()"
   ]
  },
  {
   "cell_type": "markdown",
   "id": "f38cb991",
   "metadata": {
    "id": "f38cb991"
   },
   "source": [
    "# <font color = blue> Getting to know the dataset"
   ]
  },
  {
   "cell_type": "code",
   "execution_count": 11,
   "id": "dfedf78a",
   "metadata": {
    "id": "dfedf78a",
    "outputId": "467a3a2d-8e0e-400e-b162-be72d6eb8875"
   },
   "outputs": [
    {
     "data": {
      "text/plain": [
       "(33121, 67)"
      ]
     },
     "execution_count": 11,
     "metadata": {},
     "output_type": "execute_result"
    }
   ],
   "source": [
    "# Getting the number of rows and columns\n",
    "\n",
    "income_dynamics.shape"
   ]
  },
  {
   "cell_type": "code",
   "execution_count": 12,
   "id": "bb1dccf8",
   "metadata": {
    "id": "bb1dccf8"
   },
   "outputs": [],
   "source": [
    "# Replacing the encoded values with actual gender\n",
    "\n",
    "income_dynamics['sex'] = income_dynamics['sex'].replace({1:'Male',2:'Female'})"
   ]
  },
  {
   "cell_type": "code",
   "execution_count": 13,
   "id": "e70667f8",
   "metadata": {
    "id": "e70667f8",
    "outputId": "18821d32-3fa6-4f54-90b4-d673455cf8ec"
   },
   "outputs": [
    {
     "data": {
      "text/plain": [
       "sex\n",
       "Female    17026\n",
       "Male      16095\n",
       "Name: count, dtype: int64"
      ]
     },
     "execution_count": 13,
     "metadata": {},
     "output_type": "execute_result"
    }
   ],
   "source": [
    "# Obtaining the number of male and female respondents in the dataset\n",
    "\n",
    "income_dynamics['sex'].value_counts()"
   ]
  },
  {
   "cell_type": "markdown",
   "id": "f9ac1d0d",
   "metadata": {
    "id": "f9ac1d0d"
   },
   "source": [
    "### Visualizing the number of male and female respondents in the dataset"
   ]
  },
  {
   "cell_type": "code",
   "execution_count": 14,
   "id": "6af44a00",
   "metadata": {
    "id": "6af44a00",
    "outputId": "5db7a669-7205-4aa4-8205-ac168ac5a053",
    "scrolled": true
   },
   "outputs": [
    {
     "data": {
      "text/html": [
       "\n",
       "<style>\n",
       "  #altair-viz-f017efcd3dfe4c5e9de0662b72d7dfa3.vega-embed {\n",
       "    width: 100%;\n",
       "    display: flex;\n",
       "  }\n",
       "\n",
       "  #altair-viz-f017efcd3dfe4c5e9de0662b72d7dfa3.vega-embed details,\n",
       "  #altair-viz-f017efcd3dfe4c5e9de0662b72d7dfa3.vega-embed details summary {\n",
       "    position: relative;\n",
       "  }\n",
       "</style>\n",
       "<div id=\"altair-viz-f017efcd3dfe4c5e9de0662b72d7dfa3\"></div>\n",
       "<script type=\"text/javascript\">\n",
       "  var VEGA_DEBUG = (typeof VEGA_DEBUG == \"undefined\") ? {} : VEGA_DEBUG;\n",
       "  (function(spec, embedOpt){\n",
       "    let outputDiv = document.currentScript.previousElementSibling;\n",
       "    if (outputDiv.id !== \"altair-viz-f017efcd3dfe4c5e9de0662b72d7dfa3\") {\n",
       "      outputDiv = document.getElementById(\"altair-viz-f017efcd3dfe4c5e9de0662b72d7dfa3\");\n",
       "    }\n",
       "    const paths = {\n",
       "      \"vega\": \"https://cdn.jsdelivr.net/npm/vega@5?noext\",\n",
       "      \"vega-lib\": \"https://cdn.jsdelivr.net/npm/vega-lib?noext\",\n",
       "      \"vega-lite\": \"https://cdn.jsdelivr.net/npm/vega-lite@5.14.1?noext\",\n",
       "      \"vega-embed\": \"https://cdn.jsdelivr.net/npm/vega-embed@6?noext\",\n",
       "    };\n",
       "\n",
       "    function maybeLoadScript(lib, version) {\n",
       "      var key = `${lib.replace(\"-\", \"\")}_version`;\n",
       "      return (VEGA_DEBUG[key] == version) ?\n",
       "        Promise.resolve(paths[lib]) :\n",
       "        new Promise(function(resolve, reject) {\n",
       "          var s = document.createElement('script');\n",
       "          document.getElementsByTagName(\"head\")[0].appendChild(s);\n",
       "          s.async = true;\n",
       "          s.onload = () => {\n",
       "            VEGA_DEBUG[key] = version;\n",
       "            return resolve(paths[lib]);\n",
       "          };\n",
       "          s.onerror = () => reject(`Error loading script: ${paths[lib]}`);\n",
       "          s.src = paths[lib];\n",
       "        });\n",
       "    }\n",
       "\n",
       "    function showError(err) {\n",
       "      outputDiv.innerHTML = `<div class=\"error\" style=\"color:red;\">${err}</div>`;\n",
       "      throw err;\n",
       "    }\n",
       "\n",
       "    function displayChart(vegaEmbed) {\n",
       "      vegaEmbed(outputDiv, spec, embedOpt)\n",
       "        .catch(err => showError(`Javascript Error: ${err.message}<br>This usually means there's a typo in your chart specification. See the javascript console for the full traceback.`));\n",
       "    }\n",
       "\n",
       "    if(typeof define === \"function\" && define.amd) {\n",
       "      requirejs.config({paths});\n",
       "      require([\"vega-embed\"], displayChart, err => showError(`Error loading script: ${err.message}`));\n",
       "    } else {\n",
       "      maybeLoadScript(\"vega\", \"5\")\n",
       "        .then(() => maybeLoadScript(\"vega-lite\", \"5.14.1\"))\n",
       "        .then(() => maybeLoadScript(\"vega-embed\", \"6\"))\n",
       "        .catch(showError)\n",
       "        .then(() => displayChart(vegaEmbed));\n",
       "    }\n",
       "  })({\"$schema\": \"https://vega.github.io/schema/vega/v5.json\", \"data\": [{\"name\": \"source_0\", \"values\": [{\"__count\": 16095, \"sex\": \"Male\"}, {\"__count\": 17026, \"sex\": \"Female\"}]}, {\"name\": \"source_0_x_domain_sex\", \"values\": [{\"sex\": \"Male\"}, {\"sex\": \"Female\"}]}, {\"name\": \"source_0_y_domain___count\", \"values\": [{\"min\": 16095, \"max\": 17026}]}, {\"name\": \"source_0_color_domain_sex\", \"values\": [{\"sex\": \"Male\"}, {\"sex\": \"Female\"}]}], \"marks\": [{\"type\": \"rect\", \"name\": \"marks\", \"from\": {\"data\": \"source_0\"}, \"encode\": {\"update\": {\"y\": {\"field\": \"__count\", \"scale\": \"y\"}, \"x\": {\"field\": \"sex\", \"scale\": \"x\"}, \"width\": {\"signal\": \"max(0.25, bandwidth('x'))\"}, \"fill\": {\"field\": \"sex\", \"scale\": \"color\"}, \"ariaRoleDescription\": {\"value\": \"bar\"}, \"description\": {\"signal\": \"\\\"Gender: \\\" + (isValid(datum[\\\"sex\\\"]) ? datum[\\\"sex\\\"] : \\\"\\\"+datum[\\\"sex\\\"]) + \\\"; Count: \\\" + (format(datum[\\\"__count\\\"], \\\"\\\")) + \\\"; sex: \\\" + (isValid(datum[\\\"sex\\\"]) ? datum[\\\"sex\\\"] : \\\"\\\"+datum[\\\"sex\\\"])\"}, \"y2\": {\"value\": 0, \"scale\": \"y\"}}}, \"style\": [\"bar\"]}], \"scales\": [{\"name\": \"x\", \"type\": \"band\", \"domain\": {\"data\": \"source_0_x_domain_sex\", \"field\": \"sex\", \"sort\": true}, \"range\": [0, {\"signal\": \"width\"}], \"paddingOuter\": 0.05, \"paddingInner\": 0.1}, {\"name\": \"y\", \"type\": \"linear\", \"domain\": [{\"signal\": \"(data(\\\"source_0_y_domain___count\\\")[0] || {}).min\"}, {\"signal\": \"(data(\\\"source_0_y_domain___count\\\")[0] || {}).max\"}], \"range\": [{\"signal\": \"height\"}, 0], \"zero\": true, \"nice\": true}, {\"name\": \"color\", \"type\": \"ordinal\", \"domain\": {\"data\": \"source_0_color_domain_sex\", \"field\": \"sex\", \"sort\": true}, \"range\": \"category\"}], \"axes\": [{\"scale\": \"y\", \"orient\": \"left\", \"gridScale\": \"x\", \"domain\": false, \"zindex\": 0, \"maxExtent\": 0, \"tickCount\": {\"signal\": \"ceil(height/40)\"}, \"aria\": false, \"minExtent\": 0, \"ticks\": false, \"labels\": false, \"grid\": true}, {\"scale\": \"x\", \"title\": \"Gender\", \"orient\": \"bottom\", \"labelAngle\": 270, \"grid\": false, \"labelAlign\": \"right\", \"zindex\": 0, \"labelBaseline\": \"middle\"}, {\"scale\": \"y\", \"zindex\": 0, \"title\": \"Count\", \"grid\": false, \"labelOverlap\": true, \"orient\": \"left\", \"tickCount\": {\"signal\": \"ceil(height/40)\"}}], \"width\": 300, \"height\": 300, \"padding\": 5, \"legends\": [{\"fill\": \"color\", \"symbolType\": \"square\", \"title\": \"sex\"}], \"background\": \"white\", \"style\": \"cell\"}, {\"mode\": \"vega\"});\n",
       "</script>"
      ],
      "text/plain": [
       "alt.Chart(...)"
      ]
     },
     "execution_count": 14,
     "metadata": {},
     "output_type": "execute_result"
    }
   ],
   "source": [
    "# Visualizing the gender difference\n",
    "\n",
    "chart = alt.Chart(income_dynamics).mark_bar().encode(\n",
    "    x=alt.X('sex', title='Gender'),\n",
    "    y=alt.Y('count()', title='Count'),\n",
    "    color = 'sex'\n",
    ").properties(width=300)\n",
    "\n",
    "chart_dict = chart.to_dict(format=\"vega\")\n",
    "\n",
    "chart\n"
   ]
  },
  {
   "cell_type": "markdown",
   "id": "ecda9412",
   "metadata": {
    "id": "ecda9412"
   },
   "source": [
    "The difference between men and women accounts to 931. This difference is insignificant, given the humongous size of the whole dataset."
   ]
  },
  {
   "cell_type": "markdown",
   "id": "5fa26c64",
   "metadata": {
    "id": "5fa26c64"
   },
   "source": [
    "# <font color = blue> 1. Does a significant wage gap exists between men and women ?"
   ]
  },
  {
   "cell_type": "code",
   "execution_count": 15,
   "id": "f9408fa0",
   "metadata": {
    "id": "f9408fa0",
    "outputId": "2a6d3836-d4e3-49d4-f299-96819f134003"
   },
   "outputs": [
    {
     "data": {
      "text/plain": [
       "count    33121.000000\n",
       "mean        22.146541\n",
       "std         20.565448\n",
       "min          2.016176\n",
       "25%         12.094047\n",
       "50%         18.071297\n",
       "75%         26.494669\n",
       "max       1000.000000\n",
       "Name: realhrwage, dtype: float64"
      ]
     },
     "execution_count": 15,
     "metadata": {},
     "output_type": "execute_result"
    }
   ],
   "source": [
    "# Obtaining descriptive statistics about the hourly wage\n",
    "\n",
    "income_dynamics['realhrwage'].describe()"
   ]
  },
  {
   "cell_type": "markdown",
   "id": "f238ba6b",
   "metadata": {
    "id": "f238ba6b"
   },
   "source": [
    "### Visualizing the distribution of realhrwage"
   ]
  },
  {
   "cell_type": "code",
   "execution_count": 16,
   "id": "22dfc2af",
   "metadata": {
    "id": "22dfc2af",
    "outputId": "fecd2042-da04-4473-a59f-b40e041a2c5b"
   },
   "outputs": [
    {
     "data": {
      "text/html": [
       "\n",
       "<style>\n",
       "  #altair-viz-4a981ef17ac84686a9251ae0ad7ed8c3.vega-embed {\n",
       "    width: 100%;\n",
       "    display: flex;\n",
       "  }\n",
       "\n",
       "  #altair-viz-4a981ef17ac84686a9251ae0ad7ed8c3.vega-embed details,\n",
       "  #altair-viz-4a981ef17ac84686a9251ae0ad7ed8c3.vega-embed details summary {\n",
       "    position: relative;\n",
       "  }\n",
       "</style>\n",
       "<div id=\"altair-viz-4a981ef17ac84686a9251ae0ad7ed8c3\"></div>\n",
       "<script type=\"text/javascript\">\n",
       "  var VEGA_DEBUG = (typeof VEGA_DEBUG == \"undefined\") ? {} : VEGA_DEBUG;\n",
       "  (function(spec, embedOpt){\n",
       "    let outputDiv = document.currentScript.previousElementSibling;\n",
       "    if (outputDiv.id !== \"altair-viz-4a981ef17ac84686a9251ae0ad7ed8c3\") {\n",
       "      outputDiv = document.getElementById(\"altair-viz-4a981ef17ac84686a9251ae0ad7ed8c3\");\n",
       "    }\n",
       "    const paths = {\n",
       "      \"vega\": \"https://cdn.jsdelivr.net/npm/vega@5?noext\",\n",
       "      \"vega-lib\": \"https://cdn.jsdelivr.net/npm/vega-lib?noext\",\n",
       "      \"vega-lite\": \"https://cdn.jsdelivr.net/npm/vega-lite@5.14.1?noext\",\n",
       "      \"vega-embed\": \"https://cdn.jsdelivr.net/npm/vega-embed@6?noext\",\n",
       "    };\n",
       "\n",
       "    function maybeLoadScript(lib, version) {\n",
       "      var key = `${lib.replace(\"-\", \"\")}_version`;\n",
       "      return (VEGA_DEBUG[key] == version) ?\n",
       "        Promise.resolve(paths[lib]) :\n",
       "        new Promise(function(resolve, reject) {\n",
       "          var s = document.createElement('script');\n",
       "          document.getElementsByTagName(\"head\")[0].appendChild(s);\n",
       "          s.async = true;\n",
       "          s.onload = () => {\n",
       "            VEGA_DEBUG[key] = version;\n",
       "            return resolve(paths[lib]);\n",
       "          };\n",
       "          s.onerror = () => reject(`Error loading script: ${paths[lib]}`);\n",
       "          s.src = paths[lib];\n",
       "        });\n",
       "    }\n",
       "\n",
       "    function showError(err) {\n",
       "      outputDiv.innerHTML = `<div class=\"error\" style=\"color:red;\">${err}</div>`;\n",
       "      throw err;\n",
       "    }\n",
       "\n",
       "    function displayChart(vegaEmbed) {\n",
       "      vegaEmbed(outputDiv, spec, embedOpt)\n",
       "        .catch(err => showError(`Javascript Error: ${err.message}<br>This usually means there's a typo in your chart specification. See the javascript console for the full traceback.`));\n",
       "    }\n",
       "\n",
       "    if(typeof define === \"function\" && define.amd) {\n",
       "      requirejs.config({paths});\n",
       "      require([\"vega-embed\"], displayChart, err => showError(`Error loading script: ${err.message}`));\n",
       "    } else {\n",
       "      maybeLoadScript(\"vega\", \"5\")\n",
       "        .then(() => maybeLoadScript(\"vega-lite\", \"5.14.1\"))\n",
       "        .then(() => maybeLoadScript(\"vega-embed\", \"6\"))\n",
       "        .catch(showError)\n",
       "        .then(() => displayChart(vegaEmbed));\n",
       "    }\n",
       "  })({\"$schema\": \"https://vega.github.io/schema/vega/v5.json\", \"data\": [{\"name\": \"source_0\", \"values\": [{\"__count\": 13484, \"bin_extent_0_1000_maxbins_100_realhrwage\": 10.0, \"bin_extent_0_1000_maxbins_100_realhrwage_end\": 20.0}, {\"__count\": 1362, \"bin_extent_0_1000_maxbins_100_realhrwage\": 40.0, \"bin_extent_0_1000_maxbins_100_realhrwage_end\": 50.0}, {\"__count\": 7977, \"bin_extent_0_1000_maxbins_100_realhrwage\": 20.0, \"bin_extent_0_1000_maxbins_100_realhrwage_end\": 30.0}, {\"__count\": 3273, \"bin_extent_0_1000_maxbins_100_realhrwage\": 30.0, \"bin_extent_0_1000_maxbins_100_realhrwage_end\": 40.0}, {\"__count\": 177, \"bin_extent_0_1000_maxbins_100_realhrwage\": 70.0, \"bin_extent_0_1000_maxbins_100_realhrwage_end\": 80.0}, {\"__count\": 5428, \"bin_extent_0_1000_maxbins_100_realhrwage\": 0.0, \"bin_extent_0_1000_maxbins_100_realhrwage_end\": 10.0}, {\"__count\": 42, \"bin_extent_0_1000_maxbins_100_realhrwage\": 100.0, \"bin_extent_0_1000_maxbins_100_realhrwage_end\": 110.0}, {\"__count\": 27, \"bin_extent_0_1000_maxbins_100_realhrwage\": 120.0, \"bin_extent_0_1000_maxbins_100_realhrwage_end\": 130.0}, {\"__count\": 313, \"bin_extent_0_1000_maxbins_100_realhrwage\": 60.0, \"bin_extent_0_1000_maxbins_100_realhrwage_end\": 70.0}, {\"__count\": 110, \"bin_extent_0_1000_maxbins_100_realhrwage\": 80.0, \"bin_extent_0_1000_maxbins_100_realhrwage_end\": 90.0}, {\"__count\": 704, \"bin_extent_0_1000_maxbins_100_realhrwage\": 50.0, \"bin_extent_0_1000_maxbins_100_realhrwage_end\": 60.0}, {\"__count\": 16, \"bin_extent_0_1000_maxbins_100_realhrwage\": 150.0, \"bin_extent_0_1000_maxbins_100_realhrwage_end\": 160.0}, {\"__count\": 75, \"bin_extent_0_1000_maxbins_100_realhrwage\": 90.0, \"bin_extent_0_1000_maxbins_100_realhrwage_end\": 100.0}, {\"__count\": 19, \"bin_extent_0_1000_maxbins_100_realhrwage\": 140.0, \"bin_extent_0_1000_maxbins_100_realhrwage_end\": 150.0}, {\"__count\": 1, \"bin_extent_0_1000_maxbins_100_realhrwage\": 550.0, \"bin_extent_0_1000_maxbins_100_realhrwage_end\": 560.0}, {\"__count\": 1, \"bin_extent_0_1000_maxbins_100_realhrwage\": 990.0, \"bin_extent_0_1000_maxbins_100_realhrwage_end\": 1000.0}, {\"__count\": 5, \"bin_extent_0_1000_maxbins_100_realhrwage\": 190.0, \"bin_extent_0_1000_maxbins_100_realhrwage_end\": 200.0}, {\"__count\": 32, \"bin_extent_0_1000_maxbins_100_realhrwage\": 110.0, \"bin_extent_0_1000_maxbins_100_realhrwage_end\": 120.0}, {\"__count\": 3, \"bin_extent_0_1000_maxbins_100_realhrwage\": 280.0, \"bin_extent_0_1000_maxbins_100_realhrwage_end\": 290.0}, {\"__count\": 1, \"bin_extent_0_1000_maxbins_100_realhrwage\": 370.0, \"bin_extent_0_1000_maxbins_100_realhrwage_end\": 380.0}, {\"__count\": 4, \"bin_extent_0_1000_maxbins_100_realhrwage\": 270.0, \"bin_extent_0_1000_maxbins_100_realhrwage_end\": 280.0}, {\"__count\": 2, \"bin_extent_0_1000_maxbins_100_realhrwage\": 500.0, \"bin_extent_0_1000_maxbins_100_realhrwage_end\": 510.0}, {\"__count\": 11, \"bin_extent_0_1000_maxbins_100_realhrwage\": 130.0, \"bin_extent_0_1000_maxbins_100_realhrwage_end\": 140.0}, {\"__count\": 2, \"bin_extent_0_1000_maxbins_100_realhrwage\": 210.0, \"bin_extent_0_1000_maxbins_100_realhrwage_end\": 220.0}, {\"__count\": 6, \"bin_extent_0_1000_maxbins_100_realhrwage\": 180.0, \"bin_extent_0_1000_maxbins_100_realhrwage_end\": 190.0}, {\"__count\": 11, \"bin_extent_0_1000_maxbins_100_realhrwage\": 160.0, \"bin_extent_0_1000_maxbins_100_realhrwage_end\": 170.0}, {\"__count\": 1, \"bin_extent_0_1000_maxbins_100_realhrwage\": 410.0, \"bin_extent_0_1000_maxbins_100_realhrwage_end\": 420.0}, {\"__count\": 1, \"bin_extent_0_1000_maxbins_100_realhrwage\": 520.0, \"bin_extent_0_1000_maxbins_100_realhrwage_end\": 530.0}, {\"__count\": 1, \"bin_extent_0_1000_maxbins_100_realhrwage\": 350.0, \"bin_extent_0_1000_maxbins_100_realhrwage_end\": 360.0}, {\"__count\": 4, \"bin_extent_0_1000_maxbins_100_realhrwage\": 240.0, \"bin_extent_0_1000_maxbins_100_realhrwage_end\": 250.0}, {\"__count\": 2, \"bin_extent_0_1000_maxbins_100_realhrwage\": 360.0, \"bin_extent_0_1000_maxbins_100_realhrwage_end\": 370.0}, {\"__count\": 3, \"bin_extent_0_1000_maxbins_100_realhrwage\": 420.0, \"bin_extent_0_1000_maxbins_100_realhrwage_end\": 430.0}, {\"__count\": 10, \"bin_extent_0_1000_maxbins_100_realhrwage\": 170.0, \"bin_extent_0_1000_maxbins_100_realhrwage_end\": 180.0}, {\"__count\": 1, \"bin_extent_0_1000_maxbins_100_realhrwage\": 290.0, \"bin_extent_0_1000_maxbins_100_realhrwage_end\": 300.0}, {\"__count\": 1, \"bin_extent_0_1000_maxbins_100_realhrwage\": 430.0, \"bin_extent_0_1000_maxbins_100_realhrwage_end\": 440.0}, {\"__count\": 2, \"bin_extent_0_1000_maxbins_100_realhrwage\": 200.0, \"bin_extent_0_1000_maxbins_100_realhrwage_end\": 210.0}, {\"__count\": 1, \"bin_extent_0_1000_maxbins_100_realhrwage\": 320.0, \"bin_extent_0_1000_maxbins_100_realhrwage_end\": 330.0}, {\"__count\": 3, \"bin_extent_0_1000_maxbins_100_realhrwage\": 220.0, \"bin_extent_0_1000_maxbins_100_realhrwage_end\": 230.0}, {\"__count\": 1, \"bin_extent_0_1000_maxbins_100_realhrwage\": 610.0, \"bin_extent_0_1000_maxbins_100_realhrwage_end\": 620.0}, {\"__count\": 1, \"bin_extent_0_1000_maxbins_100_realhrwage\": 340.0, \"bin_extent_0_1000_maxbins_100_realhrwage_end\": 350.0}, {\"__count\": 1, \"bin_extent_0_1000_maxbins_100_realhrwage\": 260.0, \"bin_extent_0_1000_maxbins_100_realhrwage_end\": 270.0}, {\"__count\": 1, \"bin_extent_0_1000_maxbins_100_realhrwage\": 950.0, \"bin_extent_0_1000_maxbins_100_realhrwage_end\": 960.0}, {\"__count\": 1, \"bin_extent_0_1000_maxbins_100_realhrwage\": 250.0, \"bin_extent_0_1000_maxbins_100_realhrwage_end\": 260.0}]}, {\"name\": \"source_1\", \"values\": [{\"index\": \"count\", \"realhrwage\": 33121.0}, {\"index\": \"mean\", \"realhrwage\": 22.14654066319274}, {\"index\": \"std\", \"realhrwage\": 20.565448466705266}, {\"index\": \"min\", \"realhrwage\": 2.01617646217346}, {\"index\": \"25%\", \"realhrwage\": 12.0940465927124}, {\"index\": \"50%\", \"realhrwage\": 18.0712966918945}, {\"index\": \"75%\", \"realhrwage\": 26.4946689605713}, {\"index\": \"max\", \"realhrwage\": 1000.0}]}, {\"name\": \"source_0_concat_0_y_domain___count\", \"values\": [{\"min\": 1, \"max\": 13484}]}, {\"name\": \"source_1_concat_1_x_domain_index\", \"values\": [{\"index\": \"count\"}, {\"index\": \"mean\"}, {\"index\": \"std\"}, {\"index\": \"min\"}, {\"index\": \"25%\"}, {\"index\": \"50%\"}, {\"index\": \"75%\"}, {\"index\": \"max\"}]}, {\"name\": \"source_1_concat_1_y_domain_realhrwage\", \"values\": [{\"min\": 2.01617646217346, \"max\": 33121.0}]}], \"signals\": [{\"name\": \"concat_0_bin_extent_0_1000_maxbins_100_realhrwage_bins\", \"value\": {\"fields\": [\"realhrwage\"], \"fname\": \"bin_realhrwage\", \"start\": 0.0, \"step\": 10.0, \"stop\": 1000.0}}, {\"name\": \"concat_0_width\", \"value\": 300}, {\"name\": \"concat_0_height\", \"value\": 300}, {\"name\": \"concat_1_x_step\", \"value\": 20}, {\"name\": \"concat_1_width\", \"update\": \"bandspace(domain('concat_1_x').length, 1, 0.5) * concat_1_x_step\"}, {\"name\": \"concat_1_height\", \"value\": 50}], \"marks\": [{\"type\": \"group\", \"name\": \"concat_0_group\", \"encode\": {\"update\": {\"width\": {\"signal\": \"concat_0_width\"}, \"height\": {\"signal\": \"concat_0_height\"}}}, \"marks\": [{\"type\": \"rect\", \"name\": \"concat_0_marks\", \"from\": {\"data\": \"source_0\"}, \"encode\": {\"update\": {\"x2\": {\"field\": \"bin_extent_0_1000_maxbins_100_realhrwage\", \"scale\": \"concat_0_x\", \"offset\": {\"signal\": \"0.5 + (abs(scale(\\\"concat_0_x\\\", datum[\\\"bin_extent_0_1000_maxbins_100_realhrwage_end\\\"]) - scale(\\\"concat_0_x\\\", datum[\\\"bin_extent_0_1000_maxbins_100_realhrwage\\\"])) < 0.25 ? -0.5 * (0.25 - (abs(scale(\\\"concat_0_x\\\", datum[\\\"bin_extent_0_1000_maxbins_100_realhrwage_end\\\"]) - scale(\\\"concat_0_x\\\", datum[\\\"bin_extent_0_1000_maxbins_100_realhrwage\\\"])))) : 0.5)\"}}, \"description\": {\"signal\": \"\\\"realhrwage (binned): \\\" + (!isValid(datum[\\\"bin_extent_0_1000_maxbins_100_realhrwage\\\"]) || !isFinite(+datum[\\\"bin_extent_0_1000_maxbins_100_realhrwage\\\"]) ? \\\"null\\\" : format(datum[\\\"bin_extent_0_1000_maxbins_100_realhrwage\\\"], \\\"\\\") + \\\" \\u2013 \\\" + format(datum[\\\"bin_extent_0_1000_maxbins_100_realhrwage_end\\\"], \\\"\\\")) + \\\"; Frequency: \\\" + (format(datum[\\\"__count\\\"], \\\"\\\"))\"}, \"x\": {\"field\": \"bin_extent_0_1000_maxbins_100_realhrwage_end\", \"scale\": \"concat_0_x\", \"offset\": {\"signal\": \"0.5 + (abs(scale(\\\"concat_0_x\\\", datum[\\\"bin_extent_0_1000_maxbins_100_realhrwage_end\\\"]) - scale(\\\"concat_0_x\\\", datum[\\\"bin_extent_0_1000_maxbins_100_realhrwage\\\"])) < 0.25 ? 0.5 * (0.25 - (abs(scale(\\\"concat_0_x\\\", datum[\\\"bin_extent_0_1000_maxbins_100_realhrwage_end\\\"]) - scale(\\\"concat_0_x\\\", datum[\\\"bin_extent_0_1000_maxbins_100_realhrwage\\\"])))) : -0.5)\"}}, \"ariaRoleDescription\": {\"value\": \"bar\"}, \"fill\": {\"value\": \"#4c78a8\"}, \"y\": {\"field\": \"__count\", \"scale\": \"concat_0_y\"}, \"y2\": {\"value\": 0, \"scale\": \"concat_0_y\"}}}, \"style\": [\"bar\"]}], \"axes\": [{\"scale\": \"concat_0_x\", \"grid\": true, \"aria\": false, \"orient\": \"bottom\", \"tickCount\": {\"signal\": \"ceil(concat_0_width/10)\"}, \"minExtent\": 0, \"labels\": false, \"ticks\": false, \"maxExtent\": 0, \"zindex\": 0, \"domain\": false, \"gridScale\": \"concat_0_y\"}, {\"scale\": \"concat_0_y\", \"labels\": false, \"ticks\": false, \"tickCount\": {\"signal\": \"ceil(concat_0_height/40)\"}, \"gridScale\": \"concat_0_x\", \"minExtent\": 0, \"orient\": \"left\", \"grid\": true, \"aria\": false, \"maxExtent\": 0, \"zindex\": 0, \"domain\": false}, {\"scale\": \"concat_0_x\", \"labelFlush\": true, \"tickCount\": {\"signal\": \"ceil(concat_0_width/10)\"}, \"orient\": \"bottom\", \"zindex\": 0, \"grid\": false, \"labelOverlap\": true}, {\"scale\": \"concat_0_y\", \"grid\": false, \"orient\": \"left\", \"tickCount\": {\"signal\": \"ceil(concat_0_height/40)\"}, \"labelOverlap\": true, \"zindex\": 0, \"title\": \"Frequency\"}], \"title\": {\"text\": \"Distribution of realhrwage\", \"frame\": \"group\"}, \"style\": \"cell\"}, {\"type\": \"group\", \"name\": \"concat_1_group\", \"encode\": {\"update\": {\"height\": {\"signal\": \"concat_1_height\"}, \"width\": {\"signal\": \"concat_1_width\"}}}, \"marks\": [{\"type\": \"text\", \"name\": \"concat_1_marks\", \"from\": {\"data\": \"source_1\"}, \"encode\": {\"update\": {\"baseline\": {\"value\": \"middle\"}, \"y\": {\"field\": \"realhrwage\", \"scale\": \"concat_1_y\"}, \"x\": {\"field\": \"index\", \"scale\": \"concat_1_x\"}, \"fontSize\": {\"value\": 14}, \"description\": {\"signal\": \"\\\"index: \\\" + (isValid(datum[\\\"index\\\"]) ? datum[\\\"index\\\"] : \\\"\\\"+datum[\\\"index\\\"]) + \\\"; realhrwage: \\\" + (format(datum[\\\"realhrwage\\\"], \\\"\\\"))\"}, \"align\": {\"value\": \"center\"}, \"fill\": {\"value\": \"black\"}}}, \"style\": [\"text\"]}], \"style\": \"cell\"}], \"scales\": [{\"name\": \"concat_0_x\", \"type\": \"linear\", \"domain\": {\"signal\": \"[concat_0_bin_extent_0_1000_maxbins_100_realhrwage_bins.start, concat_0_bin_extent_0_1000_maxbins_100_realhrwage_bins.stop]\"}, \"range\": [0, {\"signal\": \"concat_0_width\"}], \"bins\": {\"signal\": \"concat_0_bin_extent_0_1000_maxbins_100_realhrwage_bins\"}, \"zero\": false}, {\"name\": \"concat_0_y\", \"type\": \"linear\", \"domain\": [{\"signal\": \"(data(\\\"source_0_concat_0_y_domain___count\\\")[0] || {}).min\"}, {\"signal\": \"(data(\\\"source_0_concat_0_y_domain___count\\\")[0] || {}).max\"}], \"range\": [{\"signal\": \"concat_0_height\"}, 0], \"nice\": true, \"zero\": true}, {\"name\": \"concat_1_x\", \"type\": \"point\", \"domain\": {\"data\": \"source_1_concat_1_x_domain_index\", \"field\": \"index\", \"sort\": true}, \"range\": {\"step\": {\"signal\": \"concat_1_x_step\"}}, \"padding\": 0.5}, {\"name\": \"concat_1_y\", \"type\": \"linear\", \"domain\": [{\"signal\": \"(data(\\\"source_1_concat_1_y_domain_realhrwage\\\")[0] || {}).min\"}, {\"signal\": \"(data(\\\"source_1_concat_1_y_domain_realhrwage\\\")[0] || {}).max\"}], \"range\": [{\"signal\": \"concat_1_height\"}, 0], \"zero\": true, \"nice\": true}], \"layout\": {\"padding\": 20, \"columns\": 1, \"bounds\": \"full\", \"align\": \"each\"}, \"padding\": 5, \"background\": \"white\", \"config\": {\"axis\": {\"grid\": true}, \"style\": {\"cell\": {\"strokeWidth\": 0}}}}, {\"mode\": \"vega\"});\n",
       "</script>"
      ],
      "text/plain": [
       "alt.VConcatChart(...)"
      ]
     },
     "execution_count": 16,
     "metadata": {},
     "output_type": "execute_result"
    }
   ],
   "source": [
    "# Summary statistics\n",
    "summary_stats = income_dynamics['realhrwage'].describe().reset_index()\n",
    "\n",
    "# Histogram with limited x-axis range and no title\n",
    "histogram = alt.Chart(income_dynamics).mark_bar().encode(\n",
    "    alt.X('realhrwage',\n",
    "          bin=alt.Bin(maxbins=100, extent=[0, 1000]),  # Set extent to limit the range\n",
    "          title=None  # Remove the title\n",
    "         ),\n",
    "    alt.Y('count()', title='Frequency')\n",
    ").properties(title='Distribution of realhrwage')\n",
    "\n",
    "# Combine the histogram with summary statistics\n",
    "combined_chart = alt.vconcat(histogram,\n",
    "                            alt.Chart(summary_stats).mark_text(size=14).encode(\n",
    "                                x=alt.X('index:N', axis=None),\n",
    "                                y=alt.Y('realhrwage:Q',axis=None)\n",
    "                            ).properties(height=50))\n",
    "\n",
    "# Display the chart\n",
    "combined_chart.configure_axis(grid=True).configure_view(strokeWidth=0)"
   ]
  },
  {
   "cell_type": "markdown",
   "id": "09d9db66",
   "metadata": {
    "id": "09d9db66"
   },
   "source": [
    "From the descriptive statistics and the histogram, it can be observed that,\n",
    "\n",
    "- The wide range between the minimum and maximum wages, along with the high standard deviation, suggests that there is a substantial disparity in hourly wages in the dataset. There may be a presence of extreme values or outliers on the higher end of the wage distribution.\n",
    "- The fact that the maximum wage is so much higher than the 75th percentile (Q3) indicates the potential presence of outliers or extremely high wages.\n",
    "- The median wage (50th percentile) is noticeably lower than the mean, which could indicate a right-skewed distribution with some high values pulling the mean upwards.\n",
    "- The majority data is located in under 50 and the extremely high outliers will influence the mean and trends in the future analysis."
   ]
  },
  {
   "cell_type": "markdown",
   "id": "d92f5830",
   "metadata": {
    "id": "d92f5830"
   },
   "source": [
    "#### Hence, it is important to remove outliers before proceeding with further analysis."
   ]
  },
  {
   "cell_type": "code",
   "execution_count": 17,
   "id": "e32083a8",
   "metadata": {
    "id": "e32083a8"
   },
   "outputs": [],
   "source": [
    "Q1 = income_dynamics['realhrwage'].quantile(0.25)\n",
    "Q3 = income_dynamics['realhrwage'].quantile(0.75)\n",
    "IQR = Q3 - Q1\n",
    "\n",
    "# Define outlier boundaries\n",
    "lower_bound = Q1 - 1.5 * IQR\n",
    "upper_bound = Q3 + 1.5 * IQR\n",
    "\n",
    "# Filter outliers\n",
    "income_dynamics = income_dynamics[(income_dynamics['realhrwage'] >= lower_bound) & (income_dynamics['realhrwage'] <= upper_bound)]"
   ]
  },
  {
   "cell_type": "code",
   "execution_count": 18,
   "id": "e5df377f",
   "metadata": {
    "id": "e5df377f",
    "outputId": "c5078868-fede-463f-8e09-3d723fb13a0e"
   },
   "outputs": [
    {
     "data": {
      "text/html": [
       "<div>\n",
       "<style scoped>\n",
       "    .dataframe tbody tr th:only-of-type {\n",
       "        vertical-align: middle;\n",
       "    }\n",
       "\n",
       "    .dataframe tbody tr th {\n",
       "        vertical-align: top;\n",
       "    }\n",
       "\n",
       "    .dataframe thead th {\n",
       "        text-align: right;\n",
       "    }\n",
       "</style>\n",
       "<table border=\"1\" class=\"dataframe\">\n",
       "  <thead>\n",
       "    <tr style=\"text-align: right;\">\n",
       "      <th></th>\n",
       "      <th>count</th>\n",
       "      <th>mean</th>\n",
       "      <th>std</th>\n",
       "      <th>min</th>\n",
       "      <th>25%</th>\n",
       "      <th>50%</th>\n",
       "      <th>75%</th>\n",
       "      <th>max</th>\n",
       "    </tr>\n",
       "    <tr>\n",
       "      <th>sex</th>\n",
       "      <th></th>\n",
       "      <th></th>\n",
       "      <th></th>\n",
       "      <th></th>\n",
       "      <th></th>\n",
       "      <th></th>\n",
       "      <th></th>\n",
       "      <th></th>\n",
       "    </tr>\n",
       "  </thead>\n",
       "  <tbody>\n",
       "    <tr>\n",
       "      <th>Female</th>\n",
       "      <td>16497.0</td>\n",
       "      <td>17.182356</td>\n",
       "      <td>9.102599</td>\n",
       "      <td>2.016176</td>\n",
       "      <td>10.267138</td>\n",
       "      <td>15.371642</td>\n",
       "      <td>22.160900</td>\n",
       "      <td>48.094776</td>\n",
       "    </tr>\n",
       "    <tr>\n",
       "      <th>Male</th>\n",
       "      <td>14843.0</td>\n",
       "      <td>21.220199</td>\n",
       "      <td>9.672275</td>\n",
       "      <td>2.045915</td>\n",
       "      <td>13.890953</td>\n",
       "      <td>19.662359</td>\n",
       "      <td>27.194426</td>\n",
       "      <td>48.000000</td>\n",
       "    </tr>\n",
       "  </tbody>\n",
       "</table>\n",
       "</div>"
      ],
      "text/plain": [
       "          count       mean       std       min        25%        50%  \\\n",
       "sex                                                                    \n",
       "Female  16497.0  17.182356  9.102599  2.016176  10.267138  15.371642   \n",
       "Male    14843.0  21.220199  9.672275  2.045915  13.890953  19.662359   \n",
       "\n",
       "              75%        max  \n",
       "sex                           \n",
       "Female  22.160900  48.094776  \n",
       "Male    27.194426  48.000000  "
      ]
     },
     "execution_count": 18,
     "metadata": {},
     "output_type": "execute_result"
    }
   ],
   "source": [
    "# Distribution of hourly wage by sex\n",
    "\n",
    "income_dynamics.groupby('sex')['realhrwage'].describe()"
   ]
  },
  {
   "cell_type": "code",
   "execution_count": 19,
   "id": "d61cd3e1",
   "metadata": {
    "id": "d61cd3e1",
    "outputId": "293c2194-84f8-4a55-8b16-3f2e7acabdbc"
   },
   "outputs": [
    {
     "data": {
      "text/html": [
       "\n",
       "<style>\n",
       "  #altair-viz-e67f032b7bbc4b5baa71bee86cd5f952.vega-embed {\n",
       "    width: 100%;\n",
       "    display: flex;\n",
       "  }\n",
       "\n",
       "  #altair-viz-e67f032b7bbc4b5baa71bee86cd5f952.vega-embed details,\n",
       "  #altair-viz-e67f032b7bbc4b5baa71bee86cd5f952.vega-embed details summary {\n",
       "    position: relative;\n",
       "  }\n",
       "</style>\n",
       "<div id=\"altair-viz-e67f032b7bbc4b5baa71bee86cd5f952\"></div>\n",
       "<script type=\"text/javascript\">\n",
       "  var VEGA_DEBUG = (typeof VEGA_DEBUG == \"undefined\") ? {} : VEGA_DEBUG;\n",
       "  (function(spec, embedOpt){\n",
       "    let outputDiv = document.currentScript.previousElementSibling;\n",
       "    if (outputDiv.id !== \"altair-viz-e67f032b7bbc4b5baa71bee86cd5f952\") {\n",
       "      outputDiv = document.getElementById(\"altair-viz-e67f032b7bbc4b5baa71bee86cd5f952\");\n",
       "    }\n",
       "    const paths = {\n",
       "      \"vega\": \"https://cdn.jsdelivr.net/npm/vega@5?noext\",\n",
       "      \"vega-lib\": \"https://cdn.jsdelivr.net/npm/vega-lib?noext\",\n",
       "      \"vega-lite\": \"https://cdn.jsdelivr.net/npm/vega-lite@5.14.1?noext\",\n",
       "      \"vega-embed\": \"https://cdn.jsdelivr.net/npm/vega-embed@6?noext\",\n",
       "    };\n",
       "\n",
       "    function maybeLoadScript(lib, version) {\n",
       "      var key = `${lib.replace(\"-\", \"\")}_version`;\n",
       "      return (VEGA_DEBUG[key] == version) ?\n",
       "        Promise.resolve(paths[lib]) :\n",
       "        new Promise(function(resolve, reject) {\n",
       "          var s = document.createElement('script');\n",
       "          document.getElementsByTagName(\"head\")[0].appendChild(s);\n",
       "          s.async = true;\n",
       "          s.onload = () => {\n",
       "            VEGA_DEBUG[key] = version;\n",
       "            return resolve(paths[lib]);\n",
       "          };\n",
       "          s.onerror = () => reject(`Error loading script: ${paths[lib]}`);\n",
       "          s.src = paths[lib];\n",
       "        });\n",
       "    }\n",
       "\n",
       "    function showError(err) {\n",
       "      outputDiv.innerHTML = `<div class=\"error\" style=\"color:red;\">${err}</div>`;\n",
       "      throw err;\n",
       "    }\n",
       "\n",
       "    function displayChart(vegaEmbed) {\n",
       "      vegaEmbed(outputDiv, spec, embedOpt)\n",
       "        .catch(err => showError(`Javascript Error: ${err.message}<br>This usually means there's a typo in your chart specification. See the javascript console for the full traceback.`));\n",
       "    }\n",
       "\n",
       "    if(typeof define === \"function\" && define.amd) {\n",
       "      requirejs.config({paths});\n",
       "      require([\"vega-embed\"], displayChart, err => showError(`Error loading script: ${err.message}`));\n",
       "    } else {\n",
       "      maybeLoadScript(\"vega\", \"5\")\n",
       "        .then(() => maybeLoadScript(\"vega-lite\", \"5.14.1\"))\n",
       "        .then(() => maybeLoadScript(\"vega-embed\", \"6\"))\n",
       "        .catch(showError)\n",
       "        .then(() => displayChart(vegaEmbed));\n",
       "    }\n",
       "  })({\"$schema\": \"https://vega.github.io/schema/vega/v5.json\", \"data\": [{\"name\": \"source_0\", \"values\": [{\"realhrwage\": 17.18235590711264, \"realhrwage_end\": 17.18235590711264, \"realhrwage_start\": 0.0, \"sex\": \"Female\"}, {\"realhrwage\": 21.220199119030347, \"realhrwage_end\": 21.220199119030347, \"realhrwage_start\": 0.0, \"sex\": \"Male\"}]}, {\"name\": \"source_0_x_domain_sex\", \"values\": [{\"sex\": \"Female\"}, {\"sex\": \"Male\"}]}, {\"name\": \"source_0_color_domain_sex\", \"values\": [{\"sex\": \"Female\"}, {\"sex\": \"Male\"}]}], \"marks\": [{\"type\": \"rect\", \"name\": \"marks\", \"from\": {\"data\": \"source_0\"}, \"encode\": {\"update\": {\"fill\": {\"field\": \"sex\", \"scale\": \"color\"}, \"width\": {\"signal\": \"max(0.25, bandwidth('x'))\"}, \"ariaRoleDescription\": {\"value\": \"bar\"}, \"y2\": {\"field\": \"realhrwage_start\", \"scale\": \"y\"}, \"y\": {\"field\": \"realhrwage_end\", \"scale\": \"y\"}, \"description\": {\"signal\": \"\\\"sex: \\\" + (isValid(datum[\\\"sex\\\"]) ? datum[\\\"sex\\\"] : \\\"\\\"+datum[\\\"sex\\\"]) + \\\"; realhrwage: \\\" + (format(datum[\\\"realhrwage\\\"], \\\"\\\"))\"}, \"tooltip\": {\"signal\": \"{\\\"sex\\\": isValid(datum[\\\"sex\\\"]) ? datum[\\\"sex\\\"] : \\\"\\\"+datum[\\\"sex\\\"], \\\"realhrwage\\\": format(datum[\\\"realhrwage\\\"], \\\"\\\")}\"}, \"x\": {\"field\": \"sex\", \"scale\": \"x\"}}}, \"style\": [\"bar\"]}], \"scales\": [{\"name\": \"x\", \"type\": \"band\", \"domain\": {\"data\": \"source_0_x_domain_sex\", \"field\": \"sex\", \"sort\": true}, \"range\": [0, {\"signal\": \"width\"}], \"paddingOuter\": 0.05, \"paddingInner\": 0.1}, {\"name\": \"y\", \"type\": \"linear\", \"domain\": {\"data\": \"source_0\", \"fields\": [\"realhrwage_start\", \"realhrwage_end\"]}, \"range\": [{\"signal\": \"height\"}, 0], \"nice\": true, \"zero\": true}, {\"name\": \"color\", \"type\": \"ordinal\", \"domain\": {\"data\": \"source_0_color_domain_sex\", \"field\": \"sex\", \"sort\": true}, \"range\": \"category\"}], \"axes\": [{\"scale\": \"y\", \"orient\": \"left\", \"gridScale\": \"x\", \"domain\": false, \"maxExtent\": 0, \"minExtent\": 0, \"tickCount\": {\"signal\": \"ceil(height/40)\"}, \"ticks\": false, \"grid\": true, \"zindex\": 0, \"aria\": false, \"labels\": false}, {\"scale\": \"x\", \"zindex\": 0, \"grid\": false, \"labelBaseline\": \"top\", \"orient\": \"bottom\", \"labelAngle\": 0, \"labels\": false}, {\"scale\": \"y\", \"zindex\": 0, \"title\": \"realhrwage\", \"grid\": false, \"tickCount\": {\"signal\": \"ceil(height/40)\"}, \"labelOverlap\": true, \"orient\": \"left\"}], \"title\": {\"text\": \"Average Real Hourly Wage by Sex\", \"frame\": \"group\"}, \"padding\": 5, \"width\": 300, \"style\": \"cell\", \"legends\": [{\"fill\": \"color\", \"symbolType\": \"square\", \"title\": \"sex\"}], \"background\": \"white\", \"height\": 300}, {\"mode\": \"vega\"});\n",
       "</script>"
      ],
      "text/plain": [
       "alt.Chart(...)"
      ]
     },
     "execution_count": 19,
     "metadata": {},
     "output_type": "execute_result"
    }
   ],
   "source": [
    "# Group the data by 'sex' and calculate the mean of 'realhrwage'\n",
    "grouped_data = income_dynamics.groupby('sex')['realhrwage'].mean().reset_index()\n",
    "\n",
    "# Create the bar chart\n",
    "chart = alt.Chart(grouped_data).mark_bar().encode(\n",
    "    x=alt.X('sex:N', axis=alt.Axis(labelAngle=0, labels=False, title=None)),\n",
    "    y='realhrwage:Q',\n",
    "    color='sex:N',\n",
    "    tooltip=['sex:N', 'realhrwage:Q']\n",
    ").properties(title='Average Real Hourly Wage by Sex',width=300\n",
    ")\n",
    "\n",
    "# Display the plot\n",
    "chart"
   ]
  },
  {
   "cell_type": "markdown",
   "id": "295fdd8b",
   "metadata": {
    "id": "295fdd8b"
   },
   "source": [
    "In this plot, we visulize the mean of wage for male and female. The difference between female wage and male wage is obvious. It indicates that the analysis is based on the fact that female has less wage than male.\n",
    "The average hourly wage of men is clearly higher than that of women by $3."
   ]
  },
  {
   "cell_type": "markdown",
   "id": "78d5078e",
   "metadata": {
    "id": "78d5078e"
   },
   "source": [
    "### Visualizing the hourly wage distribution for men and women"
   ]
  },
  {
   "cell_type": "code",
   "execution_count": 20,
   "id": "00e7b708",
   "metadata": {
    "id": "00e7b708",
    "outputId": "0fed4270-9aec-4cea-cab1-772a382dd2db"
   },
   "outputs": [
    {
     "data": {
      "text/html": [
       "\n",
       "<style>\n",
       "  #altair-viz-12f6cf3e2a84468a909698cb234c8dae.vega-embed {\n",
       "    width: 100%;\n",
       "    display: flex;\n",
       "  }\n",
       "\n",
       "  #altair-viz-12f6cf3e2a84468a909698cb234c8dae.vega-embed details,\n",
       "  #altair-viz-12f6cf3e2a84468a909698cb234c8dae.vega-embed details summary {\n",
       "    position: relative;\n",
       "  }\n",
       "</style>\n",
       "<div id=\"altair-viz-12f6cf3e2a84468a909698cb234c8dae\"></div>\n",
       "<script type=\"text/javascript\">\n",
       "  var VEGA_DEBUG = (typeof VEGA_DEBUG == \"undefined\") ? {} : VEGA_DEBUG;\n",
       "  (function(spec, embedOpt){\n",
       "    let outputDiv = document.currentScript.previousElementSibling;\n",
       "    if (outputDiv.id !== \"altair-viz-12f6cf3e2a84468a909698cb234c8dae\") {\n",
       "      outputDiv = document.getElementById(\"altair-viz-12f6cf3e2a84468a909698cb234c8dae\");\n",
       "    }\n",
       "    const paths = {\n",
       "      \"vega\": \"https://cdn.jsdelivr.net/npm/vega@5?noext\",\n",
       "      \"vega-lib\": \"https://cdn.jsdelivr.net/npm/vega-lib?noext\",\n",
       "      \"vega-lite\": \"https://cdn.jsdelivr.net/npm/vega-lite@5.14.1?noext\",\n",
       "      \"vega-embed\": \"https://cdn.jsdelivr.net/npm/vega-embed@6?noext\",\n",
       "    };\n",
       "\n",
       "    function maybeLoadScript(lib, version) {\n",
       "      var key = `${lib.replace(\"-\", \"\")}_version`;\n",
       "      return (VEGA_DEBUG[key] == version) ?\n",
       "        Promise.resolve(paths[lib]) :\n",
       "        new Promise(function(resolve, reject) {\n",
       "          var s = document.createElement('script');\n",
       "          document.getElementsByTagName(\"head\")[0].appendChild(s);\n",
       "          s.async = true;\n",
       "          s.onload = () => {\n",
       "            VEGA_DEBUG[key] = version;\n",
       "            return resolve(paths[lib]);\n",
       "          };\n",
       "          s.onerror = () => reject(`Error loading script: ${paths[lib]}`);\n",
       "          s.src = paths[lib];\n",
       "        });\n",
       "    }\n",
       "\n",
       "    function showError(err) {\n",
       "      outputDiv.innerHTML = `<div class=\"error\" style=\"color:red;\">${err}</div>`;\n",
       "      throw err;\n",
       "    }\n",
       "\n",
       "    function displayChart(vegaEmbed) {\n",
       "      vegaEmbed(outputDiv, spec, embedOpt)\n",
       "        .catch(err => showError(`Javascript Error: ${err.message}<br>This usually means there's a typo in your chart specification. See the javascript console for the full traceback.`));\n",
       "    }\n",
       "\n",
       "    if(typeof define === \"function\" && define.amd) {\n",
       "      requirejs.config({paths});\n",
       "      require([\"vega-embed\"], displayChart, err => showError(`Error loading script: ${err.message}`));\n",
       "    } else {\n",
       "      maybeLoadScript(\"vega\", \"5\")\n",
       "        .then(() => maybeLoadScript(\"vega-lite\", \"5.14.1\"))\n",
       "        .then(() => maybeLoadScript(\"vega-embed\", \"6\"))\n",
       "        .catch(showError)\n",
       "        .then(() => displayChart(vegaEmbed));\n",
       "    }\n",
       "  })({\"$schema\": \"https://vega.github.io/schema/vega/v5.json\", \"data\": [{\"name\": \"source_0\", \"values\": [{\"__count\": 1193, \"__count_end\": 1193.0, \"__count_start\": 0.0, \"bin_extent_0_60_maxbins_30_realhrwage\": 14.0, \"bin_extent_0_60_maxbins_30_realhrwage_end\": 16.0, \"sex\": \"Male\"}, {\"__count\": 255, \"__count_end\": 255.0, \"__count_start\": 0.0, \"bin_extent_0_60_maxbins_30_realhrwage\": 40.0, \"bin_extent_0_60_maxbins_30_realhrwage_end\": 42.0, \"sex\": \"Male\"}, {\"__count\": 1281, \"__count_end\": 1281.0, \"__count_start\": 0.0, \"bin_extent_0_60_maxbins_30_realhrwage\": 18.0, \"bin_extent_0_60_maxbins_30_realhrwage_end\": 20.0, \"sex\": \"Male\"}, {\"__count\": 979, \"__count_end\": 979.0, \"__count_start\": 0.0, \"bin_extent_0_60_maxbins_30_realhrwage\": 10.0, \"bin_extent_0_60_maxbins_30_realhrwage_end\": 12.0, \"sex\": \"Male\"}, {\"__count\": 1007, \"__count_end\": 1007.0, \"__count_start\": 0.0, \"bin_extent_0_60_maxbins_30_realhrwage\": 22.0, \"bin_extent_0_60_maxbins_30_realhrwage_end\": 24.0, \"sex\": \"Male\"}, {\"__count\": 520, \"__count_end\": 520.0, \"__count_start\": 0.0, \"bin_extent_0_60_maxbins_30_realhrwage\": 30.0, \"bin_extent_0_60_maxbins_30_realhrwage_end\": 32.0, \"sex\": \"Male\"}, {\"__count\": 1077, \"__count_end\": 1077.0, \"__count_start\": 0.0, \"bin_extent_0_60_maxbins_30_realhrwage\": 20.0, \"bin_extent_0_60_maxbins_30_realhrwage_end\": 22.0, \"sex\": \"Male\"}, {\"__count\": 944, \"__count_end\": 944.0, \"__count_start\": 0.0, \"bin_extent_0_60_maxbins_30_realhrwage\": 24.0, \"bin_extent_0_60_maxbins_30_realhrwage_end\": 26.0, \"sex\": \"Male\"}, {\"__count\": 649, \"__count_end\": 649.0, \"__count_start\": 0.0, \"bin_extent_0_60_maxbins_30_realhrwage\": 28.0, \"bin_extent_0_60_maxbins_30_realhrwage_end\": 30.0, \"sex\": \"Male\"}, {\"__count\": 1222, \"__count_end\": 1222.0, \"__count_start\": 0.0, \"bin_extent_0_60_maxbins_30_realhrwage\": 12.0, \"bin_extent_0_60_maxbins_30_realhrwage_end\": 14.0, \"sex\": \"Male\"}, {\"__count\": 811, \"__count_end\": 811.0, \"__count_start\": 0.0, \"bin_extent_0_60_maxbins_30_realhrwage\": 26.0, \"bin_extent_0_60_maxbins_30_realhrwage_end\": 28.0, \"sex\": \"Male\"}, {\"__count\": 374, \"__count_end\": 374.0, \"__count_start\": 0.0, \"bin_extent_0_60_maxbins_30_realhrwage\": 34.0, \"bin_extent_0_60_maxbins_30_realhrwage_end\": 36.0, \"sex\": \"Male\"}, {\"__count\": 771, \"__count_end\": 771.0, \"__count_start\": 0.0, \"bin_extent_0_60_maxbins_30_realhrwage\": 8.0, \"bin_extent_0_60_maxbins_30_realhrwage_end\": 10.0, \"sex\": \"Male\"}, {\"__count\": 475, \"__count_end\": 475.0, \"__count_start\": 0.0, \"bin_extent_0_60_maxbins_30_realhrwage\": 32.0, \"bin_extent_0_60_maxbins_30_realhrwage_end\": 34.0, \"sex\": \"Male\"}, {\"__count\": 293, \"__count_end\": 293.0, \"__count_start\": 0.0, \"bin_extent_0_60_maxbins_30_realhrwage\": 38.0, \"bin_extent_0_60_maxbins_30_realhrwage_end\": 40.0, \"sex\": \"Male\"}, {\"__count\": 459, \"__count_end\": 459.0, \"__count_start\": 0.0, \"bin_extent_0_60_maxbins_30_realhrwage\": 6.0, \"bin_extent_0_60_maxbins_30_realhrwage_end\": 8.0, \"sex\": \"Male\"}, {\"__count\": 1350, \"__count_end\": 1350.0, \"__count_start\": 0.0, \"bin_extent_0_60_maxbins_30_realhrwage\": 16.0, \"bin_extent_0_60_maxbins_30_realhrwage_end\": 18.0, \"sex\": \"Male\"}, {\"__count\": 122, \"__count_end\": 122.0, \"__count_start\": 0.0, \"bin_extent_0_60_maxbins_30_realhrwage\": 2.0, \"bin_extent_0_60_maxbins_30_realhrwage_end\": 4.0, \"sex\": \"Male\"}, {\"__count\": 332, \"__count_end\": 332.0, \"__count_start\": 0.0, \"bin_extent_0_60_maxbins_30_realhrwage\": 36.0, \"bin_extent_0_60_maxbins_30_realhrwage_end\": 38.0, \"sex\": \"Male\"}, {\"__count\": 204, \"__count_end\": 204.0, \"__count_start\": 0.0, \"bin_extent_0_60_maxbins_30_realhrwage\": 42.0, \"bin_extent_0_60_maxbins_30_realhrwage_end\": 44.0, \"sex\": \"Male\"}, {\"__count\": 160, \"__count_end\": 160.0, \"__count_start\": 0.0, \"bin_extent_0_60_maxbins_30_realhrwage\": 44.0, \"bin_extent_0_60_maxbins_30_realhrwage_end\": 46.0, \"sex\": \"Male\"}, {\"__count\": 138, \"__count_end\": 138.0, \"__count_start\": 0.0, \"bin_extent_0_60_maxbins_30_realhrwage\": 46.0, \"bin_extent_0_60_maxbins_30_realhrwage_end\": 48.0, \"sex\": \"Male\"}, {\"__count\": 226, \"__count_end\": 226.0, \"__count_start\": 0.0, \"bin_extent_0_60_maxbins_30_realhrwage\": 4.0, \"bin_extent_0_60_maxbins_30_realhrwage_end\": 6.0, \"sex\": \"Male\"}, {\"__count\": 1, \"__count_end\": 1.0, \"__count_start\": 0.0, \"bin_extent_0_60_maxbins_30_realhrwage\": 48.0, \"bin_extent_0_60_maxbins_30_realhrwage_end\": 50.0, \"sex\": \"Male\"}, {\"__count\": 1606, \"__count_end\": 2828.0, \"__count_start\": 1222.0, \"bin_extent_0_60_maxbins_30_realhrwage\": 12.0, \"bin_extent_0_60_maxbins_30_realhrwage_end\": 14.0, \"sex\": \"Female\"}, {\"__count\": 188, \"__count_end\": 520.0, \"__count_start\": 332.0, \"bin_extent_0_60_maxbins_30_realhrwage\": 36.0, \"bin_extent_0_60_maxbins_30_realhrwage_end\": 38.0, \"sex\": \"Female\"}, {\"__count\": 983, \"__count_end\": 2060.0, \"__count_start\": 1077.0, \"bin_extent_0_60_maxbins_30_realhrwage\": 20.0, \"bin_extent_0_60_maxbins_30_realhrwage_end\": 22.0, \"sex\": \"Female\"}, {\"__count\": 1422, \"__count_end\": 2772.0, \"__count_start\": 1350.0, \"bin_extent_0_60_maxbins_30_realhrwage\": 16.0, \"bin_extent_0_60_maxbins_30_realhrwage_end\": 18.0, \"sex\": \"Female\"}, {\"__count\": 687, \"__count_end\": 1631.0, \"__count_start\": 944.0, \"bin_extent_0_60_maxbins_30_realhrwage\": 24.0, \"bin_extent_0_60_maxbins_30_realhrwage_end\": 26.0, \"sex\": \"Female\"}, {\"__count\": 1697, \"__count_end\": 2468.0, \"__count_start\": 771.0, \"bin_extent_0_60_maxbins_30_realhrwage\": 8.0, \"bin_extent_0_60_maxbins_30_realhrwage_end\": 10.0, \"sex\": \"Female\"}, {\"__count\": 1170, \"__count_end\": 2451.0, \"__count_start\": 1281.0, \"bin_extent_0_60_maxbins_30_realhrwage\": 18.0, \"bin_extent_0_60_maxbins_30_realhrwage_end\": 20.0, \"sex\": \"Female\"}, {\"__count\": 522, \"__count_end\": 1333.0, \"__count_start\": 811.0, \"bin_extent_0_60_maxbins_30_realhrwage\": 26.0, \"bin_extent_0_60_maxbins_30_realhrwage_end\": 28.0, \"sex\": \"Female\"}, {\"__count\": 1532, \"__count_end\": 2725.0, \"__count_start\": 1193.0, \"bin_extent_0_60_maxbins_30_realhrwage\": 14.0, \"bin_extent_0_60_maxbins_30_realhrwage_end\": 16.0, \"sex\": \"Female\"}, {\"__count\": 123, \"__count_end\": 378.0, \"__count_start\": 255.0, \"bin_extent_0_60_maxbins_30_realhrwage\": 40.0, \"bin_extent_0_60_maxbins_30_realhrwage_end\": 42.0, \"sex\": \"Female\"}, {\"__count\": 1729, \"__count_end\": 2708.0, \"__count_start\": 979.0, \"bin_extent_0_60_maxbins_30_realhrwage\": 10.0, \"bin_extent_0_60_maxbins_30_realhrwage_end\": 12.0, \"sex\": \"Female\"}, {\"__count\": 635, \"__count_end\": 861.0, \"__count_start\": 226.0, \"bin_extent_0_60_maxbins_30_realhrwage\": 4.0, \"bin_extent_0_60_maxbins_30_realhrwage_end\": 6.0, \"sex\": \"Female\"}, {\"__count\": 303, \"__count_end\": 778.0, \"__count_start\": 475.0, \"bin_extent_0_60_maxbins_30_realhrwage\": 32.0, \"bin_extent_0_60_maxbins_30_realhrwage_end\": 34.0, \"sex\": \"Female\"}, {\"__count\": 853, \"__count_end\": 1860.0, \"__count_start\": 1007.0, \"bin_extent_0_60_maxbins_30_realhrwage\": 22.0, \"bin_extent_0_60_maxbins_30_realhrwage_end\": 24.0, \"sex\": \"Female\"}, {\"__count\": 276, \"__count_end\": 398.0, \"__count_start\": 122.0, \"bin_extent_0_60_maxbins_30_realhrwage\": 2.0, \"bin_extent_0_60_maxbins_30_realhrwage_end\": 4.0, \"sex\": \"Female\"}, {\"__count\": 444, \"__count_end\": 1093.0, \"__count_start\": 649.0, \"bin_extent_0_60_maxbins_30_realhrwage\": 28.0, \"bin_extent_0_60_maxbins_30_realhrwage_end\": 30.0, \"sex\": \"Female\"}, {\"__count\": 1242, \"__count_end\": 1701.0, \"__count_start\": 459.0, \"bin_extent_0_60_maxbins_30_realhrwage\": 6.0, \"bin_extent_0_60_maxbins_30_realhrwage_end\": 8.0, \"sex\": \"Female\"}, {\"__count\": 94, \"__count_end\": 254.0, \"__count_start\": 160.0, \"bin_extent_0_60_maxbins_30_realhrwage\": 44.0, \"bin_extent_0_60_maxbins_30_realhrwage_end\": 46.0, \"sex\": \"Female\"}, {\"__count\": 176, \"__count_end\": 469.0, \"__count_start\": 293.0, \"bin_extent_0_60_maxbins_30_realhrwage\": 38.0, \"bin_extent_0_60_maxbins_30_realhrwage_end\": 40.0, \"sex\": \"Female\"}, {\"__count\": 84, \"__count_end\": 222.0, \"__count_start\": 138.0, \"bin_extent_0_60_maxbins_30_realhrwage\": 46.0, \"bin_extent_0_60_maxbins_30_realhrwage_end\": 48.0, \"sex\": \"Female\"}, {\"__count\": 384, \"__count_end\": 904.0, \"__count_start\": 520.0, \"bin_extent_0_60_maxbins_30_realhrwage\": 30.0, \"bin_extent_0_60_maxbins_30_realhrwage_end\": 32.0, \"sex\": \"Female\"}, {\"__count\": 228, \"__count_end\": 602.0, \"__count_start\": 374.0, \"bin_extent_0_60_maxbins_30_realhrwage\": 34.0, \"bin_extent_0_60_maxbins_30_realhrwage_end\": 36.0, \"sex\": \"Female\"}, {\"__count\": 3, \"__count_end\": 4.0, \"__count_start\": 1.0, \"bin_extent_0_60_maxbins_30_realhrwage\": 48.0, \"bin_extent_0_60_maxbins_30_realhrwage_end\": 50.0, \"sex\": \"Female\"}, {\"__count\": 116, \"__count_end\": 320.0, \"__count_start\": 204.0, \"bin_extent_0_60_maxbins_30_realhrwage\": 42.0, \"bin_extent_0_60_maxbins_30_realhrwage_end\": 44.0, \"sex\": \"Female\"}]}, {\"name\": \"source_1\", \"values\": [{\"index\": \"count\", \"realhrwage\": 31340.0}, {\"index\": \"mean\", \"realhrwage\": 19.094726896088215}, {\"index\": \"std\", \"realhrwage\": 9.590873792023666}, {\"index\": \"min\", \"realhrwage\": 2.01617646217346}, {\"index\": \"25%\", \"realhrwage\": 11.7661325931549}, {\"index\": \"50%\", \"realhrwage\": 17.37178802490235}, {\"index\": \"75%\", \"realhrwage\": 24.7541656494141}, {\"index\": \"max\", \"realhrwage\": 48.0947761535645}]}, {\"name\": \"source_0_color_domain_sex\", \"values\": [{\"sex\": \"Male\"}, {\"sex\": \"Female\"}]}, {\"name\": \"source_1_layer_1_x_domain_index\", \"values\": [{\"index\": \"count\"}, {\"index\": \"mean\"}, {\"index\": \"std\"}, {\"index\": \"min\"}, {\"index\": \"25%\"}, {\"index\": \"50%\"}, {\"index\": \"75%\"}, {\"index\": \"max\"}]}, {\"name\": \"source_1_layer_1_y_domain_realhrwage\", \"values\": [{\"min\": 2.01617646217346, \"max\": 31340.0}]}], \"signals\": [{\"name\": \"layer_0_bin_extent_0_60_maxbins_30_realhrwage_bins\", \"value\": {\"fields\": [\"realhrwage\"], \"fname\": \"bin_realhrwage\", \"start\": 0.0, \"step\": 2.0, \"stop\": 60.0}}], \"marks\": [{\"type\": \"rect\", \"name\": \"layer_0_marks\", \"from\": {\"data\": \"source_0\"}, \"encode\": {\"update\": {\"y\": {\"field\": \"__count_end\", \"scale\": \"layer_0_y\"}, \"y2\": {\"field\": \"__count_start\", \"scale\": \"layer_0_y\"}, \"ariaRoleDescription\": {\"value\": \"bar\"}, \"description\": {\"signal\": \"\\\"Hourly Wage: \\\" + (!isValid(datum[\\\"bin_extent_0_60_maxbins_30_realhrwage\\\"]) || !isFinite(+datum[\\\"bin_extent_0_60_maxbins_30_realhrwage\\\"]) ? \\\"null\\\" : format(datum[\\\"bin_extent_0_60_maxbins_30_realhrwage\\\"], \\\"\\\") + \\\" \\u2013 \\\" + format(datum[\\\"bin_extent_0_60_maxbins_30_realhrwage_end\\\"], \\\"\\\")) + \\\"; Frequency: \\\" + (format(datum[\\\"__count\\\"], \\\"\\\")) + \\\"; sex: \\\" + (isValid(datum[\\\"sex\\\"]) ? datum[\\\"sex\\\"] : \\\"\\\"+datum[\\\"sex\\\"])\"}, \"fill\": {\"field\": \"sex\", \"scale\": \"color\"}, \"x2\": {\"field\": \"bin_extent_0_60_maxbins_30_realhrwage\", \"scale\": \"layer_0_x\", \"offset\": {\"signal\": \"0.5 + (abs(scale(\\\"layer_0_x\\\", datum[\\\"bin_extent_0_60_maxbins_30_realhrwage_end\\\"]) - scale(\\\"layer_0_x\\\", datum[\\\"bin_extent_0_60_maxbins_30_realhrwage\\\"])) < 0.25 ? -0.5 * (0.25 - (abs(scale(\\\"layer_0_x\\\", datum[\\\"bin_extent_0_60_maxbins_30_realhrwage_end\\\"]) - scale(\\\"layer_0_x\\\", datum[\\\"bin_extent_0_60_maxbins_30_realhrwage\\\"])))) : 0.5)\"}}, \"x\": {\"field\": \"bin_extent_0_60_maxbins_30_realhrwage_end\", \"scale\": \"layer_0_x\", \"offset\": {\"signal\": \"0.5 + (abs(scale(\\\"layer_0_x\\\", datum[\\\"bin_extent_0_60_maxbins_30_realhrwage_end\\\"]) - scale(\\\"layer_0_x\\\", datum[\\\"bin_extent_0_60_maxbins_30_realhrwage\\\"])) < 0.25 ? 0.5 * (0.25 - (abs(scale(\\\"layer_0_x\\\", datum[\\\"bin_extent_0_60_maxbins_30_realhrwage_end\\\"]) - scale(\\\"layer_0_x\\\", datum[\\\"bin_extent_0_60_maxbins_30_realhrwage\\\"])))) : -0.5)\"}}}}, \"style\": [\"bar\"]}, {\"type\": \"text\", \"name\": \"layer_1_marks\", \"from\": {\"data\": \"source_1\"}, \"encode\": {\"update\": {\"description\": {\"signal\": \"\\\"index: \\\" + (isValid(datum[\\\"index\\\"]) ? datum[\\\"index\\\"] : \\\"\\\"+datum[\\\"index\\\"]) + \\\"; realhrwage: \\\" + (format(datum[\\\"realhrwage\\\"], \\\"\\\"))\"}, \"baseline\": {\"value\": \"middle\"}, \"fontSize\": {\"value\": 14}, \"fill\": {\"value\": \"black\"}, \"x\": {\"field\": \"index\", \"scale\": \"layer_1_x\"}, \"y\": {\"field\": \"realhrwage\", \"scale\": \"layer_1_y\"}, \"align\": {\"value\": \"center\"}}}, \"style\": [\"text\"]}], \"scales\": [{\"name\": \"color\", \"type\": \"ordinal\", \"domain\": {\"data\": \"source_0_color_domain_sex\", \"field\": \"sex\", \"sort\": true}, \"range\": \"category\"}, {\"name\": \"layer_0_x\", \"type\": \"linear\", \"domain\": {\"signal\": \"[layer_0_bin_extent_0_60_maxbins_30_realhrwage_bins.start, layer_0_bin_extent_0_60_maxbins_30_realhrwage_bins.stop]\"}, \"range\": [0, {\"signal\": \"width\"}], \"bins\": {\"signal\": \"layer_0_bin_extent_0_60_maxbins_30_realhrwage_bins\"}, \"zero\": false}, {\"name\": \"layer_0_y\", \"type\": \"linear\", \"domain\": {\"data\": \"source_0\", \"fields\": [\"__count_start\", \"__count_end\"]}, \"range\": [{\"signal\": \"height\"}, 0], \"nice\": true, \"zero\": true}, {\"name\": \"layer_1_x\", \"type\": \"point\", \"domain\": {\"data\": \"source_1_layer_1_x_domain_index\", \"field\": \"index\", \"sort\": true}, \"range\": [0, {\"signal\": \"width\"}], \"padding\": 0.5}, {\"name\": \"layer_1_y\", \"type\": \"linear\", \"domain\": [{\"signal\": \"(data(\\\"source_1_layer_1_y_domain_realhrwage\\\")[0] || {}).min\"}, {\"signal\": \"(data(\\\"source_1_layer_1_y_domain_realhrwage\\\")[0] || {}).max\"}], \"range\": [{\"signal\": \"height\"}, 0], \"nice\": true, \"zero\": true}], \"axes\": [{\"scale\": \"layer_0_x\", \"ticks\": false, \"aria\": false, \"labels\": false, \"orient\": \"bottom\", \"gridScale\": \"layer_0_y\", \"grid\": true, \"maxExtent\": 0, \"minExtent\": 0, \"domain\": false, \"tickCount\": {\"signal\": \"ceil(width/10)\"}, \"zindex\": 0}, {\"scale\": \"layer_0_y\", \"minExtent\": 0, \"ticks\": false, \"tickCount\": {\"signal\": \"ceil(height/40)\"}, \"aria\": false, \"orient\": \"left\", \"maxExtent\": 0, \"zindex\": 0, \"labels\": false, \"gridScale\": \"layer_0_x\", \"grid\": true, \"domain\": false}, {\"scale\": \"layer_0_x\", \"grid\": false, \"tickCount\": {\"signal\": \"ceil(width/10)\"}, \"labelOverlap\": true, \"title\": \"Hourly Wage\", \"zindex\": 0, \"orient\": \"bottom\", \"labelFlush\": true}, {\"scale\": \"layer_0_y\", \"grid\": false, \"labelOverlap\": true, \"title\": \"Frequency\", \"orient\": \"left\", \"tickCount\": {\"signal\": \"ceil(height/40)\"}, \"zindex\": 0}], \"title\": {\"text\": \"Distribution of realhrwage\", \"align\": \"center\", \"frame\": \"group\"}, \"height\": 200, \"legends\": [{\"fill\": \"color\", \"symbolType\": \"square\", \"title\": \"sex\"}], \"config\": {\"axis\": {\"grid\": true}, \"legend\": {\"legendX\": 200, \"legendY\": 20, \"orient\": \"none\"}, \"style\": {\"cell\": {\"strokeWidth\": 0}}}, \"style\": \"cell\", \"padding\": 5, \"background\": \"white\", \"width\": 400}, {\"mode\": \"vega\"});\n",
       "</script>"
      ],
      "text/plain": [
       "alt.LayerChart(...)"
      ]
     },
     "execution_count": 20,
     "metadata": {},
     "output_type": "execute_result"
    }
   ],
   "source": [
    "# Summary statistics\n",
    "summary_stats = income_dynamics['realhrwage'].describe().reset_index()\n",
    "\n",
    "# Histogram for both sexes\n",
    "histogram = alt.Chart(income_dynamics).mark_bar().encode(\n",
    "    alt.X('realhrwage', bin=alt.Bin(maxbins=30, extent=[0, 60]), title='Hourly Wage'),\n",
    "    alt.Y('count()', title='Frequency'),\n",
    "    color='sex:N'\n",
    ").properties(title=alt.TitleParams(text='Distribution of realhrwage', align='center'), width=400)\n",
    "\n",
    "# Overlay summary statistics\n",
    "text = alt.Chart(summary_stats).mark_text(size=14).encode(\n",
    "    x=alt.X('index:N', axis=None),\n",
    "    y=alt.Y('realhrwage:Q', axis=None)\n",
    ").properties(height=200)\n",
    "\n",
    "# Combine histogram and summary statistics\n",
    "combined_chart = alt.layer(histogram, text, data=income_dynamics).resolve_scale(y='independent')\n",
    "\n",
    "# Display the chart\n",
    "combined_chart.configure_axis(grid=True).configure_view(strokeWidth=0).configure_legend(orient='none', legendX=200, legendY=20)"
   ]
  },
  {
   "cell_type": "markdown",
   "id": "2009236e",
   "metadata": {
    "id": "2009236e"
   },
   "source": [
    "In this plot, we can see the female wage distribution is more right skewed than male. The distribution is not same which means the bias might happen because of the gender. But we also need to exclude other reasons in the further analysis.\n",
    "\n",
    "\n",
    "As it can be observed from the graph, the average hourly wage for female is lower than the average hourly wage for male.\n",
    "\n",
    "#### As the next step, we wanted to analyze if this is pertinent to the nature of the job done by men and women."
   ]
  },
  {
   "cell_type": "markdown",
   "id": "5621d8bc",
   "metadata": {
    "id": "5621d8bc"
   },
   "source": [
    "# <font color = blue> Is the observed disparity specific to certain occupations/industry ?"
   ]
  },
  {
   "cell_type": "markdown",
   "id": "0d6e45c2",
   "metadata": {
    "id": "0d6e45c2"
   },
   "source": [
    "### Visualizing the proportion of men and women working across industries"
   ]
  },
  {
   "cell_type": "code",
   "execution_count": 21,
   "id": "47e89fde",
   "metadata": {
    "id": "47e89fde"
   },
   "outputs": [],
   "source": [
    "# Creating a subset of data with occupation specific variables.\n",
    "\n",
    "occ_dynamics = income_dynamics[['sex','annhrs','realhrwage','Agriculture', 'miningconstruction', 'durables', 'nondurables', 'Transport', 'Utilities',\n",
    "                                   'Communications', 'retailtrade', 'wholesaletrade', 'finance', 'SocArtOther',\n",
    "                                   'hotelsrestaurants', 'Medical', 'Education', 'professional', 'publicadmin', 'sumind',\n",
    "                                   'manager', 'business', 'financialop', 'computer', 'architect', 'scientist', 'socialworker',\n",
    "                                   'postseceduc', 'legaleduc', 'artist', 'lawyerphysician', 'healthcare', 'healthsupport',\n",
    "                                   'protective', 'foodcare', 'building', 'sales', 'officeadmin', 'farmer',\n",
    "                                   'constructextractinstall', 'production', 'transport']]"
   ]
  },
  {
   "cell_type": "code",
   "execution_count": 22,
   "id": "91a1d233",
   "metadata": {
    "id": "91a1d233"
   },
   "outputs": [],
   "source": [
    "# Define a function to get the occupation name\n",
    "def get_field(row):\n",
    "    fields = row[1:].index[row[1:] == 1]  # Exclude 'sex' column\n",
    "    if len(fields) > 0:\n",
    "        return fields[0]\n",
    "    else:\n",
    "        return 'None'"
   ]
  },
  {
   "cell_type": "code",
   "execution_count": 23,
   "id": "7e77b63c",
   "metadata": {
    "id": "7e77b63c"
   },
   "outputs": [],
   "source": [
    "occ_dynamics = occ_dynamics.copy()\n",
    "\n",
    "# Apply the function to create the 'Field' column\n",
    "occ_dynamics['Field of Work'] = occ_dynamics.apply(get_field, axis=1)"
   ]
  },
  {
   "cell_type": "code",
   "execution_count": 24,
   "id": "aedc25ba",
   "metadata": {
    "id": "aedc25ba"
   },
   "outputs": [],
   "source": [
    "income_dynamics = income_dynamics.copy()\n",
    "\n",
    "income_dynamics['Field of Work'] = occ_dynamics['Field of Work']"
   ]
  },
  {
   "cell_type": "code",
   "execution_count": 25,
   "id": "19f6db64",
   "metadata": {
    "id": "19f6db64",
    "outputId": "afd3532d-6090-4cb5-bc16-050afeb55548",
    "scrolled": true
   },
   "outputs": [
    {
     "data": {
      "text/html": [
       "\n",
       "<style>\n",
       "  #altair-viz-e65e2a22afec42768ee9b861ebebf533.vega-embed {\n",
       "    width: 100%;\n",
       "    display: flex;\n",
       "  }\n",
       "\n",
       "  #altair-viz-e65e2a22afec42768ee9b861ebebf533.vega-embed details,\n",
       "  #altair-viz-e65e2a22afec42768ee9b861ebebf533.vega-embed details summary {\n",
       "    position: relative;\n",
       "  }\n",
       "</style>\n",
       "<div id=\"altair-viz-e65e2a22afec42768ee9b861ebebf533\"></div>\n",
       "<script type=\"text/javascript\">\n",
       "  var VEGA_DEBUG = (typeof VEGA_DEBUG == \"undefined\") ? {} : VEGA_DEBUG;\n",
       "  (function(spec, embedOpt){\n",
       "    let outputDiv = document.currentScript.previousElementSibling;\n",
       "    if (outputDiv.id !== \"altair-viz-e65e2a22afec42768ee9b861ebebf533\") {\n",
       "      outputDiv = document.getElementById(\"altair-viz-e65e2a22afec42768ee9b861ebebf533\");\n",
       "    }\n",
       "    const paths = {\n",
       "      \"vega\": \"https://cdn.jsdelivr.net/npm/vega@5?noext\",\n",
       "      \"vega-lib\": \"https://cdn.jsdelivr.net/npm/vega-lib?noext\",\n",
       "      \"vega-lite\": \"https://cdn.jsdelivr.net/npm/vega-lite@5.14.1?noext\",\n",
       "      \"vega-embed\": \"https://cdn.jsdelivr.net/npm/vega-embed@6?noext\",\n",
       "    };\n",
       "\n",
       "    function maybeLoadScript(lib, version) {\n",
       "      var key = `${lib.replace(\"-\", \"\")}_version`;\n",
       "      return (VEGA_DEBUG[key] == version) ?\n",
       "        Promise.resolve(paths[lib]) :\n",
       "        new Promise(function(resolve, reject) {\n",
       "          var s = document.createElement('script');\n",
       "          document.getElementsByTagName(\"head\")[0].appendChild(s);\n",
       "          s.async = true;\n",
       "          s.onload = () => {\n",
       "            VEGA_DEBUG[key] = version;\n",
       "            return resolve(paths[lib]);\n",
       "          };\n",
       "          s.onerror = () => reject(`Error loading script: ${paths[lib]}`);\n",
       "          s.src = paths[lib];\n",
       "        });\n",
       "    }\n",
       "\n",
       "    function showError(err) {\n",
       "      outputDiv.innerHTML = `<div class=\"error\" style=\"color:red;\">${err}</div>`;\n",
       "      throw err;\n",
       "    }\n",
       "\n",
       "    function displayChart(vegaEmbed) {\n",
       "      vegaEmbed(outputDiv, spec, embedOpt)\n",
       "        .catch(err => showError(`Javascript Error: ${err.message}<br>This usually means there's a typo in your chart specification. See the javascript console for the full traceback.`));\n",
       "    }\n",
       "\n",
       "    if(typeof define === \"function\" && define.amd) {\n",
       "      requirejs.config({paths});\n",
       "      require([\"vega-embed\"], displayChart, err => showError(`Error loading script: ${err.message}`));\n",
       "    } else {\n",
       "      maybeLoadScript(\"vega\", \"5\")\n",
       "        .then(() => maybeLoadScript(\"vega-lite\", \"5.14.1\"))\n",
       "        .then(() => maybeLoadScript(\"vega-embed\", \"6\"))\n",
       "        .catch(showError)\n",
       "        .then(() => displayChart(vegaEmbed));\n",
       "    }\n",
       "  })({\"$schema\": \"https://vega.github.io/schema/vega/v5.json\", \"data\": [{\"name\": \"source_0\", \"values\": [{\"Field of Work\": \"Agriculture\", \"count\": 36, \"count_end\": 36.0, \"count_start\": 0.0, \"sex\": \"Female\"}, {\"Field of Work\": \"Agriculture\", \"count\": 272, \"count_end\": 308.0, \"count_start\": 36.0, \"sex\": \"Male\"}, {\"Field of Work\": \"Communications\", \"count\": 372, \"count_end\": 372.0, \"count_start\": 0.0, \"sex\": \"Female\"}, {\"Field of Work\": \"Communications\", \"count\": 409, \"count_end\": 781.0, \"count_start\": 372.0, \"sex\": \"Male\"}, {\"Field of Work\": \"Education\", \"count\": 2648, \"count_end\": 2648.0, \"count_start\": 0.0, \"sex\": \"Female\"}, {\"Field of Work\": \"Education\", \"count\": 934, \"count_end\": 3582.0, \"count_start\": 2648.0, \"sex\": \"Male\"}, {\"Field of Work\": \"Medical\", \"count\": 3439, \"count_end\": 3439.0, \"count_start\": 0.0, \"sex\": \"Female\"}, {\"Field of Work\": \"Medical\", \"count\": 641, \"count_end\": 4080.0, \"count_start\": 3439.0, \"sex\": \"Male\"}, {\"Field of Work\": \"SocArtOther\", \"count\": 1256, \"count_end\": 1256.0, \"count_start\": 0.0, \"sex\": \"Female\"}, {\"Field of Work\": \"SocArtOther\", \"count\": 817, \"count_end\": 2073.0, \"count_start\": 1256.0, \"sex\": \"Male\"}, {\"Field of Work\": \"Transport\", \"count\": 493, \"count_end\": 493.0, \"count_start\": 0.0, \"sex\": \"Female\"}, {\"Field of Work\": \"Transport\", \"count\": 1214, \"count_end\": 1707.0, \"count_start\": 493.0, \"sex\": \"Male\"}, {\"Field of Work\": \"Utilities\", \"count\": 117, \"count_end\": 117.0, \"count_start\": 0.0, \"sex\": \"Female\"}, {\"Field of Work\": \"Utilities\", \"count\": 307, \"count_end\": 424.0, \"count_start\": 117.0, \"sex\": \"Male\"}, {\"Field of Work\": \"durables\", \"count\": 945, \"count_end\": 945.0, \"count_start\": 0.0, \"sex\": \"Female\"}, {\"Field of Work\": \"durables\", \"count\": 2266, \"count_end\": 3211.0, \"count_start\": 945.0, \"sex\": \"Male\"}, {\"Field of Work\": \"finance\", \"count\": 1276, \"count_end\": 1276.0, \"count_start\": 0.0, \"sex\": \"Female\"}, {\"Field of Work\": \"finance\", \"count\": 584, \"count_end\": 1860.0, \"count_start\": 1276.0, \"sex\": \"Male\"}, {\"Field of Work\": \"hotelsrestaurants\", \"count\": 1000, \"count_end\": 1000.0, \"count_start\": 0.0, \"sex\": \"Female\"}, {\"Field of Work\": \"hotelsrestaurants\", \"count\": 464, \"count_end\": 1464.0, \"count_start\": 1000.0, \"sex\": \"Male\"}, {\"Field of Work\": \"miningconstruction\", \"count\": 210, \"count_end\": 210.0, \"count_start\": 0.0, \"sex\": \"Female\"}, {\"Field of Work\": \"miningconstruction\", \"count\": 1588, \"count_end\": 1798.0, \"count_start\": 210.0, \"sex\": \"Male\"}, {\"Field of Work\": \"nondurables\", \"count\": 898, \"count_end\": 898.0, \"count_start\": 0.0, \"sex\": \"Female\"}, {\"Field of Work\": \"nondurables\", \"count\": 1281, \"count_end\": 2179.0, \"count_start\": 898.0, \"sex\": \"Male\"}, {\"Field of Work\": \"professional\", \"count\": 1101, \"count_end\": 1101.0, \"count_start\": 0.0, \"sex\": \"Female\"}, {\"Field of Work\": \"professional\", \"count\": 954, \"count_end\": 2055.0, \"count_start\": 1101.0, \"sex\": \"Male\"}, {\"Field of Work\": \"publicadmin\", \"count\": 1037, \"count_end\": 1037.0, \"count_start\": 0.0, \"sex\": \"Female\"}, {\"Field of Work\": \"publicadmin\", \"count\": 1123, \"count_end\": 2160.0, \"count_start\": 1037.0, \"sex\": \"Male\"}, {\"Field of Work\": \"retailtrade\", \"count\": 1381, \"count_end\": 1381.0, \"count_start\": 0.0, \"sex\": \"Female\"}, {\"Field of Work\": \"retailtrade\", \"count\": 1268, \"count_end\": 2649.0, \"count_start\": 1381.0, \"sex\": \"Male\"}, {\"Field of Work\": \"wholesaletrade\", \"count\": 288, \"count_end\": 288.0, \"count_start\": 0.0, \"sex\": \"Female\"}, {\"Field of Work\": \"wholesaletrade\", \"count\": 721, \"count_end\": 1009.0, \"count_start\": 288.0, \"sex\": \"Male\"}]}, {\"name\": \"source_0_x_domain_Field of Work\", \"values\": [{\"Field of Work\": \"Agriculture\"}, {\"Field of Work\": \"Communications\"}, {\"Field of Work\": \"Education\"}, {\"Field of Work\": \"Medical\"}, {\"Field of Work\": \"SocArtOther\"}, {\"Field of Work\": \"Transport\"}, {\"Field of Work\": \"Utilities\"}, {\"Field of Work\": \"durables\"}, {\"Field of Work\": \"finance\"}, {\"Field of Work\": \"hotelsrestaurants\"}, {\"Field of Work\": \"miningconstruction\"}, {\"Field of Work\": \"nondurables\"}, {\"Field of Work\": \"professional\"}, {\"Field of Work\": \"publicadmin\"}, {\"Field of Work\": \"retailtrade\"}, {\"Field of Work\": \"wholesaletrade\"}]}, {\"name\": \"source_0_color_domain_sex\", \"values\": [{\"sex\": \"Female\"}, {\"sex\": \"Male\"}]}], \"marks\": [{\"type\": \"rect\", \"name\": \"marks\", \"from\": {\"data\": \"source_0\"}, \"encode\": {\"update\": {\"x\": {\"field\": \"Field of Work\", \"scale\": \"x\"}, \"fill\": {\"field\": \"sex\", \"scale\": \"color\"}, \"tooltip\": {\"signal\": \"{\\\"sex\\\": isValid(datum[\\\"sex\\\"]) ? datum[\\\"sex\\\"] : \\\"\\\"+datum[\\\"sex\\\"], \\\"count\\\": format(datum[\\\"count\\\"], \\\"\\\")}\"}, \"width\": {\"signal\": \"max(0.25, bandwidth('x'))\"}, \"description\": {\"signal\": \"\\\"Field of work: \\\" + (isValid(datum[\\\"Field of Work\\\"]) ? datum[\\\"Field of Work\\\"] : \\\"\\\"+datum[\\\"Field of Work\\\"]) + \\\"; Count: \\\" + (format(datum[\\\"count\\\"], \\\"\\\")) + \\\"; sex: \\\" + (isValid(datum[\\\"sex\\\"]) ? datum[\\\"sex\\\"] : \\\"\\\"+datum[\\\"sex\\\"]) + \\\"; count: \\\" + (format(datum[\\\"count\\\"], \\\"\\\"))\"}, \"y2\": {\"field\": \"count_start\", \"scale\": \"y\"}, \"ariaRoleDescription\": {\"value\": \"bar\"}, \"y\": {\"field\": \"count_end\", \"scale\": \"y\"}}}, \"style\": [\"bar\"]}], \"scales\": [{\"name\": \"x\", \"type\": \"band\", \"domain\": {\"data\": \"source_0_x_domain_Field of Work\", \"field\": \"Field of Work\", \"sort\": true}, \"range\": [0, {\"signal\": \"width\"}], \"paddingInner\": 0.1, \"paddingOuter\": 0.05}, {\"name\": \"y\", \"type\": \"linear\", \"domain\": {\"data\": \"source_0\", \"fields\": [\"count_start\", \"count_end\"]}, \"range\": [{\"signal\": \"height\"}, 0], \"zero\": true, \"nice\": true}, {\"name\": \"color\", \"type\": \"ordinal\", \"domain\": {\"data\": \"source_0_color_domain_sex\", \"field\": \"sex\", \"sort\": true}, \"range\": \"category\"}], \"axes\": [{\"scale\": \"y\", \"gridScale\": \"x\", \"zindex\": 0, \"minExtent\": 0, \"orient\": \"left\", \"grid\": true, \"domain\": false, \"aria\": false, \"ticks\": false, \"labels\": false, \"maxExtent\": 0, \"tickCount\": {\"signal\": \"ceil(height/40)\"}}, {\"scale\": \"x\", \"orient\": \"bottom\", \"labelAngle\": 30, \"labelAlign\": \"left\", \"labelBaseline\": \"top\", \"zindex\": 0, \"grid\": false, \"title\": \"Field of work\"}, {\"scale\": \"y\", \"grid\": false, \"zindex\": 0, \"title\": \"Count\", \"orient\": \"left\", \"labelOverlap\": true, \"tickCount\": {\"signal\": \"ceil(height/40)\"}}], \"title\": {\"text\": \"Proportion of Males and Females by Field\", \"frame\": \"group\"}, \"style\": \"cell\", \"background\": \"white\", \"height\": 300, \"width\": 800, \"padding\": 5, \"legends\": [{\"fill\": \"color\", \"symbolType\": \"square\", \"title\": \"sex\"}]}, {\"mode\": \"vega\"});\n",
       "</script>"
      ],
      "text/plain": [
       "alt.Chart(...)"
      ]
     },
     "execution_count": 25,
     "metadata": {},
     "output_type": "execute_result"
    }
   ],
   "source": [
    "# Group the data by 'Field' and 'sex' and calculate the count\n",
    "grouped_data = occ_dynamics.groupby(['Field of Work', 'sex']).size().reset_index(name='count')\n",
    "\n",
    "# Create the stacked bar plot\n",
    "stacked_bar_plot = alt.Chart(grouped_data).mark_bar().encode(\n",
    "    x=alt.X('Field of Work:N', title='Field of work',axis=alt.Axis(labelAngle=30)),\n",
    "    y=alt.Y('count:Q', title='Count'),\n",
    "    color='sex:N',\n",
    "    order=alt.Order('sex:N'),  # This determines the order of the stacked bars\n",
    "    tooltip=['sex', 'count']  # Add tooltip for more information\n",
    ").properties(title=alt.TitleParams(text='Proportion of Males and Females by Field'), width=800)\n",
    "\n",
    "# Display the plot\n",
    "stacked_bar_plot"
   ]
  },
  {
   "cell_type": "markdown",
   "id": "ad6430ef",
   "metadata": {
    "id": "ad6430ef"
   },
   "source": [
    "In this plot, we can find out the signification unbalanced gender distributions in different fields. \n",
    "\n",
    "In the sectors such as education, medicine, social arts, finance, hotel management there is a clear dominance of women workers compared to men. However, in the case of fields such as mining, construciton, agriculture, transport, and trade, there are rare female workers. In our common senses, some work need more strength so they will prefer males especially in a biased society.\n",
    "\n",
    "It is important to understand this distribution, as the observed gender disparities in industries have potential implications for the gender wage gap. It raises questions about whether industry choice plays a role in influencing wage disparities.\n",
    "For instance, industries where women are dominant may be associated with lower average wages due to various factors like historical gender norms, negotiation practices, or undervaluation of work traditionally associated with women."
   ]
  },
  {
   "cell_type": "markdown",
   "id": "6eda0ecd",
   "metadata": {
    "id": "6eda0ecd"
   },
   "source": [
    "### Visualizing the existence of wage gap across industries"
   ]
  },
  {
   "cell_type": "code",
   "execution_count": 26,
   "id": "0eb0fa76",
   "metadata": {
    "id": "0eb0fa76",
    "outputId": "de21c2fb-b7a3-413d-87ac-8c4156f8ebae"
   },
   "outputs": [
    {
     "data": {
      "text/html": [
       "\n",
       "<style>\n",
       "  #altair-viz-ffceb913e3a44954b611a4aac21410bc.vega-embed {\n",
       "    width: 100%;\n",
       "    display: flex;\n",
       "  }\n",
       "\n",
       "  #altair-viz-ffceb913e3a44954b611a4aac21410bc.vega-embed details,\n",
       "  #altair-viz-ffceb913e3a44954b611a4aac21410bc.vega-embed details summary {\n",
       "    position: relative;\n",
       "  }\n",
       "</style>\n",
       "<div id=\"altair-viz-ffceb913e3a44954b611a4aac21410bc\"></div>\n",
       "<script type=\"text/javascript\">\n",
       "  var VEGA_DEBUG = (typeof VEGA_DEBUG == \"undefined\") ? {} : VEGA_DEBUG;\n",
       "  (function(spec, embedOpt){\n",
       "    let outputDiv = document.currentScript.previousElementSibling;\n",
       "    if (outputDiv.id !== \"altair-viz-ffceb913e3a44954b611a4aac21410bc\") {\n",
       "      outputDiv = document.getElementById(\"altair-viz-ffceb913e3a44954b611a4aac21410bc\");\n",
       "    }\n",
       "    const paths = {\n",
       "      \"vega\": \"https://cdn.jsdelivr.net/npm/vega@5?noext\",\n",
       "      \"vega-lib\": \"https://cdn.jsdelivr.net/npm/vega-lib?noext\",\n",
       "      \"vega-lite\": \"https://cdn.jsdelivr.net/npm/vega-lite@5.14.1?noext\",\n",
       "      \"vega-embed\": \"https://cdn.jsdelivr.net/npm/vega-embed@6?noext\",\n",
       "    };\n",
       "\n",
       "    function maybeLoadScript(lib, version) {\n",
       "      var key = `${lib.replace(\"-\", \"\")}_version`;\n",
       "      return (VEGA_DEBUG[key] == version) ?\n",
       "        Promise.resolve(paths[lib]) :\n",
       "        new Promise(function(resolve, reject) {\n",
       "          var s = document.createElement('script');\n",
       "          document.getElementsByTagName(\"head\")[0].appendChild(s);\n",
       "          s.async = true;\n",
       "          s.onload = () => {\n",
       "            VEGA_DEBUG[key] = version;\n",
       "            return resolve(paths[lib]);\n",
       "          };\n",
       "          s.onerror = () => reject(`Error loading script: ${paths[lib]}`);\n",
       "          s.src = paths[lib];\n",
       "        });\n",
       "    }\n",
       "\n",
       "    function showError(err) {\n",
       "      outputDiv.innerHTML = `<div class=\"error\" style=\"color:red;\">${err}</div>`;\n",
       "      throw err;\n",
       "    }\n",
       "\n",
       "    function displayChart(vegaEmbed) {\n",
       "      vegaEmbed(outputDiv, spec, embedOpt)\n",
       "        .catch(err => showError(`Javascript Error: ${err.message}<br>This usually means there's a typo in your chart specification. See the javascript console for the full traceback.`));\n",
       "    }\n",
       "\n",
       "    if(typeof define === \"function\" && define.amd) {\n",
       "      requirejs.config({paths});\n",
       "      require([\"vega-embed\"], displayChart, err => showError(`Error loading script: ${err.message}`));\n",
       "    } else {\n",
       "      maybeLoadScript(\"vega\", \"5\")\n",
       "        .then(() => maybeLoadScript(\"vega-lite\", \"5.14.1\"))\n",
       "        .then(() => maybeLoadScript(\"vega-embed\", \"6\"))\n",
       "        .catch(showError)\n",
       "        .then(() => displayChart(vegaEmbed));\n",
       "    }\n",
       "  })({\"$schema\": \"https://vega.github.io/schema/vega/v5.json\", \"data\": [{\"name\": \"source_0\", \"values\": [{\"sex\": \"Female\", \"Field of Work\": \"Agriculture\", \"realhrwage\": 13.871138989925386}, {\"sex\": \"Female\", \"Field of Work\": \"Communications\", \"realhrwage\": 20.782570412082055}, {\"sex\": \"Female\", \"Field of Work\": \"Education\", \"realhrwage\": 19.496426728466847}, {\"sex\": \"Female\", \"Field of Work\": \"Medical\", \"realhrwage\": 17.734083833511434}, {\"sex\": \"Female\", \"Field of Work\": \"SocArtOther\", \"realhrwage\": 13.757043118879293}, {\"sex\": \"Female\", \"Field of Work\": \"Transport\", \"realhrwage\": 19.26817027743883}, {\"sex\": \"Female\", \"Field of Work\": \"Utilities\", \"realhrwage\": 20.906419890558617}, {\"sex\": \"Female\", \"Field of Work\": \"durables\", \"realhrwage\": 17.363192117277276}, {\"sex\": \"Female\", \"Field of Work\": \"finance\", \"realhrwage\": 18.537101535961547}, {\"sex\": \"Female\", \"Field of Work\": \"hotelsrestaurants\", \"realhrwage\": 11.246899489879608}, {\"sex\": \"Female\", \"Field of Work\": \"miningconstruction\", \"realhrwage\": 18.725983828590024}, {\"sex\": \"Female\", \"Field of Work\": \"nondurables\", \"realhrwage\": 14.442673792286811}, {\"sex\": \"Female\", \"Field of Work\": \"professional\", \"realhrwage\": 18.805159925656575}, {\"sex\": \"Female\", \"Field of Work\": \"publicadmin\", \"realhrwage\": 20.43843734206896}, {\"sex\": \"Female\", \"Field of Work\": \"retailtrade\", \"realhrwage\": 13.215025580162418}, {\"sex\": \"Female\", \"Field of Work\": \"wholesaletrade\", \"realhrwage\": 17.46237671126922}, {\"sex\": \"Male\", \"Field of Work\": \"Agriculture\", \"realhrwage\": 13.574528770411714}, {\"sex\": \"Male\", \"Field of Work\": \"Communications\", \"realhrwage\": 25.764798469240333}, {\"sex\": \"Male\", \"Field of Work\": \"Education\", \"realhrwage\": 22.643394152153228}, {\"sex\": \"Male\", \"Field of Work\": \"Medical\", \"realhrwage\": 20.200870853132464}, {\"sex\": \"Male\", \"Field of Work\": \"SocArtOther\", \"realhrwage\": 17.937612960504932}, {\"sex\": \"Male\", \"Field of Work\": \"Transport\", \"realhrwage\": 22.08560433203149}, {\"sex\": \"Male\", \"Field of Work\": \"Utilities\", \"realhrwage\": 25.926725594927508}, {\"sex\": \"Male\", \"Field of Work\": \"durables\", \"realhrwage\": 22.630042982543348}, {\"sex\": \"Male\", \"Field of Work\": \"finance\", \"realhrwage\": 23.87249996686635}, {\"sex\": \"Male\", \"Field of Work\": \"hotelsrestaurants\", \"realhrwage\": 14.568070864882964}, {\"sex\": \"Male\", \"Field of Work\": \"miningconstruction\", \"realhrwage\": 20.456648069304844}, {\"sex\": \"Male\", \"Field of Work\": \"nondurables\", \"realhrwage\": 20.774855229744773}, {\"sex\": \"Male\", \"Field of Work\": \"professional\", \"realhrwage\": 21.736809599824422}, {\"sex\": \"Male\", \"Field of Work\": \"publicadmin\", \"realhrwage\": 24.93525988484533}, {\"sex\": \"Male\", \"Field of Work\": \"retailtrade\", \"realhrwage\": 17.98279682262463}, {\"sex\": \"Male\", \"Field of Work\": \"wholesaletrade\", \"realhrwage\": 20.24583362011903}]}, {\"name\": \"data_0\", \"values\": [{\"Field of Work\": \"Agriculture\", \"realhrwage\": 13.871138989925386, \"sex\": \"Female\"}, {\"Field of Work\": \"Communications\", \"realhrwage\": 20.782570412082055, \"sex\": \"Female\"}, {\"Field of Work\": \"Education\", \"realhrwage\": 19.496426728466847, \"sex\": \"Female\"}, {\"Field of Work\": \"Medical\", \"realhrwage\": 17.734083833511434, \"sex\": \"Female\"}, {\"Field of Work\": \"SocArtOther\", \"realhrwage\": 13.757043118879293, \"sex\": \"Female\"}, {\"Field of Work\": \"Transport\", \"realhrwage\": 19.26817027743883, \"sex\": \"Female\"}, {\"Field of Work\": \"Utilities\", \"realhrwage\": 20.906419890558617, \"sex\": \"Female\"}, {\"Field of Work\": \"durables\", \"realhrwage\": 17.363192117277276, \"sex\": \"Female\"}, {\"Field of Work\": \"finance\", \"realhrwage\": 18.537101535961547, \"sex\": \"Female\"}, {\"Field of Work\": \"hotelsrestaurants\", \"realhrwage\": 11.246899489879608, \"sex\": \"Female\"}, {\"Field of Work\": \"miningconstruction\", \"realhrwage\": 18.725983828590024, \"sex\": \"Female\"}, {\"Field of Work\": \"nondurables\", \"realhrwage\": 14.442673792286811, \"sex\": \"Female\"}, {\"Field of Work\": \"professional\", \"realhrwage\": 18.805159925656575, \"sex\": \"Female\"}, {\"Field of Work\": \"publicadmin\", \"realhrwage\": 20.43843734206896, \"sex\": \"Female\"}, {\"Field of Work\": \"retailtrade\", \"realhrwage\": 13.215025580162418, \"sex\": \"Female\"}, {\"Field of Work\": \"wholesaletrade\", \"realhrwage\": 17.46237671126922, \"sex\": \"Female\"}, {\"Field of Work\": \"Agriculture\", \"realhrwage\": 13.574528770411714, \"sex\": \"Male\"}, {\"Field of Work\": \"Communications\", \"realhrwage\": 25.764798469240333, \"sex\": \"Male\"}, {\"Field of Work\": \"Education\", \"realhrwage\": 22.643394152153228, \"sex\": \"Male\"}, {\"Field of Work\": \"Medical\", \"realhrwage\": 20.200870853132464, \"sex\": \"Male\"}, {\"Field of Work\": \"SocArtOther\", \"realhrwage\": 17.937612960504932, \"sex\": \"Male\"}, {\"Field of Work\": \"Transport\", \"realhrwage\": 22.08560433203149, \"sex\": \"Male\"}, {\"Field of Work\": \"Utilities\", \"realhrwage\": 25.926725594927508, \"sex\": \"Male\"}, {\"Field of Work\": \"durables\", \"realhrwage\": 22.630042982543348, \"sex\": \"Male\"}, {\"Field of Work\": \"finance\", \"realhrwage\": 23.87249996686635, \"sex\": \"Male\"}, {\"Field of Work\": \"hotelsrestaurants\", \"realhrwage\": 14.568070864882964, \"sex\": \"Male\"}, {\"Field of Work\": \"miningconstruction\", \"realhrwage\": 20.456648069304844, \"sex\": \"Male\"}, {\"Field of Work\": \"nondurables\", \"realhrwage\": 20.774855229744773, \"sex\": \"Male\"}, {\"Field of Work\": \"professional\", \"realhrwage\": 21.736809599824422, \"sex\": \"Male\"}, {\"Field of Work\": \"publicadmin\", \"realhrwage\": 24.93525988484533, \"sex\": \"Male\"}, {\"Field of Work\": \"retailtrade\", \"realhrwage\": 17.98279682262463, \"sex\": \"Male\"}, {\"Field of Work\": \"wholesaletrade\", \"realhrwage\": 20.24583362011903, \"sex\": \"Male\"}]}, {\"name\": \"source_0_x_domain_Field of Work_0\", \"values\": [{\"Field of Work\": \"Agriculture\"}, {\"Field of Work\": \"Communications\"}, {\"Field of Work\": \"Education\"}, {\"Field of Work\": \"Medical\"}, {\"Field of Work\": \"SocArtOther\"}, {\"Field of Work\": \"Transport\"}, {\"Field of Work\": \"Utilities\"}, {\"Field of Work\": \"durables\"}, {\"Field of Work\": \"finance\"}, {\"Field of Work\": \"hotelsrestaurants\"}, {\"Field of Work\": \"miningconstruction\"}, {\"Field of Work\": \"nondurables\"}, {\"Field of Work\": \"professional\"}, {\"Field of Work\": \"publicadmin\"}, {\"Field of Work\": \"retailtrade\"}, {\"Field of Work\": \"wholesaletrade\"}]}, {\"name\": \"data_0_x_domain_Field of Work_1\", \"values\": [{\"Field of Work\": \"Agriculture\"}, {\"Field of Work\": \"Communications\"}, {\"Field of Work\": \"Education\"}, {\"Field of Work\": \"Medical\"}, {\"Field of Work\": \"SocArtOther\"}, {\"Field of Work\": \"Transport\"}, {\"Field of Work\": \"Utilities\"}, {\"Field of Work\": \"durables\"}, {\"Field of Work\": \"finance\"}, {\"Field of Work\": \"hotelsrestaurants\"}, {\"Field of Work\": \"miningconstruction\"}, {\"Field of Work\": \"nondurables\"}, {\"Field of Work\": \"professional\"}, {\"Field of Work\": \"publicadmin\"}, {\"Field of Work\": \"retailtrade\"}, {\"Field of Work\": \"wholesaletrade\"}]}, {\"name\": \"source_0_color_domain_sex_0\", \"values\": [{\"sex\": \"Female\"}, {\"sex\": \"Male\"}]}, {\"name\": \"data_0_color_domain_sex_1\", \"values\": [{\"sex\": \"Female\"}, {\"sex\": \"Male\"}]}], \"marks\": [{\"type\": \"group\", \"name\": \"layer_0_pathgroup\", \"from\": {\"facet\": {\"data\": \"source_0\", \"name\": \"faceted_path_layer_0_main\", \"groupby\": [\"sex\"]}}, \"encode\": {\"update\": {\"height\": {\"field\": {\"signal\": null, \"datum\": null, \"group\": \"height\", \"parent\": null}}, \"width\": {\"field\": {\"signal\": null, \"datum\": null, \"group\": \"width\", \"parent\": null}}}}, \"marks\": [{\"type\": \"line\", \"name\": \"layer_0_marks\", \"from\": {\"data\": \"faceted_path_layer_0_main\"}, \"sort\": {\"field\": \"datum[\\\"Field of Work\\\"]\"}, \"encode\": {\"update\": {\"description\": {\"signal\": \"\\\"Field of Work: \\\" + (isValid(datum[\\\"Field of Work\\\"]) ? datum[\\\"Field of Work\\\"] : \\\"\\\"+datum[\\\"Field of Work\\\"]) + \\\"; Average hourly wage: \\\" + (format(datum[\\\"realhrwage\\\"], \\\"\\\")) + \\\"; sex: \\\" + (isValid(datum[\\\"sex\\\"]) ? datum[\\\"sex\\\"] : \\\"\\\"+datum[\\\"sex\\\"])\"}, \"x\": {\"field\": \"Field of Work\", \"scale\": \"x\"}, \"defined\": {\"signal\": \"isValid(datum[\\\"realhrwage\\\"]) && isFinite(+datum[\\\"realhrwage\\\"])\"}, \"stroke\": {\"field\": \"sex\", \"scale\": \"color\"}, \"y\": {\"field\": \"realhrwage\", \"scale\": \"y\"}}}, \"style\": [\"line\"]}]}, {\"type\": \"symbol\", \"name\": \"layer_1_marks\", \"from\": {\"data\": \"data_0\"}, \"encode\": {\"update\": {\"y\": {\"field\": \"realhrwage\", \"scale\": \"y\"}, \"fill\": {\"field\": \"sex\", \"scale\": \"color\"}, \"ariaRoleDescription\": {\"value\": \"point\"}, \"description\": {\"signal\": \"\\\"Field of Work: \\\" + (isValid(datum[\\\"Field of Work\\\"]) ? datum[\\\"Field of Work\\\"] : \\\"\\\"+datum[\\\"Field of Work\\\"]) + \\\"; Average hourly wage: \\\" + (format(datum[\\\"realhrwage\\\"], \\\"\\\")) + \\\"; sex: \\\" + (isValid(datum[\\\"sex\\\"]) ? datum[\\\"sex\\\"] : \\\"\\\"+datum[\\\"sex\\\"])\"}, \"x\": {\"field\": \"Field of Work\", \"scale\": \"x\"}, \"opacity\": {\"value\": 1}}}, \"style\": [\"point\"]}], \"scales\": [{\"name\": \"x\", \"type\": \"point\", \"domain\": {\"fields\": [{\"data\": \"source_0_x_domain_Field of Work_0\", \"field\": \"Field of Work\"}, {\"data\": \"data_0_x_domain_Field of Work_1\", \"field\": \"Field of Work\"}], \"sort\": true}, \"range\": [0, {\"signal\": \"width\"}], \"padding\": 0.5}, {\"name\": \"y\", \"type\": \"linear\", \"domain\": {\"fields\": [{\"data\": \"source_0\", \"field\": \"realhrwage\"}, {\"data\": \"data_0\", \"field\": \"realhrwage\"}]}, \"range\": [{\"signal\": \"height\"}, 0], \"zero\": true, \"nice\": true}, {\"name\": \"color\", \"type\": \"ordinal\", \"domain\": {\"fields\": [{\"data\": \"source_0_color_domain_sex_0\", \"field\": \"sex\"}, {\"data\": \"data_0_color_domain_sex_1\", \"field\": \"sex\"}], \"sort\": true}, \"range\": \"category\"}], \"axes\": [{\"scale\": \"y\", \"zindex\": 0, \"gridScale\": \"x\", \"tickCount\": 6, \"orient\": \"left\", \"domain\": false, \"maxExtent\": 0, \"labels\": false, \"ticks\": false, \"grid\": true, \"aria\": false, \"minExtent\": 0}, {\"scale\": \"x\", \"grid\": false, \"zindex\": 0, \"orient\": \"bottom\", \"labelBaseline\": \"top\", \"labelAngle\": 30, \"title\": \"Field of Work\", \"labelAlign\": \"left\"}, {\"scale\": \"y\", \"title\": \"Average hourly wage\", \"labelOverlap\": true, \"zindex\": 0, \"orient\": \"left\", \"tickCount\": 6, \"grid\": false}], \"title\": {\"text\": \"Trend of Hourly wage based on field of work\", \"frame\": \"group\", \"anchor\": \"middle\", \"offset\": 30}, \"background\": \"white\", \"padding\": 5, \"width\": 800, \"style\": \"cell\", \"config\": {\"axisX\": {\"titlePadding\": 10}, \"style\": {\"cell\": {\"strokeWidth\": 0}}}, \"height\": 400, \"legends\": [{\"title\": \"Sex\", \"stroke\": \"color\", \"symbolType\": \"circle\", \"fill\": \"color\", \"encode\": {\"symbols\": {\"update\": {\"opacity\": {\"value\": 1}}}}}]}, {\"mode\": \"vega\"});\n",
       "</script>"
      ],
      "text/plain": [
       "alt.Chart(...)"
      ]
     },
     "execution_count": 26,
     "metadata": {},
     "output_type": "execute_result"
    }
   ],
   "source": [
    "# Group the data by 'sex' and 'working_hardness' and calculate the mean of 'realhrwage'\n",
    "grouped_data = occ_dynamics.groupby(['sex', 'Field of Work'])['realhrwage'].mean().reset_index()\n",
    "\n",
    "# Create the plot\n",
    "chart = alt.Chart(grouped_data).mark_line(point=True).encode(\n",
    "    x=alt.X('Field of Work:O', title='Field of Work', axis=alt.Axis(labelAngle=30)),\n",
    "    y=alt.Y('realhrwage:Q', title='Average hourly wage', axis=alt.Axis(tickCount=6)),\n",
    "    color=alt.Color('sex:N', legend=alt.Legend(title='Sex'))\n",
    ").properties(\n",
    "    title=alt.TitleParams(text='Trend of Hourly wage based on field of work', anchor='middle', offset=30),\n",
    "    width=800,\n",
    "    height=400\n",
    ")\n",
    "\n",
    "# Display the plot\n",
    "chart.configure_axis().configure_view(strokeWidth=0).configure_axisX(titlePadding=10)"
   ]
  },
  {
   "cell_type": "markdown",
   "id": "cb4b108f",
   "metadata": {
    "id": "cb4b108f"
   },
   "source": [
    "From the above visualizations, it is evident that irrespective of the industry, men get paid higher than women. This led us to question the basis of this wage disparity, the underlying causes.\n",
    "\n",
    "\n",
    "The provided visualizations clearly depict a persistent gender-based wage gap in diverse industries, with men consistently earning higher wages than women. This wage disparity can be attributed to a complex interplay of factors, including occupational segregation, education and skill differentials, workplace discrimination, the \"motherhood penalty,\" negotiation disparities, and societal gender biases.\n",
    "\n",
    "#### Hence as we check for the presence of any possible underlying reasons for this wage gap, such as differences in educational level between men and women, years of experience, racial disparities."
   ]
  },
  {
   "cell_type": "markdown",
   "id": "1f0d53d1",
   "metadata": {
    "id": "1f0d53d1"
   },
   "source": [
    "# <font color = blue> Is there a correlation between work experience and the disparity in hourly wages between men and women?"
   ]
  },
  {
   "cell_type": "code",
   "execution_count": 27,
   "id": "9c041eb6",
   "metadata": {
    "id": "9c041eb6"
   },
   "outputs": [],
   "source": [
    "# Creating a subset of data with wage, sex and years of experience\n",
    "\n",
    "exp_dynamics = income_dynamics[['sex','yrsexp','realhrwage']]"
   ]
  },
  {
   "cell_type": "code",
   "execution_count": 28,
   "id": "f5c0b89c",
   "metadata": {
    "id": "f5c0b89c"
   },
   "outputs": [],
   "source": [
    "# Creating categories of years of experience\n",
    "\n",
    "# Defining conditions to get categories of work experience\n",
    "conditions = [(exp_dynamics['yrsexp'] < 9),\n",
    "              (exp_dynamics['yrsexp'] >= 9) & (exp_dynamics['yrsexp'] < 14),\n",
    "              (exp_dynamics['yrsexp'] >= 14) & (exp_dynamics['yrsexp'] < 19),\n",
    "              (exp_dynamics['yrsexp'] >= 19) & (exp_dynamics['yrsexp'] < 24),\n",
    "              (exp_dynamics['yrsexp'] >= 24) & (exp_dynamics['yrsexp'] < 30),\n",
    "              (exp_dynamics['yrsexp'] >= 30)\n",
    "               ]\n",
    "\n",
    "# Define the corresponding categories\n",
    "categories = [\"Entry_Level\", \"Senior_Level\", \"Mid_Senior_Level\", \"Director_Level\", \"Principal_Level\", \"Leadership\"]"
   ]
  },
  {
   "cell_type": "code",
   "execution_count": 29,
   "id": "c9abfae1",
   "metadata": {
    "id": "c9abfae1"
   },
   "outputs": [],
   "source": [
    "exp_dynamics = exp_dynamics.copy()\n",
    "\n",
    "# Defining the work experience for each individual based on the defined categories\n",
    "exp_dynamics['work_experience'] = pd.Categorical(np.select(conditions, categories), categories=categories)"
   ]
  },
  {
   "cell_type": "code",
   "execution_count": 30,
   "id": "d93d575d",
   "metadata": {
    "id": "d93d575d"
   },
   "outputs": [],
   "source": [
    "income_dynamics = income_dynamics.copy()\n",
    "\n",
    "income_dynamics['work_experience'] = exp_dynamics['work_experience']"
   ]
  },
  {
   "cell_type": "markdown",
   "id": "f7247d5c",
   "metadata": {
    "id": "f7247d5c"
   },
   "source": [
    "### Visualizing the frequency of male and female under each category"
   ]
  },
  {
   "cell_type": "code",
   "execution_count": 31,
   "id": "88b8c026",
   "metadata": {
    "id": "88b8c026",
    "outputId": "e1ffe1cf-37c7-4cca-8e6a-4c4219238b85"
   },
   "outputs": [
    {
     "data": {
      "text/html": [
       "\n",
       "<style>\n",
       "  #altair-viz-42dd8f9a48f34f2c8c2b16ac0ebb774f.vega-embed {\n",
       "    width: 100%;\n",
       "    display: flex;\n",
       "  }\n",
       "\n",
       "  #altair-viz-42dd8f9a48f34f2c8c2b16ac0ebb774f.vega-embed details,\n",
       "  #altair-viz-42dd8f9a48f34f2c8c2b16ac0ebb774f.vega-embed details summary {\n",
       "    position: relative;\n",
       "  }\n",
       "</style>\n",
       "<div id=\"altair-viz-42dd8f9a48f34f2c8c2b16ac0ebb774f\"></div>\n",
       "<script type=\"text/javascript\">\n",
       "  var VEGA_DEBUG = (typeof VEGA_DEBUG == \"undefined\") ? {} : VEGA_DEBUG;\n",
       "  (function(spec, embedOpt){\n",
       "    let outputDiv = document.currentScript.previousElementSibling;\n",
       "    if (outputDiv.id !== \"altair-viz-42dd8f9a48f34f2c8c2b16ac0ebb774f\") {\n",
       "      outputDiv = document.getElementById(\"altair-viz-42dd8f9a48f34f2c8c2b16ac0ebb774f\");\n",
       "    }\n",
       "    const paths = {\n",
       "      \"vega\": \"https://cdn.jsdelivr.net/npm/vega@5?noext\",\n",
       "      \"vega-lib\": \"https://cdn.jsdelivr.net/npm/vega-lib?noext\",\n",
       "      \"vega-lite\": \"https://cdn.jsdelivr.net/npm/vega-lite@5.14.1?noext\",\n",
       "      \"vega-embed\": \"https://cdn.jsdelivr.net/npm/vega-embed@6?noext\",\n",
       "    };\n",
       "\n",
       "    function maybeLoadScript(lib, version) {\n",
       "      var key = `${lib.replace(\"-\", \"\")}_version`;\n",
       "      return (VEGA_DEBUG[key] == version) ?\n",
       "        Promise.resolve(paths[lib]) :\n",
       "        new Promise(function(resolve, reject) {\n",
       "          var s = document.createElement('script');\n",
       "          document.getElementsByTagName(\"head\")[0].appendChild(s);\n",
       "          s.async = true;\n",
       "          s.onload = () => {\n",
       "            VEGA_DEBUG[key] = version;\n",
       "            return resolve(paths[lib]);\n",
       "          };\n",
       "          s.onerror = () => reject(`Error loading script: ${paths[lib]}`);\n",
       "          s.src = paths[lib];\n",
       "        });\n",
       "    }\n",
       "\n",
       "    function showError(err) {\n",
       "      outputDiv.innerHTML = `<div class=\"error\" style=\"color:red;\">${err}</div>`;\n",
       "      throw err;\n",
       "    }\n",
       "\n",
       "    function displayChart(vegaEmbed) {\n",
       "      vegaEmbed(outputDiv, spec, embedOpt)\n",
       "        .catch(err => showError(`Javascript Error: ${err.message}<br>This usually means there's a typo in your chart specification. See the javascript console for the full traceback.`));\n",
       "    }\n",
       "\n",
       "    if(typeof define === \"function\" && define.amd) {\n",
       "      requirejs.config({paths});\n",
       "      require([\"vega-embed\"], displayChart, err => showError(`Error loading script: ${err.message}`));\n",
       "    } else {\n",
       "      maybeLoadScript(\"vega\", \"5\")\n",
       "        .then(() => maybeLoadScript(\"vega-lite\", \"5.14.1\"))\n",
       "        .then(() => maybeLoadScript(\"vega-embed\", \"6\"))\n",
       "        .catch(showError)\n",
       "        .then(() => displayChart(vegaEmbed));\n",
       "    }\n",
       "  })({\"$schema\": \"https://vega.github.io/schema/vega/v5.json\", \"data\": [{\"name\": \"source_0\", \"values\": [{\"sex\": \"Female\", \"work_experience\": \"Entry_Level\", \"count\": 3157, \"count_start\": 0.0, \"count_end\": 3157.0}, {\"sex\": \"Female\", \"work_experience\": \"Senior_Level\", \"count\": 3808, \"count_start\": 0.0, \"count_end\": 3808.0}, {\"sex\": \"Female\", \"work_experience\": \"Mid_Senior_Level\", \"count\": 3028, \"count_start\": 0.0, \"count_end\": 3028.0}, {\"sex\": \"Female\", \"work_experience\": \"Director_Level\", \"count\": 2412, \"count_start\": 0.0, \"count_end\": 2412.0}, {\"sex\": \"Female\", \"work_experience\": \"Principal_Level\", \"count\": 2296, \"count_start\": 0.0, \"count_end\": 2296.0}, {\"sex\": \"Female\", \"work_experience\": \"Leadership\", \"count\": 1796, \"count_start\": 0.0, \"count_end\": 1796.0}, {\"sex\": \"Male\", \"work_experience\": \"Entry_Level\", \"count\": 2190, \"count_start\": 0.0, \"count_end\": 2190.0}, {\"sex\": \"Male\", \"work_experience\": \"Senior_Level\", \"count\": 3302, \"count_start\": 0.0, \"count_end\": 3302.0}, {\"sex\": \"Male\", \"work_experience\": \"Mid_Senior_Level\", \"count\": 2484, \"count_start\": 0.0, \"count_end\": 2484.0}, {\"sex\": \"Male\", \"work_experience\": \"Director_Level\", \"count\": 2188, \"count_start\": 0.0, \"count_end\": 2188.0}, {\"sex\": \"Male\", \"work_experience\": \"Principal_Level\", \"count\": 2184, \"count_start\": 0.0, \"count_end\": 2184.0}, {\"sex\": \"Male\", \"work_experience\": \"Leadership\", \"count\": 2495, \"count_start\": 0.0, \"count_end\": 2495.0}]}, {\"name\": \"column_domain\", \"values\": [{\"work_experience\": \"Entry_Level\", \"count\": 2}, {\"work_experience\": \"Senior_Level\", \"count\": 2}, {\"work_experience\": \"Mid_Senior_Level\", \"count\": 2}, {\"work_experience\": \"Director_Level\", \"count\": 2}, {\"work_experience\": \"Principal_Level\", \"count\": 2}, {\"work_experience\": \"Leadership\", \"count\": 2}]}, {\"name\": \"source_0_x_domain_sex\", \"values\": [{\"sex\": \"Female\"}, {\"sex\": \"Male\"}]}, {\"name\": \"source_0_color_domain_sex\", \"values\": [{\"sex\": \"Female\"}, {\"sex\": \"Male\"}]}], \"signals\": [{\"name\": \"child_width\", \"value\": 100}, {\"name\": \"child_height\", \"value\": 300}], \"marks\": [{\"type\": \"group\", \"name\": \"row_header\", \"encode\": {\"update\": {\"height\": {\"signal\": \"child_height\"}}}, \"axes\": [{\"scale\": \"y\", \"labelOverlap\": true, \"grid\": false, \"orient\": \"left\", \"title\": \"Count\", \"tickCount\": {\"signal\": \"ceil(child_height/40)\"}, \"zindex\": 0}], \"role\": \"row-header\"}, {\"type\": \"group\", \"name\": \"column_header\", \"from\": {\"data\": \"column_domain\"}, \"sort\": {\"field\": \"datum[\\\"work_experience\\\"]\", \"order\": \"ascending\"}, \"encode\": {\"update\": {\"width\": {\"signal\": \"child_width\"}}}, \"title\": {\"text\": {\"signal\": \"isValid(parent[\\\"work_experience\\\"]) ? parent[\\\"work_experience\\\"] : \\\"\\\"+parent[\\\"work_experience\\\"]\"}, \"offset\": 10, \"frame\": \"group\", \"style\": \"guide-label\"}, \"role\": \"column-header\"}, {\"type\": \"group\", \"name\": \"column_footer\", \"from\": {\"data\": \"column_domain\"}, \"sort\": {\"field\": \"datum[\\\"work_experience\\\"]\", \"order\": \"ascending\"}, \"encode\": {\"update\": {\"width\": {\"signal\": \"child_width\"}}}, \"axes\": [{\"scale\": \"x\", \"labelAngle\": 0, \"grid\": false, \"labelBaseline\": \"top\", \"zindex\": 0, \"orient\": \"bottom\"}], \"role\": \"column-footer\"}, {\"type\": \"group\", \"name\": \"cell\", \"from\": {\"facet\": {\"data\": \"source_0\", \"name\": \"facet\", \"groupby\": [\"work_experience\"]}}, \"sort\": {\"field\": [\"datum[\\\"work_experience\\\"]\"], \"order\": [\"ascending\"]}, \"encode\": {\"update\": {\"width\": {\"signal\": \"child_width\"}, \"height\": {\"signal\": \"child_height\"}}}, \"marks\": [{\"type\": \"rect\", \"name\": \"child_marks\", \"from\": {\"data\": \"facet\"}, \"encode\": {\"update\": {\"y\": {\"field\": \"count_end\", \"scale\": \"y\"}, \"ariaRoleDescription\": {\"value\": \"bar\"}, \"width\": {\"signal\": \"max(0.25, bandwidth('x'))\"}, \"fill\": {\"field\": \"sex\", \"scale\": \"color\"}, \"x\": {\"field\": \"sex\", \"scale\": \"x\"}, \"description\": {\"signal\": \"\\\"sex: \\\" + (isValid(datum[\\\"sex\\\"]) ? datum[\\\"sex\\\"] : \\\"\\\"+datum[\\\"sex\\\"]) + \\\"; Count: \\\" + (format(datum[\\\"count\\\"], \\\"\\\"))\"}, \"y2\": {\"field\": \"count_start\", \"scale\": \"y\"}}}, \"style\": [\"bar\"]}], \"axes\": [{\"scale\": \"y\", \"labels\": false, \"domain\": false, \"tickCount\": {\"signal\": \"ceil(child_height/40)\"}, \"maxExtent\": 0, \"grid\": true, \"minExtent\": 0, \"zindex\": 0, \"aria\": false, \"orient\": \"left\", \"gridScale\": \"x\", \"ticks\": false}], \"style\": \"cell\"}], \"scales\": [{\"name\": \"x\", \"type\": \"band\", \"domain\": {\"data\": \"source_0_x_domain_sex\", \"field\": \"sex\", \"sort\": true}, \"range\": [0, {\"signal\": \"child_width\"}], \"paddingInner\": 0.1, \"paddingOuter\": 0.05}, {\"name\": \"y\", \"type\": \"linear\", \"domain\": {\"data\": \"source_0\", \"fields\": [\"count_start\", \"count_end\"]}, \"range\": [{\"signal\": \"child_height\"}, 0], \"zero\": true, \"nice\": true}, {\"name\": \"color\", \"type\": \"ordinal\", \"domain\": {\"data\": \"source_0_color_domain_sex\", \"field\": \"sex\", \"sort\": true}, \"range\": \"category\"}], \"title\": {\"text\": \"Number of Males and Females by Work Experience\", \"offset\": 30, \"anchor\": \"middle\"}, \"config\": {\"axisX\": {\"labels\": false}, \"axisY\": {\"labels\": true}, \"style\": {\"cell\": {\"strokeWidth\": 0}}}, \"layout\": {\"padding\": 20, \"columns\": {\"signal\": \"length(data('column_domain'))\"}, \"bounds\": \"full\", \"align\": \"all\"}, \"legends\": [{\"fill\": \"color\", \"symbolType\": \"square\", \"title\": \"sex\"}], \"background\": \"white\", \"padding\": 5}, {\"mode\": \"vega\"});\n",
       "</script>"
      ],
      "text/plain": [
       "alt.Chart(...)"
      ]
     },
     "execution_count": 31,
     "metadata": {},
     "output_type": "execute_result"
    }
   ],
   "source": [
    "# Group and count the data by 'sex' and 'work_experience'\n",
    "grouped_data = exp_dynamics.groupby(['sex', 'work_experience']).size().reset_index(name='count')\n",
    "\n",
    "# Create the grouped bar plot\n",
    "grouped_bar_plot = alt.Chart(grouped_data).mark_bar().encode(\n",
    "    x=alt.X('sex:N', title=None, axis=alt.Axis(labelAngle=0)),\n",
    "    y=alt.Y('count:Q', title='Count'),  # Remove y-axis title and labels\n",
    "    color='sex:N',\n",
    "    column=alt.Column('work_experience:N', title=None)\n",
    ").properties(\n",
    "    title=alt.TitleParams(text='Number of Males and Females by Work Experience', anchor='middle', offset=30),\n",
    "    width=100\n",
    ")\n",
    "\n",
    "# Display the plot\n",
    "grouped_bar_plot.configure_axisX(labels=False).configure_axisY(labels=True).configure_view(strokeWidth=0)"
   ]
  },
  {
   "cell_type": "markdown",
   "id": "e3e65b27",
   "metadata": {
    "id": "e3e65b27"
   },
   "source": [
    "It can be observed that in each category, the proportion of female is higher than the proportion of male. This might be due to the following reasons:\n",
    "\n",
    "The higher representation of females might be a reflection increased access to education, training, and development opportunities, which empower women to pursue and excel in their chosen careers.\n",
    "\n",
    "The higher proportion of females in each category is indicative of progress in achieving gender parity, driven by improved access to education, training, and changing societal norms that empower women to pursue diverse career paths. Additionally, policy interventions and the recognition of the economic and social benefits of gender diversity have contributed to this shift, highlighting the value of inclusive workplaces where both men and women have equal opportunities for professional success."
   ]
  },
  {
   "cell_type": "markdown",
   "id": "ffc9ec43",
   "metadata": {
    "id": "ffc9ec43"
   },
   "source": [
    "### Visualizing the wage difference between male and female under each category"
   ]
  },
  {
   "cell_type": "code",
   "execution_count": 32,
   "id": "bef39ead",
   "metadata": {
    "id": "bef39ead",
    "outputId": "47f26341-a254-41e6-d658-4f096ebe1f2e"
   },
   "outputs": [
    {
     "data": {
      "text/html": [
       "\n",
       "<style>\n",
       "  #altair-viz-a1192616182c4074b1d9c35916f6f411.vega-embed {\n",
       "    width: 100%;\n",
       "    display: flex;\n",
       "  }\n",
       "\n",
       "  #altair-viz-a1192616182c4074b1d9c35916f6f411.vega-embed details,\n",
       "  #altair-viz-a1192616182c4074b1d9c35916f6f411.vega-embed details summary {\n",
       "    position: relative;\n",
       "  }\n",
       "</style>\n",
       "<div id=\"altair-viz-a1192616182c4074b1d9c35916f6f411\"></div>\n",
       "<script type=\"text/javascript\">\n",
       "  var VEGA_DEBUG = (typeof VEGA_DEBUG == \"undefined\") ? {} : VEGA_DEBUG;\n",
       "  (function(spec, embedOpt){\n",
       "    let outputDiv = document.currentScript.previousElementSibling;\n",
       "    if (outputDiv.id !== \"altair-viz-a1192616182c4074b1d9c35916f6f411\") {\n",
       "      outputDiv = document.getElementById(\"altair-viz-a1192616182c4074b1d9c35916f6f411\");\n",
       "    }\n",
       "    const paths = {\n",
       "      \"vega\": \"https://cdn.jsdelivr.net/npm/vega@5?noext\",\n",
       "      \"vega-lib\": \"https://cdn.jsdelivr.net/npm/vega-lib?noext\",\n",
       "      \"vega-lite\": \"https://cdn.jsdelivr.net/npm/vega-lite@5.14.1?noext\",\n",
       "      \"vega-embed\": \"https://cdn.jsdelivr.net/npm/vega-embed@6?noext\",\n",
       "    };\n",
       "\n",
       "    function maybeLoadScript(lib, version) {\n",
       "      var key = `${lib.replace(\"-\", \"\")}_version`;\n",
       "      return (VEGA_DEBUG[key] == version) ?\n",
       "        Promise.resolve(paths[lib]) :\n",
       "        new Promise(function(resolve, reject) {\n",
       "          var s = document.createElement('script');\n",
       "          document.getElementsByTagName(\"head\")[0].appendChild(s);\n",
       "          s.async = true;\n",
       "          s.onload = () => {\n",
       "            VEGA_DEBUG[key] = version;\n",
       "            return resolve(paths[lib]);\n",
       "          };\n",
       "          s.onerror = () => reject(`Error loading script: ${paths[lib]}`);\n",
       "          s.src = paths[lib];\n",
       "        });\n",
       "    }\n",
       "\n",
       "    function showError(err) {\n",
       "      outputDiv.innerHTML = `<div class=\"error\" style=\"color:red;\">${err}</div>`;\n",
       "      throw err;\n",
       "    }\n",
       "\n",
       "    function displayChart(vegaEmbed) {\n",
       "      vegaEmbed(outputDiv, spec, embedOpt)\n",
       "        .catch(err => showError(`Javascript Error: ${err.message}<br>This usually means there's a typo in your chart specification. See the javascript console for the full traceback.`));\n",
       "    }\n",
       "\n",
       "    if(typeof define === \"function\" && define.amd) {\n",
       "      requirejs.config({paths});\n",
       "      require([\"vega-embed\"], displayChart, err => showError(`Error loading script: ${err.message}`));\n",
       "    } else {\n",
       "      maybeLoadScript(\"vega\", \"5\")\n",
       "        .then(() => maybeLoadScript(\"vega-lite\", \"5.14.1\"))\n",
       "        .then(() => maybeLoadScript(\"vega-embed\", \"6\"))\n",
       "        .catch(showError)\n",
       "        .then(() => displayChart(vegaEmbed));\n",
       "    }\n",
       "  })({\"$schema\": \"https://vega.github.io/schema/vega/v5.json\", \"data\": [{\"name\": \"source_0\", \"values\": [{\"sex\": \"Female\", \"work_experience\": \"Entry_Level\", \"realhrwage\": 13.872112566887823, \"x_work_experience_sort_index\": 0.0}, {\"sex\": \"Female\", \"work_experience\": \"Senior_Level\", \"realhrwage\": 16.619154891985303, \"x_work_experience_sort_index\": 1.0}, {\"sex\": \"Female\", \"work_experience\": \"Mid_Senior_Level\", \"realhrwage\": 17.533567720155578, \"x_work_experience_sort_index\": 2.0}, {\"sex\": \"Female\", \"work_experience\": \"Director_Level\", \"realhrwage\": 18.684341003645713, \"x_work_experience_sort_index\": 3.0}, {\"sex\": \"Female\", \"work_experience\": \"Principal_Level\", \"realhrwage\": 19.403965100490257, \"x_work_experience_sort_index\": 4.0}, {\"sex\": \"Female\", \"work_experience\": \"Leadership\", \"realhrwage\": 18.745850094177143, \"x_work_experience_sort_index\": 5.0}, {\"sex\": \"Male\", \"work_experience\": \"Entry_Level\", \"realhrwage\": 17.283889746665956, \"x_work_experience_sort_index\": 0.0}, {\"sex\": \"Male\", \"work_experience\": \"Senior_Level\", \"realhrwage\": 20.17160278945024, \"x_work_experience_sort_index\": 1.0}, {\"sex\": \"Male\", \"work_experience\": \"Mid_Senior_Level\", \"realhrwage\": 21.749063525222926, \"x_work_experience_sort_index\": 2.0}, {\"sex\": \"Male\", \"work_experience\": \"Director_Level\", \"realhrwage\": 22.20217536714003, \"x_work_experience_sort_index\": 3.0}, {\"sex\": \"Male\", \"work_experience\": \"Principal_Level\", \"realhrwage\": 23.44104472414041, \"x_work_experience_sort_index\": 4.0}, {\"sex\": \"Male\", \"work_experience\": \"Leadership\", \"realhrwage\": 22.731378513156532, \"x_work_experience_sort_index\": 5.0}]}, {\"name\": \"data_0\", \"values\": [{\"realhrwage\": 13.872112566887823, \"sex\": \"Female\", \"work_experience\": \"Entry_Level\"}, {\"realhrwage\": 16.619154891985303, \"sex\": \"Female\", \"work_experience\": \"Senior_Level\"}, {\"realhrwage\": 17.533567720155578, \"sex\": \"Female\", \"work_experience\": \"Mid_Senior_Level\"}, {\"realhrwage\": 18.684341003645713, \"sex\": \"Female\", \"work_experience\": \"Director_Level\"}, {\"realhrwage\": 19.403965100490257, \"sex\": \"Female\", \"work_experience\": \"Principal_Level\"}, {\"realhrwage\": 18.745850094177143, \"sex\": \"Female\", \"work_experience\": \"Leadership\"}, {\"realhrwage\": 17.283889746665956, \"sex\": \"Male\", \"work_experience\": \"Entry_Level\"}, {\"realhrwage\": 20.17160278945024, \"sex\": \"Male\", \"work_experience\": \"Senior_Level\"}, {\"realhrwage\": 21.749063525222926, \"sex\": \"Male\", \"work_experience\": \"Mid_Senior_Level\"}, {\"realhrwage\": 22.20217536714003, \"sex\": \"Male\", \"work_experience\": \"Director_Level\"}, {\"realhrwage\": 23.44104472414041, \"sex\": \"Male\", \"work_experience\": \"Principal_Level\"}, {\"realhrwage\": 22.731378513156532, \"sex\": \"Male\", \"work_experience\": \"Leadership\"}]}, {\"name\": \"source_0_x_domain_work_experience\", \"values\": [{\"sort_field\": 0.0, \"work_experience\": \"Entry_Level\"}, {\"sort_field\": 1.0, \"work_experience\": \"Senior_Level\"}, {\"sort_field\": 2.0, \"work_experience\": \"Mid_Senior_Level\"}, {\"sort_field\": 3.0, \"work_experience\": \"Director_Level\"}, {\"sort_field\": 4.0, \"work_experience\": \"Principal_Level\"}, {\"sort_field\": 5.0, \"work_experience\": \"Leadership\"}]}, {\"name\": \"source_0_color_domain_sex_0\", \"values\": [{\"sex\": \"Female\"}, {\"sex\": \"Male\"}]}, {\"name\": \"data_0_color_domain_sex_1\", \"values\": [{\"sex\": \"Female\"}, {\"sex\": \"Male\"}]}], \"marks\": [{\"type\": \"group\", \"name\": \"layer_0_pathgroup\", \"from\": {\"facet\": {\"data\": \"source_0\", \"name\": \"faceted_path_layer_0_main\", \"groupby\": [\"sex\"]}}, \"encode\": {\"update\": {\"width\": {\"field\": {\"signal\": null, \"datum\": null, \"group\": \"width\", \"parent\": null}}, \"height\": {\"field\": {\"signal\": null, \"datum\": null, \"group\": \"height\", \"parent\": null}}}}, \"marks\": [{\"type\": \"line\", \"name\": \"layer_0_marks\", \"from\": {\"data\": \"faceted_path_layer_0_main\"}, \"sort\": {\"field\": \"datum[\\\"x_work_experience_sort_index\\\"]\"}, \"encode\": {\"update\": {\"y\": {\"field\": \"realhrwage\", \"scale\": \"y\"}, \"x\": {\"field\": \"work_experience\", \"scale\": \"x\"}, \"defined\": {\"signal\": \"isValid(datum[\\\"realhrwage\\\"]) && isFinite(+datum[\\\"realhrwage\\\"])\"}, \"description\": {\"signal\": \"\\\"Experience Level: \\\" + (isValid(datum[\\\"work_experience\\\"]) ? datum[\\\"work_experience\\\"] : \\\"\\\"+datum[\\\"work_experience\\\"]) + \\\"; Average hourly wage: \\\" + (format(datum[\\\"realhrwage\\\"], \\\"\\\")) + \\\"; sex: \\\" + (isValid(datum[\\\"sex\\\"]) ? datum[\\\"sex\\\"] : \\\"\\\"+datum[\\\"sex\\\"])\"}, \"stroke\": {\"field\": \"sex\", \"scale\": \"color\"}}}, \"style\": [\"line\"]}]}, {\"type\": \"symbol\", \"name\": \"layer_1_marks\", \"from\": {\"data\": \"data_0\"}, \"encode\": {\"update\": {\"opacity\": {\"value\": 1}, \"ariaRoleDescription\": {\"value\": \"point\"}, \"x\": {\"field\": \"work_experience\", \"scale\": \"x\"}, \"y\": {\"field\": \"realhrwage\", \"scale\": \"y\"}, \"description\": {\"signal\": \"\\\"Experience Level: \\\" + (isValid(datum[\\\"work_experience\\\"]) ? datum[\\\"work_experience\\\"] : \\\"\\\"+datum[\\\"work_experience\\\"]) + \\\"; Average hourly wage: \\\" + (format(datum[\\\"realhrwage\\\"], \\\"\\\")) + \\\"; sex: \\\" + (isValid(datum[\\\"sex\\\"]) ? datum[\\\"sex\\\"] : \\\"\\\"+datum[\\\"sex\\\"])\"}, \"fill\": {\"field\": \"sex\", \"scale\": \"color\"}}}, \"style\": [\"point\"]}], \"scales\": [{\"name\": \"x\", \"type\": \"point\", \"domain\": {\"data\": \"source_0_x_domain_work_experience\", \"field\": \"work_experience\", \"sort\": {\"op\": \"max\", \"field\": \"sort_field\"}}, \"range\": [0, {\"signal\": \"width\"}], \"padding\": 0.5}, {\"name\": \"y\", \"type\": \"linear\", \"domain\": {\"fields\": [{\"data\": \"source_0\", \"field\": \"realhrwage\"}, {\"data\": \"data_0\", \"field\": \"realhrwage\"}]}, \"range\": [{\"signal\": \"height\"}, 0], \"zero\": true, \"nice\": true}, {\"name\": \"color\", \"type\": \"ordinal\", \"domain\": {\"fields\": [{\"data\": \"source_0_color_domain_sex_0\", \"field\": \"sex\"}, {\"data\": \"data_0_color_domain_sex_1\", \"field\": \"sex\"}], \"sort\": true}, \"range\": \"category\"}], \"axes\": [{\"scale\": \"y\", \"minExtent\": 0, \"aria\": false, \"orient\": \"left\", \"tickCount\": 6, \"zindex\": 0, \"domain\": false, \"gridScale\": \"x\", \"grid\": true, \"maxExtent\": 0, \"ticks\": false, \"labels\": false}, {\"scale\": \"x\", \"labelBaseline\": \"top\", \"title\": \"Experience Level\", \"labelAngle\": 0, \"orient\": \"bottom\", \"grid\": false, \"zindex\": 0}, {\"scale\": \"y\", \"grid\": false, \"tickCount\": 6, \"title\": \"Average hourly wage\", \"zindex\": 0, \"orient\": \"left\", \"labelOverlap\": true}], \"title\": {\"text\": \"Trend of Hourly wage based on experience level\", \"anchor\": \"middle\", \"offset\": 30, \"frame\": \"group\"}, \"legends\": [{\"title\": \"Sex\", \"stroke\": \"color\", \"symbolType\": \"circle\", \"fill\": \"color\", \"encode\": {\"symbols\": {\"update\": {\"opacity\": {\"value\": 1}}}}}], \"config\": {\"axisX\": {\"titlePadding\": 10}, \"style\": {\"cell\": {\"strokeWidth\": 0}}}, \"height\": 250, \"style\": \"cell\", \"width\": 600, \"background\": \"white\", \"padding\": 5}, {\"mode\": \"vega\"});\n",
       "</script>"
      ],
      "text/plain": [
       "alt.Chart(...)"
      ]
     },
     "execution_count": 32,
     "metadata": {},
     "output_type": "execute_result"
    }
   ],
   "source": [
    "# Group the data by 'sex' and 'working_hardness' and calculate the mean of 'realhrwage'\n",
    "grouped_data = exp_dynamics.groupby(['sex', 'work_experience'])['realhrwage'].mean().reset_index()\n",
    "\n",
    "# Create the plot\n",
    "chart = alt.Chart(grouped_data).mark_line(point=True).encode(\n",
    "    x=alt.X('work_experience:O', title='Experience Level', sort=categories, axis=alt.Axis(labelAngle=0)),\n",
    "    y=alt.Y('realhrwage:Q', title='Average hourly wage', axis=alt.Axis(tickCount=6)),\n",
    "    color=alt.Color('sex:N', legend=alt.Legend(title='Sex'))\n",
    ").properties(\n",
    "    title=alt.TitleParams(text='Trend of Hourly wage based on experience level', anchor='middle', offset=30),\n",
    "    width=600,\n",
    "    height=250\n",
    ")\n",
    "\n",
    "# Display the plot\n",
    "chart.configure_axis().configure_view(strokeWidth=0).configure_axisX(titlePadding=10)"
   ]
  },
  {
   "cell_type": "markdown",
   "id": "d00f2749",
   "metadata": {
    "id": "d00f2749"
   },
   "source": [
    "From the above graph, it is clearly evident that men consistently earn higher wages than women across all levels of work experience indicating the presence of gender-based wage gap.\n",
    "\n",
    "\n",
    "The graph clearly illustrates that a gender-based wage gap exists, with men consistently earning higher wages than women across all levels of work experience. This disparity is influenced by factors such as occupational segregation, negotiation differences, gender bias, and work-life balance challenges, underscoring the need for targeted efforts to address and rectify this long-standing issue in the workforce. Typically, female will earn about $3 less for each level than male.\n",
    "\n",
    "Explain more....."
   ]
  },
  {
   "cell_type": "markdown",
   "id": "c14952a4",
   "metadata": {
    "id": "c14952a4"
   },
   "source": [
    "#### Thereby, as the next step, it is important to investigate similarly if other factors such as education, racial disparities, working hours, play a role in this disparity."
   ]
  },
  {
   "cell_type": "markdown",
   "id": "f337548a",
   "metadata": {
    "id": "f337548a"
   },
   "source": [
    "# <font color = blue> Does education account for the wage disparity ?"
   ]
  },
  {
   "cell_type": "code",
   "execution_count": 33,
   "id": "a8e4bb22",
   "metadata": {
    "id": "a8e4bb22"
   },
   "outputs": [],
   "source": [
    "# Creating a subset of data with wage, sex and years of experience\n",
    "\n",
    "edu_dynamics = income_dynamics[['sex','degupd','realhrwage']]"
   ]
  },
  {
   "cell_type": "code",
   "execution_count": 34,
   "id": "367220f0",
   "metadata": {
    "id": "367220f0"
   },
   "outputs": [],
   "source": [
    "# Replacing the encoded values with actual education level\n",
    "edu_dynamics = edu_dynamics.copy()\n",
    "\n",
    "# Define conditions and corresponding categories\n",
    "education_conditions = [\n",
    "    (edu_dynamics['degupd'] == 0),\n",
    "    (edu_dynamics['degupd'] == 1),\n",
    "    (edu_dynamics['degupd'] == 2)\n",
    "]\n",
    "\n",
    "education_categories = [\n",
    "    'High School',\n",
    "    \"Bachelor's Degree\",\n",
    "    \"Master's Degree\"\n",
    "]\n",
    "\n",
    "# Create a new column 'education_level' based on conditions and categories\n",
    "edu_dynamics['education_level'] = pd.Categorical(np.select(education_conditions, education_categories, default='Other'), categories=education_categories)"
   ]
  },
  {
   "cell_type": "code",
   "execution_count": 35,
   "id": "a3d707c4",
   "metadata": {
    "id": "a3d707c4"
   },
   "outputs": [],
   "source": [
    "income_dynamics = income_dynamics.copy()\n",
    "\n",
    "income_dynamics['education_level'] = edu_dynamics['education_level']"
   ]
  },
  {
   "cell_type": "markdown",
   "id": "eeedbf9f",
   "metadata": {
    "id": "eeedbf9f"
   },
   "source": [
    "### Proportion of male and female with respect to each education level"
   ]
  },
  {
   "cell_type": "code",
   "execution_count": 36,
   "id": "9f5139c2",
   "metadata": {
    "id": "9f5139c2",
    "outputId": "b5142dae-50f4-44de-faaf-fd8dc1cb2201"
   },
   "outputs": [
    {
     "data": {
      "text/html": [
       "\n",
       "<style>\n",
       "  #altair-viz-cc285a4b455d46508c158ed85f192f82.vega-embed {\n",
       "    width: 100%;\n",
       "    display: flex;\n",
       "  }\n",
       "\n",
       "  #altair-viz-cc285a4b455d46508c158ed85f192f82.vega-embed details,\n",
       "  #altair-viz-cc285a4b455d46508c158ed85f192f82.vega-embed details summary {\n",
       "    position: relative;\n",
       "  }\n",
       "</style>\n",
       "<div id=\"altair-viz-cc285a4b455d46508c158ed85f192f82\"></div>\n",
       "<script type=\"text/javascript\">\n",
       "  var VEGA_DEBUG = (typeof VEGA_DEBUG == \"undefined\") ? {} : VEGA_DEBUG;\n",
       "  (function(spec, embedOpt){\n",
       "    let outputDiv = document.currentScript.previousElementSibling;\n",
       "    if (outputDiv.id !== \"altair-viz-cc285a4b455d46508c158ed85f192f82\") {\n",
       "      outputDiv = document.getElementById(\"altair-viz-cc285a4b455d46508c158ed85f192f82\");\n",
       "    }\n",
       "    const paths = {\n",
       "      \"vega\": \"https://cdn.jsdelivr.net/npm/vega@5?noext\",\n",
       "      \"vega-lib\": \"https://cdn.jsdelivr.net/npm/vega-lib?noext\",\n",
       "      \"vega-lite\": \"https://cdn.jsdelivr.net/npm/vega-lite@5.14.1?noext\",\n",
       "      \"vega-embed\": \"https://cdn.jsdelivr.net/npm/vega-embed@6?noext\",\n",
       "    };\n",
       "\n",
       "    function maybeLoadScript(lib, version) {\n",
       "      var key = `${lib.replace(\"-\", \"\")}_version`;\n",
       "      return (VEGA_DEBUG[key] == version) ?\n",
       "        Promise.resolve(paths[lib]) :\n",
       "        new Promise(function(resolve, reject) {\n",
       "          var s = document.createElement('script');\n",
       "          document.getElementsByTagName(\"head\")[0].appendChild(s);\n",
       "          s.async = true;\n",
       "          s.onload = () => {\n",
       "            VEGA_DEBUG[key] = version;\n",
       "            return resolve(paths[lib]);\n",
       "          };\n",
       "          s.onerror = () => reject(`Error loading script: ${paths[lib]}`);\n",
       "          s.src = paths[lib];\n",
       "        });\n",
       "    }\n",
       "\n",
       "    function showError(err) {\n",
       "      outputDiv.innerHTML = `<div class=\"error\" style=\"color:red;\">${err}</div>`;\n",
       "      throw err;\n",
       "    }\n",
       "\n",
       "    function displayChart(vegaEmbed) {\n",
       "      vegaEmbed(outputDiv, spec, embedOpt)\n",
       "        .catch(err => showError(`Javascript Error: ${err.message}<br>This usually means there's a typo in your chart specification. See the javascript console for the full traceback.`));\n",
       "    }\n",
       "\n",
       "    if(typeof define === \"function\" && define.amd) {\n",
       "      requirejs.config({paths});\n",
       "      require([\"vega-embed\"], displayChart, err => showError(`Error loading script: ${err.message}`));\n",
       "    } else {\n",
       "      maybeLoadScript(\"vega\", \"5\")\n",
       "        .then(() => maybeLoadScript(\"vega-lite\", \"5.14.1\"))\n",
       "        .then(() => maybeLoadScript(\"vega-embed\", \"6\"))\n",
       "        .catch(showError)\n",
       "        .then(() => displayChart(vegaEmbed));\n",
       "    }\n",
       "  })({\"$schema\": \"https://vega.github.io/schema/vega/v5.json\", \"data\": [{\"name\": \"source_0\", \"values\": [{\"education_level\": \"High School\", \"sex\": \"Female\", \"count\": 12015, \"count_start\": 0.0, \"count_end\": 12015.0}, {\"education_level\": \"High School\", \"sex\": \"Male\", \"count\": 11229, \"count_start\": 0.0, \"count_end\": 11229.0}, {\"education_level\": \"Bachelor's Degree\", \"sex\": \"Female\", \"count\": 3053, \"count_start\": 0.0, \"count_end\": 3053.0}, {\"education_level\": \"Bachelor's Degree\", \"sex\": \"Male\", \"count\": 2588, \"count_start\": 0.0, \"count_end\": 2588.0}, {\"education_level\": \"Master's Degree\", \"sex\": \"Female\", \"count\": 1429, \"count_start\": 0.0, \"count_end\": 1429.0}, {\"education_level\": \"Master's Degree\", \"sex\": \"Male\", \"count\": 1026, \"count_start\": 0.0, \"count_end\": 1026.0}]}, {\"name\": \"column_domain\", \"values\": [{\"education_level\": \"High School\", \"count\": 2}, {\"education_level\": \"Bachelor's Degree\", \"count\": 2}, {\"education_level\": \"Master's Degree\", \"count\": 2}]}, {\"name\": \"source_0_x_domain_sex\", \"values\": [{\"sex\": \"Female\"}, {\"sex\": \"Male\"}]}, {\"name\": \"source_0_color_domain_sex\", \"values\": [{\"sex\": \"Female\"}, {\"sex\": \"Male\"}]}], \"signals\": [{\"name\": \"child_width\", \"value\": 150}, {\"name\": \"child_height\", \"value\": 300}], \"marks\": [{\"type\": \"group\", \"name\": \"column-title\", \"title\": {\"text\": \"Education Level\", \"style\": \"guide-title\", \"offset\": 10}, \"role\": \"column-title\"}, {\"type\": \"group\", \"name\": \"row_header\", \"encode\": {\"update\": {\"height\": {\"signal\": \"child_height\"}}}, \"axes\": [{\"scale\": \"y\", \"zindex\": 0, \"grid\": false, \"labelOverlap\": true, \"tickCount\": {\"signal\": \"ceil(child_height/40)\"}, \"orient\": \"left\", \"title\": \"Count\"}], \"role\": \"row-header\"}, {\"type\": \"group\", \"name\": \"column_header\", \"from\": {\"data\": \"column_domain\"}, \"sort\": {\"field\": \"datum[\\\"education_level\\\"]\", \"order\": \"ascending\"}, \"encode\": {\"update\": {\"width\": {\"signal\": \"child_width\"}}}, \"title\": {\"text\": {\"signal\": \"isValid(parent[\\\"education_level\\\"]) ? parent[\\\"education_level\\\"] : \\\"\\\"+parent[\\\"education_level\\\"]\"}, \"frame\": \"group\", \"offset\": 10, \"style\": \"guide-label\"}, \"role\": \"column-header\"}, {\"type\": \"group\", \"name\": \"column_footer\", \"from\": {\"data\": \"column_domain\"}, \"sort\": {\"field\": \"datum[\\\"education_level\\\"]\", \"order\": \"ascending\"}, \"encode\": {\"update\": {\"width\": {\"signal\": \"child_width\"}}}, \"axes\": [{\"scale\": \"x\", \"labelAlign\": \"right\", \"orient\": \"bottom\", \"labelAngle\": 270, \"labelBaseline\": \"middle\", \"zindex\": 0, \"grid\": false}], \"role\": \"column-footer\"}, {\"type\": \"group\", \"name\": \"cell\", \"from\": {\"facet\": {\"data\": \"source_0\", \"name\": \"facet\", \"groupby\": [\"education_level\"]}}, \"sort\": {\"field\": [\"datum[\\\"education_level\\\"]\"], \"order\": [\"ascending\"]}, \"encode\": {\"update\": {\"width\": {\"signal\": \"child_width\"}, \"height\": {\"signal\": \"child_height\"}}}, \"marks\": [{\"type\": \"rect\", \"name\": \"child_marks\", \"from\": {\"data\": \"facet\"}, \"encode\": {\"update\": {\"fill\": {\"field\": \"sex\", \"scale\": \"color\"}, \"description\": {\"signal\": \"\\\"sex: \\\" + (isValid(datum[\\\"sex\\\"]) ? datum[\\\"sex\\\"] : \\\"\\\"+datum[\\\"sex\\\"]) + \\\"; Count: \\\" + (format(datum[\\\"count\\\"], \\\"\\\"))\"}, \"x\": {\"field\": \"sex\", \"scale\": \"x\"}, \"width\": {\"signal\": \"max(0.25, bandwidth('x'))\"}, \"y\": {\"field\": \"count_end\", \"scale\": \"y\"}, \"ariaRoleDescription\": {\"value\": \"bar\"}, \"y2\": {\"field\": \"count_start\", \"scale\": \"y\"}}}, \"style\": [\"bar\"]}], \"axes\": [{\"scale\": \"y\", \"gridScale\": \"x\", \"grid\": true, \"zindex\": 0, \"aria\": false, \"domain\": false, \"orient\": \"left\", \"maxExtent\": 0, \"ticks\": false, \"tickCount\": {\"signal\": \"ceil(child_height/40)\"}, \"labels\": false, \"minExtent\": 0}], \"style\": \"cell\"}], \"scales\": [{\"name\": \"x\", \"type\": \"band\", \"domain\": {\"data\": \"source_0_x_domain_sex\", \"field\": \"sex\", \"sort\": true}, \"range\": [0, {\"signal\": \"child_width\"}], \"paddingInner\": 0.1, \"paddingOuter\": 0.05}, {\"name\": \"y\", \"type\": \"linear\", \"domain\": {\"data\": \"source_0\", \"fields\": [\"count_start\", \"count_end\"]}, \"range\": [{\"signal\": \"child_height\"}, 0], \"zero\": true, \"nice\": true}, {\"name\": \"color\", \"type\": \"ordinal\", \"domain\": {\"data\": \"source_0_color_domain_sex\", \"field\": \"sex\", \"sort\": true}, \"range\": \"category\"}], \"title\": {\"text\": \"Number of Males and Females by Education Level\", \"anchor\": \"middle\", \"offset\": 30}, \"layout\": {\"padding\": 20, \"offset\": {\"columnTitle\": 10}, \"columns\": {\"signal\": \"length(data('column_domain'))\"}, \"bounds\": \"full\", \"align\": \"all\"}, \"padding\": 5, \"background\": \"white\", \"legends\": [{\"fill\": \"color\", \"symbolType\": \"square\", \"title\": \"sex\"}], \"config\": {\"axisX\": {\"labels\": false}, \"axisY\": {\"labels\": true}, \"style\": {\"cell\": {\"strokeWidth\": 0}}}}, {\"mode\": \"vega\"});\n",
       "</script>"
      ],
      "text/plain": [
       "alt.Chart(...)"
      ]
     },
     "execution_count": 36,
     "metadata": {},
     "output_type": "execute_result"
    }
   ],
   "source": [
    "# Group the data by 'education_level' and 'sex' and calculate the count\n",
    "grouped_data = edu_dynamics.groupby(['education_level', 'sex']).size().reset_index(name='count')\n",
    "\n",
    "# Create the grouped bar plot\n",
    "grouped_bar_plot = alt.Chart(grouped_data).mark_bar().encode(\n",
    "    x=alt.X('sex:N', title=None),\n",
    "    y=alt.Y('count:Q', title='Count'),\n",
    "    color='sex:N',\n",
    "    column=alt.Column('education_level:N', title='Education Level')\n",
    ").properties(title=alt.TitleParams(text='Number of Males and Females by Education Level',anchor='middle', offset=30), width=150)\n",
    "\n",
    "# Display the plot\n",
    "grouped_bar_plot.configure_axisX(labels=False).configure_axisY(labels=True).configure_view(strokeWidth=0)"
   ]
  },
  {
   "cell_type": "markdown",
   "id": "9c03ef77",
   "metadata": {
    "id": "9c03ef77"
   },
   "source": [
    "A significant majority of individuals have attained a high school education as their highest level of academic achievement. Furthermore, across all three education categories (High School, Bachelor's Degree, and Master's Degree), the distribution of males and females is relatively balanced, with females slightly outnumbering males in certain instances.\n",
    "\n",
    "These findings provide valuable insights about the gender representation under each educational profile, showing that it is equal."
   ]
  },
  {
   "cell_type": "markdown",
   "id": "c440168f",
   "metadata": {
    "id": "c440168f"
   },
   "source": [
    "### Visualizing the difference in wage between men and women with similar education levels"
   ]
  },
  {
   "cell_type": "code",
   "execution_count": 37,
   "id": "131efb6c",
   "metadata": {
    "id": "131efb6c",
    "outputId": "8b0b690b-a7a6-44b3-8fa8-0f6ec525b404"
   },
   "outputs": [
    {
     "data": {
      "text/html": [
       "\n",
       "<style>\n",
       "  #altair-viz-fb9732686459478c9087cff5343ca125.vega-embed {\n",
       "    width: 100%;\n",
       "    display: flex;\n",
       "  }\n",
       "\n",
       "  #altair-viz-fb9732686459478c9087cff5343ca125.vega-embed details,\n",
       "  #altair-viz-fb9732686459478c9087cff5343ca125.vega-embed details summary {\n",
       "    position: relative;\n",
       "  }\n",
       "</style>\n",
       "<div id=\"altair-viz-fb9732686459478c9087cff5343ca125\"></div>\n",
       "<script type=\"text/javascript\">\n",
       "  var VEGA_DEBUG = (typeof VEGA_DEBUG == \"undefined\") ? {} : VEGA_DEBUG;\n",
       "  (function(spec, embedOpt){\n",
       "    let outputDiv = document.currentScript.previousElementSibling;\n",
       "    if (outputDiv.id !== \"altair-viz-fb9732686459478c9087cff5343ca125\") {\n",
       "      outputDiv = document.getElementById(\"altair-viz-fb9732686459478c9087cff5343ca125\");\n",
       "    }\n",
       "    const paths = {\n",
       "      \"vega\": \"https://cdn.jsdelivr.net/npm/vega@5?noext\",\n",
       "      \"vega-lib\": \"https://cdn.jsdelivr.net/npm/vega-lib?noext\",\n",
       "      \"vega-lite\": \"https://cdn.jsdelivr.net/npm/vega-lite@5.14.1?noext\",\n",
       "      \"vega-embed\": \"https://cdn.jsdelivr.net/npm/vega-embed@6?noext\",\n",
       "    };\n",
       "\n",
       "    function maybeLoadScript(lib, version) {\n",
       "      var key = `${lib.replace(\"-\", \"\")}_version`;\n",
       "      return (VEGA_DEBUG[key] == version) ?\n",
       "        Promise.resolve(paths[lib]) :\n",
       "        new Promise(function(resolve, reject) {\n",
       "          var s = document.createElement('script');\n",
       "          document.getElementsByTagName(\"head\")[0].appendChild(s);\n",
       "          s.async = true;\n",
       "          s.onload = () => {\n",
       "            VEGA_DEBUG[key] = version;\n",
       "            return resolve(paths[lib]);\n",
       "          };\n",
       "          s.onerror = () => reject(`Error loading script: ${paths[lib]}`);\n",
       "          s.src = paths[lib];\n",
       "        });\n",
       "    }\n",
       "\n",
       "    function showError(err) {\n",
       "      outputDiv.innerHTML = `<div class=\"error\" style=\"color:red;\">${err}</div>`;\n",
       "      throw err;\n",
       "    }\n",
       "\n",
       "    function displayChart(vegaEmbed) {\n",
       "      vegaEmbed(outputDiv, spec, embedOpt)\n",
       "        .catch(err => showError(`Javascript Error: ${err.message}<br>This usually means there's a typo in your chart specification. See the javascript console for the full traceback.`));\n",
       "    }\n",
       "\n",
       "    if(typeof define === \"function\" && define.amd) {\n",
       "      requirejs.config({paths});\n",
       "      require([\"vega-embed\"], displayChart, err => showError(`Error loading script: ${err.message}`));\n",
       "    } else {\n",
       "      maybeLoadScript(\"vega\", \"5\")\n",
       "        .then(() => maybeLoadScript(\"vega-lite\", \"5.14.1\"))\n",
       "        .then(() => maybeLoadScript(\"vega-embed\", \"6\"))\n",
       "        .catch(showError)\n",
       "        .then(() => displayChart(vegaEmbed));\n",
       "    }\n",
       "  })({\"$schema\": \"https://vega.github.io/schema/vega/v5.json\", \"data\": [{\"name\": \"source_0\", \"values\": [{\"sex\": \"Female\", \"education_level\": \"High School\", \"realhrwage\": 14.926297312382108, \"x_education_level_sort_index\": 6.0}, {\"sex\": \"Female\", \"education_level\": \"Bachelor's Degree\", \"realhrwage\": 21.686473574436885, \"x_education_level_sort_index\": 6.0}, {\"sex\": \"Female\", \"education_level\": \"Master's Degree\", \"realhrwage\": 26.52838304311433, \"x_education_level_sort_index\": 6.0}, {\"sex\": \"Male\", \"education_level\": \"High School\", \"realhrwage\": 19.491552262030616, \"x_education_level_sort_index\": 6.0}, {\"sex\": \"Male\", \"education_level\": \"Bachelor's Degree\", \"realhrwage\": 25.866215945395655, \"x_education_level_sort_index\": 6.0}, {\"sex\": \"Male\", \"education_level\": \"Master's Degree\", \"realhrwage\": 28.42008606894904, \"x_education_level_sort_index\": 6.0}]}, {\"name\": \"data_0\", \"values\": [{\"education_level\": \"High School\", \"realhrwage\": 14.926297312382108, \"sex\": \"Female\"}, {\"education_level\": \"Bachelor's Degree\", \"realhrwage\": 21.686473574436885, \"sex\": \"Female\"}, {\"education_level\": \"Master's Degree\", \"realhrwage\": 26.52838304311433, \"sex\": \"Female\"}, {\"education_level\": \"High School\", \"realhrwage\": 19.491552262030616, \"sex\": \"Male\"}, {\"education_level\": \"Bachelor's Degree\", \"realhrwage\": 25.866215945395655, \"sex\": \"Male\"}, {\"education_level\": \"Master's Degree\", \"realhrwage\": 28.42008606894904, \"sex\": \"Male\"}]}, {\"name\": \"source_0_x_domain_education_level\", \"values\": [{\"education_level\": \"High School\", \"sort_field\": 6.0}, {\"education_level\": \"Bachelor's Degree\", \"sort_field\": 6.0}, {\"education_level\": \"Master's Degree\", \"sort_field\": 6.0}]}, {\"name\": \"source_0_color_domain_sex_0\", \"values\": [{\"sex\": \"Female\"}, {\"sex\": \"Male\"}]}, {\"name\": \"data_0_color_domain_sex_1\", \"values\": [{\"sex\": \"Female\"}, {\"sex\": \"Male\"}]}], \"marks\": [{\"type\": \"group\", \"name\": \"layer_0_pathgroup\", \"from\": {\"facet\": {\"data\": \"source_0\", \"name\": \"faceted_path_layer_0_main\", \"groupby\": [\"sex\"]}}, \"encode\": {\"update\": {\"height\": {\"field\": {\"signal\": null, \"datum\": null, \"group\": \"height\", \"parent\": null}}, \"width\": {\"field\": {\"signal\": null, \"datum\": null, \"group\": \"width\", \"parent\": null}}}}, \"marks\": [{\"type\": \"line\", \"name\": \"layer_0_marks\", \"from\": {\"data\": \"faceted_path_layer_0_main\"}, \"sort\": {\"field\": \"datum[\\\"x_education_level_sort_index\\\"]\"}, \"encode\": {\"update\": {\"description\": {\"signal\": \"\\\"Education Level: \\\" + (isValid(datum[\\\"education_level\\\"]) ? datum[\\\"education_level\\\"] : \\\"\\\"+datum[\\\"education_level\\\"]) + \\\"; Average hourly wage: \\\" + (format(datum[\\\"realhrwage\\\"], \\\"\\\")) + \\\"; sex: \\\" + (isValid(datum[\\\"sex\\\"]) ? datum[\\\"sex\\\"] : \\\"\\\"+datum[\\\"sex\\\"])\"}, \"x\": {\"field\": \"education_level\", \"scale\": \"x\"}, \"y\": {\"field\": \"realhrwage\", \"scale\": \"y\"}, \"stroke\": {\"field\": \"sex\", \"scale\": \"color\"}, \"defined\": {\"signal\": \"isValid(datum[\\\"realhrwage\\\"]) && isFinite(+datum[\\\"realhrwage\\\"])\"}}}, \"style\": [\"line\"]}]}, {\"type\": \"symbol\", \"name\": \"layer_1_marks\", \"from\": {\"data\": \"data_0\"}, \"encode\": {\"update\": {\"fill\": {\"field\": \"sex\", \"scale\": \"color\"}, \"opacity\": {\"value\": 1}, \"ariaRoleDescription\": {\"value\": \"point\"}, \"description\": {\"signal\": \"\\\"Education Level: \\\" + (isValid(datum[\\\"education_level\\\"]) ? datum[\\\"education_level\\\"] : \\\"\\\"+datum[\\\"education_level\\\"]) + \\\"; Average hourly wage: \\\" + (format(datum[\\\"realhrwage\\\"], \\\"\\\")) + \\\"; sex: \\\" + (isValid(datum[\\\"sex\\\"]) ? datum[\\\"sex\\\"] : \\\"\\\"+datum[\\\"sex\\\"])\"}, \"x\": {\"field\": \"education_level\", \"scale\": \"x\"}, \"y\": {\"field\": \"realhrwage\", \"scale\": \"y\"}}}, \"style\": [\"point\"]}], \"scales\": [{\"name\": \"x\", \"type\": \"point\", \"domain\": {\"data\": \"source_0_x_domain_education_level\", \"field\": \"education_level\", \"sort\": {\"op\": \"max\", \"field\": \"sort_field\"}}, \"range\": [0, {\"signal\": \"width\"}], \"padding\": 0.5}, {\"name\": \"y\", \"type\": \"linear\", \"domain\": {\"fields\": [{\"data\": \"source_0\", \"field\": \"realhrwage\"}, {\"data\": \"data_0\", \"field\": \"realhrwage\"}]}, \"range\": [{\"signal\": \"height\"}, 0], \"nice\": true, \"zero\": true}, {\"name\": \"color\", \"type\": \"ordinal\", \"domain\": {\"fields\": [{\"data\": \"source_0_color_domain_sex_0\", \"field\": \"sex\"}, {\"data\": \"data_0_color_domain_sex_1\", \"field\": \"sex\"}], \"sort\": true}, \"range\": \"category\"}], \"axes\": [{\"scale\": \"y\", \"grid\": true, \"aria\": false, \"domain\": false, \"minExtent\": 0, \"orient\": \"left\", \"maxExtent\": 0, \"zindex\": 0, \"gridScale\": \"x\", \"ticks\": false, \"labels\": false, \"tickCount\": 6}, {\"scale\": \"x\", \"zindex\": 0, \"grid\": false, \"orient\": \"bottom\", \"title\": \"Education Level\", \"labelAngle\": 0, \"labelBaseline\": \"top\"}, {\"scale\": \"y\", \"labelOverlap\": true, \"grid\": false, \"title\": \"Average hourly wage\", \"zindex\": 0, \"orient\": \"left\", \"tickCount\": 6}], \"title\": {\"text\": \"Trend of Hourly wage based on education level\", \"offset\": 30, \"anchor\": \"middle\", \"frame\": \"group\"}, \"height\": 250, \"style\": \"cell\", \"legends\": [{\"title\": \"Sex\", \"stroke\": \"color\", \"symbolType\": \"circle\", \"fill\": \"color\", \"encode\": {\"symbols\": {\"update\": {\"opacity\": {\"value\": 1}}}}}], \"background\": \"white\", \"width\": 600, \"config\": {\"axisX\": {\"titlePadding\": 10}, \"style\": {\"cell\": {\"strokeWidth\": 0}}}, \"padding\": 5}, {\"mode\": \"vega\"});\n",
       "</script>"
      ],
      "text/plain": [
       "alt.Chart(...)"
      ]
     },
     "execution_count": 37,
     "metadata": {},
     "output_type": "execute_result"
    }
   ],
   "source": [
    "# Group the data by 'sex' and 'working_hardness' and calculate the mean of 'realhrwage'\n",
    "grouped_data = edu_dynamics.groupby(['sex', 'education_level'])['realhrwage'].mean().reset_index()\n",
    "\n",
    "# Create the plot\n",
    "chart = alt.Chart(grouped_data).mark_line(point=True).encode(\n",
    "    x=alt.X('education_level:O', title='Education Level', sort=categories, axis=alt.Axis(labelAngle=0)),\n",
    "    y=alt.Y('realhrwage:Q', title='Average hourly wage', axis=alt.Axis(tickCount=6)),\n",
    "    color=alt.Color('sex:N', legend=alt.Legend(title='Sex'))\n",
    ").properties(\n",
    "    title=alt.TitleParams(text='Trend of Hourly wage based on education level', anchor='middle', offset=30),\n",
    "    width=600,\n",
    "    height=250\n",
    ")\n",
    "\n",
    "# Display the plot\n",
    "chart.configure_axis().configure_view(strokeWidth=0).configure_axisX(titlePadding=10)"
   ]
  },
  {
   "cell_type": "markdown",
   "id": "2ab7eb2f",
   "metadata": {
    "id": "2ab7eb2f"
   },
   "source": [
    "The observation suggests that regardless of the education level attained, men consistently earn higher hourly wages compared to women in your dataset.\n",
    "\n",
    "- This implies that factors beyond education play a significant role in determining wages. While education is a critical factor in wage disparity determination, it is not the sole contributor. It is possible that men and women with similar education levels may be working in different industries or occupations that offer varying wage scales.\n",
    "\n",
    "#### Hence as the next step we analyzed if this wage gap is specific to some industries."
   ]
  },
  {
   "cell_type": "markdown",
   "id": "fa4baad4",
   "metadata": {
    "id": "fa4baad4"
   },
   "source": [
    "# <font color = blue > Does racial disparities contribute to differences in wage ?"
   ]
  },
  {
   "cell_type": "code",
   "execution_count": 38,
   "id": "0e56a771",
   "metadata": {
    "id": "0e56a771"
   },
   "outputs": [],
   "source": [
    "# Creating a subset of data to include racial features\n",
    "\n",
    "race_dynamics = income_dynamics[[\"sex\", \"annhrs\", \"realhrwage\", \"region\", \"white\", \"black\", \"hisp\", \"othrace\", \"northeast\", \"northcentral\", \"south\", \"west\"]]"
   ]
  },
  {
   "cell_type": "markdown",
   "id": "00459d7f",
   "metadata": {
    "id": "00459d7f"
   },
   "source": [
    "### Visualizing the wage differences between men and women of different race"
   ]
  },
  {
   "cell_type": "code",
   "execution_count": 39,
   "id": "20fecb2d",
   "metadata": {
    "id": "20fecb2d",
    "outputId": "24de141e-d199-4f19-e19e-b8f1c3ee4c91"
   },
   "outputs": [
    {
     "data": {
      "text/html": [
       "\n",
       "<style>\n",
       "  #altair-viz-9a0131fdf17044c7a0eed30d6408d81f.vega-embed {\n",
       "    width: 100%;\n",
       "    display: flex;\n",
       "  }\n",
       "\n",
       "  #altair-viz-9a0131fdf17044c7a0eed30d6408d81f.vega-embed details,\n",
       "  #altair-viz-9a0131fdf17044c7a0eed30d6408d81f.vega-embed details summary {\n",
       "    position: relative;\n",
       "  }\n",
       "</style>\n",
       "<div id=\"altair-viz-9a0131fdf17044c7a0eed30d6408d81f\"></div>\n",
       "<script type=\"text/javascript\">\n",
       "  var VEGA_DEBUG = (typeof VEGA_DEBUG == \"undefined\") ? {} : VEGA_DEBUG;\n",
       "  (function(spec, embedOpt){\n",
       "    let outputDiv = document.currentScript.previousElementSibling;\n",
       "    if (outputDiv.id !== \"altair-viz-9a0131fdf17044c7a0eed30d6408d81f\") {\n",
       "      outputDiv = document.getElementById(\"altair-viz-9a0131fdf17044c7a0eed30d6408d81f\");\n",
       "    }\n",
       "    const paths = {\n",
       "      \"vega\": \"https://cdn.jsdelivr.net/npm/vega@5?noext\",\n",
       "      \"vega-lib\": \"https://cdn.jsdelivr.net/npm/vega-lib?noext\",\n",
       "      \"vega-lite\": \"https://cdn.jsdelivr.net/npm/vega-lite@5.14.1?noext\",\n",
       "      \"vega-embed\": \"https://cdn.jsdelivr.net/npm/vega-embed@6?noext\",\n",
       "    };\n",
       "\n",
       "    function maybeLoadScript(lib, version) {\n",
       "      var key = `${lib.replace(\"-\", \"\")}_version`;\n",
       "      return (VEGA_DEBUG[key] == version) ?\n",
       "        Promise.resolve(paths[lib]) :\n",
       "        new Promise(function(resolve, reject) {\n",
       "          var s = document.createElement('script');\n",
       "          document.getElementsByTagName(\"head\")[0].appendChild(s);\n",
       "          s.async = true;\n",
       "          s.onload = () => {\n",
       "            VEGA_DEBUG[key] = version;\n",
       "            return resolve(paths[lib]);\n",
       "          };\n",
       "          s.onerror = () => reject(`Error loading script: ${paths[lib]}`);\n",
       "          s.src = paths[lib];\n",
       "        });\n",
       "    }\n",
       "\n",
       "    function showError(err) {\n",
       "      outputDiv.innerHTML = `<div class=\"error\" style=\"color:red;\">${err}</div>`;\n",
       "      throw err;\n",
       "    }\n",
       "\n",
       "    function displayChart(vegaEmbed) {\n",
       "      vegaEmbed(outputDiv, spec, embedOpt)\n",
       "        .catch(err => showError(`Javascript Error: ${err.message}<br>This usually means there's a typo in your chart specification. See the javascript console for the full traceback.`));\n",
       "    }\n",
       "\n",
       "    if(typeof define === \"function\" && define.amd) {\n",
       "      requirejs.config({paths});\n",
       "      require([\"vega-embed\"], displayChart, err => showError(`Error loading script: ${err.message}`));\n",
       "    } else {\n",
       "      maybeLoadScript(\"vega\", \"5\")\n",
       "        .then(() => maybeLoadScript(\"vega-lite\", \"5.14.1\"))\n",
       "        .then(() => maybeLoadScript(\"vega-embed\", \"6\"))\n",
       "        .catch(showError)\n",
       "        .then(() => displayChart(vegaEmbed));\n",
       "    }\n",
       "  })({\"$schema\": \"https://vega.github.io/schema/vega/v5.json\", \"data\": [{\"name\": \"source_0\", \"values\": [{\"sex\": \"Male\", \"race\": \"white\", \"mean_realhrwage\": 21.220199119030347}, {\"sex\": \"Female\", \"race\": \"white\", \"mean_realhrwage\": 17.18235590711264}, {\"sex\": \"Male\", \"race\": \"black\", \"mean_realhrwage\": 21.220199119030347}, {\"sex\": \"Female\", \"race\": \"black\", \"mean_realhrwage\": 17.18235590711264}, {\"sex\": \"Male\", \"race\": \"hisp\", \"mean_realhrwage\": 21.220199119030347}, {\"sex\": \"Female\", \"race\": \"hisp\", \"mean_realhrwage\": 17.18235590711264}, {\"sex\": \"Male\", \"race\": \"othrace\", \"mean_realhrwage\": 21.220199119030347}, {\"sex\": \"Female\", \"race\": \"othrace\", \"mean_realhrwage\": 17.18235590711264}]}, {\"name\": \"column_domain\", \"values\": [{\"race\": \"white\", \"count\": 2}, {\"race\": \"black\", \"count\": 2}, {\"race\": \"hisp\", \"count\": 2}, {\"race\": \"othrace\", \"count\": 2}]}, {\"name\": \"source_0_x_domain_sex\", \"values\": [{\"sex\": \"Male\"}, {\"sex\": \"Female\"}]}, {\"name\": \"source_0_y_domain_mean_realhrwage\", \"values\": [{\"min\": 17.18235590711264, \"max\": 21.220199119030347}]}, {\"name\": \"source_0_color_domain_sex\", \"values\": [{\"sex\": \"Male\"}, {\"sex\": \"Female\"}]}], \"signals\": [{\"name\": \"child_width\", \"value\": 150}, {\"name\": \"child_height\", \"value\": 200}], \"marks\": [{\"type\": \"group\", \"name\": \"row_header\", \"encode\": {\"update\": {\"height\": {\"signal\": \"child_height\"}}}, \"axes\": [{\"scale\": \"y\", \"tickCount\": {\"signal\": \"ceil(child_height/40)\"}, \"zindex\": 0, \"labelOverlap\": true, \"grid\": false, \"title\": \"Mean realhrwage\", \"orient\": \"left\"}], \"role\": \"row-header\"}, {\"type\": \"group\", \"name\": \"column_header\", \"from\": {\"data\": \"column_domain\"}, \"sort\": {\"field\": \"datum[\\\"race\\\"]\", \"order\": \"ascending\"}, \"encode\": {\"update\": {\"width\": {\"signal\": \"child_width\"}}}, \"title\": {\"text\": {\"signal\": \"isValid(parent[\\\"race\\\"]) ? parent[\\\"race\\\"] : \\\"\\\"+parent[\\\"race\\\"]\"}, \"offset\": 10, \"style\": \"guide-label\", \"frame\": \"group\"}, \"role\": \"column-header\"}, {\"type\": \"group\", \"name\": \"column_footer\", \"from\": {\"data\": \"column_domain\"}, \"sort\": {\"field\": \"datum[\\\"race\\\"]\", \"order\": \"ascending\"}, \"encode\": {\"update\": {\"width\": {\"signal\": \"child_width\"}}}, \"axes\": [{\"scale\": \"x\", \"orient\": \"bottom\", \"grid\": false, \"labelAngle\": 0, \"zindex\": 0, \"labels\": false, \"labelBaseline\": \"top\"}], \"role\": \"column-footer\"}, {\"type\": \"group\", \"name\": \"cell\", \"from\": {\"facet\": {\"data\": \"source_0\", \"name\": \"facet\", \"groupby\": [\"race\"]}}, \"sort\": {\"field\": [\"datum[\\\"race\\\"]\"], \"order\": [\"ascending\"]}, \"encode\": {\"update\": {\"width\": {\"signal\": \"child_width\"}, \"height\": {\"signal\": \"child_height\"}}}, \"marks\": [{\"type\": \"rect\", \"name\": \"child_marks\", \"from\": {\"data\": \"facet\"}, \"encode\": {\"update\": {\"y\": {\"field\": \"mean_realhrwage\", \"scale\": \"y\"}, \"y2\": {\"value\": 0, \"scale\": \"y\"}, \"fill\": {\"field\": \"sex\", \"scale\": \"color\"}, \"ariaRoleDescription\": {\"value\": \"bar\"}, \"description\": {\"signal\": \"\\\"sex: \\\" + (isValid(datum[\\\"sex\\\"]) ? datum[\\\"sex\\\"] : \\\"\\\"+datum[\\\"sex\\\"]) + \\\"; Mean realhrwage: \\\" + (format(datum[\\\"mean_realhrwage\\\"], \\\"\\\")) + \\\"; Sex: \\\" + (isValid(datum[\\\"sex\\\"]) ? datum[\\\"sex\\\"] : \\\"\\\"+datum[\\\"sex\\\"])\"}, \"x\": {\"field\": \"sex\", \"scale\": \"x\"}, \"width\": {\"signal\": \"max(0.25, bandwidth('x'))\"}}}, \"style\": [\"bar\"]}], \"axes\": [{\"scale\": \"y\", \"zindex\": 0, \"orient\": \"left\", \"ticks\": false, \"maxExtent\": 0, \"labels\": false, \"tickCount\": {\"signal\": \"ceil(child_height/40)\"}, \"domain\": false, \"gridScale\": \"x\", \"minExtent\": 0, \"aria\": false, \"grid\": true}], \"style\": \"cell\"}], \"scales\": [{\"name\": \"x\", \"type\": \"band\", \"domain\": {\"data\": \"source_0_x_domain_sex\", \"field\": \"sex\", \"sort\": true}, \"range\": [0, {\"signal\": \"child_width\"}], \"paddingOuter\": 0.05, \"paddingInner\": 0.1}, {\"name\": \"y\", \"type\": \"linear\", \"domain\": [{\"signal\": \"(data(\\\"source_0_y_domain_mean_realhrwage\\\")[0] || {}).min\"}, {\"signal\": \"(data(\\\"source_0_y_domain_mean_realhrwage\\\")[0] || {}).max\"}], \"range\": [{\"signal\": \"child_height\"}, 0], \"nice\": true, \"zero\": true}, {\"name\": \"color\", \"type\": \"ordinal\", \"domain\": {\"data\": \"source_0_color_domain_sex\", \"field\": \"sex\", \"sort\": true}, \"range\": \"category\"}], \"title\": {\"text\": \"Mean realhrwage by Race and Sex\", \"anchor\": \"middle\", \"offset\": 30}, \"layout\": {\"padding\": 20, \"columns\": {\"signal\": \"length(data('column_domain'))\"}, \"bounds\": \"full\", \"align\": \"all\"}, \"legends\": [{\"title\": \"Sex\", \"fill\": \"color\", \"symbolType\": \"square\"}], \"padding\": 5, \"background\": \"white\"}, {\"mode\": \"vega\"});\n",
       "</script>"
      ],
      "text/plain": [
       "alt.Chart(...)"
      ]
     },
     "execution_count": 39,
     "metadata": {},
     "output_type": "execute_result"
    }
   ],
   "source": [
    "# Reshape the data for Altair\n",
    "data = pd.melt(race_dynamics, id_vars=['sex', 'realhrwage'], value_vars=['white', 'black', 'hisp', 'othrace'],\n",
    "               var_name='race', value_name='race_status')\n",
    "\n",
    "# Create a grouped bar chart\n",
    "chart = alt.Chart(data).mark_bar().encode(\n",
    "    x=alt.X('sex:N', title=None,axis=alt.Axis(labelAngle=0, labels=False)),\n",
    "    y=alt.Y('mean(realhrwage):Q', title='Mean realhrwage'),\n",
    "    color=alt.Color('sex:N', title='Sex'),\n",
    "    column=alt.Column('race:N', title=None)\n",
    ").properties(\n",
    "    width=150,  # Adjust the width of each subplot as needed\n",
    "    height=200,  # Adjust the height of each subplot as needed\n",
    "    title=alt.TitleParams(text='Mean realhrwage by Race and Sex', anchor='middle', offset=30),\n",
    ")\n",
    "\n",
    "chart"
   ]
  },
  {
   "cell_type": "markdown",
   "id": "cb1485d7",
   "metadata": {
    "id": "cb1485d7"
   },
   "source": [
    "In this plot, we first analyzed different races inner difference. It is obvious that whatever the races are, male earn more wage than female.\n",
    "\n",
    "The enduring wage disparities between males and females, regardless of race, persist as a consequence of multifaceted systemic and societal factors. Occupational segregation, gender-based discrimination, deeply ingrained stereotypes and expectations, differential negotiation patterns, work-life balance challenges, systemic inequities, and the underrepresentation of women and women of color in leadership roles collectively contribute to these disparities."
   ]
  },
  {
   "cell_type": "markdown",
   "id": "400e769c",
   "metadata": {
    "id": "400e769c"
   },
   "source": [
    "# <font color = blue> Does it mean there is a difference in the amount of time spent working between men and women?"
   ]
  },
  {
   "cell_type": "code",
   "execution_count": 40,
   "id": "0d45b04e",
   "metadata": {
    "id": "0d45b04e"
   },
   "outputs": [],
   "source": [
    "# Creating a subset of data with wage, sex and years of experience\n",
    "\n",
    "time_dynamics = income_dynamics[['wave', 'sex','annhrs','realhrwage']]"
   ]
  },
  {
   "cell_type": "code",
   "execution_count": 41,
   "id": "d22b81fc",
   "metadata": {
    "id": "d22b81fc",
    "outputId": "787572b0-2500-4227-994a-208592dd5fd0"
   },
   "outputs": [
    {
     "data": {
      "text/html": [
       "<div>\n",
       "<style scoped>\n",
       "    .dataframe tbody tr th:only-of-type {\n",
       "        vertical-align: middle;\n",
       "    }\n",
       "\n",
       "    .dataframe tbody tr th {\n",
       "        vertical-align: top;\n",
       "    }\n",
       "\n",
       "    .dataframe thead th {\n",
       "        text-align: right;\n",
       "    }\n",
       "</style>\n",
       "<table border=\"1\" class=\"dataframe\">\n",
       "  <thead>\n",
       "    <tr style=\"text-align: right;\">\n",
       "      <th></th>\n",
       "      <th>count</th>\n",
       "      <th>mean</th>\n",
       "      <th>std</th>\n",
       "      <th>min</th>\n",
       "      <th>25%</th>\n",
       "      <th>50%</th>\n",
       "      <th>75%</th>\n",
       "      <th>max</th>\n",
       "    </tr>\n",
       "    <tr>\n",
       "      <th>sex</th>\n",
       "      <th></th>\n",
       "      <th></th>\n",
       "      <th></th>\n",
       "      <th></th>\n",
       "      <th></th>\n",
       "      <th></th>\n",
       "      <th></th>\n",
       "      <th></th>\n",
       "    </tr>\n",
       "  </thead>\n",
       "  <tbody>\n",
       "    <tr>\n",
       "      <th>Female</th>\n",
       "      <td>16497.0</td>\n",
       "      <td>1810.550646</td>\n",
       "      <td>597.071353</td>\n",
       "      <td>10.0</td>\n",
       "      <td>1560.0</td>\n",
       "      <td>1930.0</td>\n",
       "      <td>2079.0</td>\n",
       "      <td>5100.0</td>\n",
       "    </tr>\n",
       "    <tr>\n",
       "      <th>Male</th>\n",
       "      <td>14843.0</td>\n",
       "      <td>2190.361180</td>\n",
       "      <td>580.692865</td>\n",
       "      <td>10.0</td>\n",
       "      <td>1952.0</td>\n",
       "      <td>2097.0</td>\n",
       "      <td>2464.0</td>\n",
       "      <td>5840.0</td>\n",
       "    </tr>\n",
       "  </tbody>\n",
       "</table>\n",
       "</div>"
      ],
      "text/plain": [
       "          count         mean         std   min     25%     50%     75%     max\n",
       "sex                                                                           \n",
       "Female  16497.0  1810.550646  597.071353  10.0  1560.0  1930.0  2079.0  5100.0\n",
       "Male    14843.0  2190.361180  580.692865  10.0  1952.0  2097.0  2464.0  5840.0"
      ]
     },
     "execution_count": 41,
     "metadata": {},
     "output_type": "execute_result"
    }
   ],
   "source": [
    "# Distribution of annual working hours\n",
    "\n",
    "time_dynamics.groupby('sex')['annhrs'].describe()"
   ]
  },
  {
   "cell_type": "markdown",
   "id": "2527aee6",
   "metadata": {
    "id": "2527aee6"
   },
   "source": [
    "It can be observed that average working hours of male is higher than the average working hours of female."
   ]
  },
  {
   "cell_type": "markdown",
   "id": "f6a05c48",
   "metadata": {
    "id": "f6a05c48"
   },
   "source": [
    "### Visualizing the pattern of working hours of men and women"
   ]
  },
  {
   "cell_type": "code",
   "execution_count": 42,
   "id": "e5a85891",
   "metadata": {
    "id": "e5a85891",
    "outputId": "ba4bf27b-e928-48cd-aa10-d85359d86f6a"
   },
   "outputs": [
    {
     "data": {
      "text/html": [
       "\n",
       "<style>\n",
       "  #altair-viz-0eb5890f86324750b01e37d95d0312ba.vega-embed {\n",
       "    width: 100%;\n",
       "    display: flex;\n",
       "  }\n",
       "\n",
       "  #altair-viz-0eb5890f86324750b01e37d95d0312ba.vega-embed details,\n",
       "  #altair-viz-0eb5890f86324750b01e37d95d0312ba.vega-embed details summary {\n",
       "    position: relative;\n",
       "  }\n",
       "</style>\n",
       "<div id=\"altair-viz-0eb5890f86324750b01e37d95d0312ba\"></div>\n",
       "<script type=\"text/javascript\">\n",
       "  var VEGA_DEBUG = (typeof VEGA_DEBUG == \"undefined\") ? {} : VEGA_DEBUG;\n",
       "  (function(spec, embedOpt){\n",
       "    let outputDiv = document.currentScript.previousElementSibling;\n",
       "    if (outputDiv.id !== \"altair-viz-0eb5890f86324750b01e37d95d0312ba\") {\n",
       "      outputDiv = document.getElementById(\"altair-viz-0eb5890f86324750b01e37d95d0312ba\");\n",
       "    }\n",
       "    const paths = {\n",
       "      \"vega\": \"https://cdn.jsdelivr.net/npm/vega@5?noext\",\n",
       "      \"vega-lib\": \"https://cdn.jsdelivr.net/npm/vega-lib?noext\",\n",
       "      \"vega-lite\": \"https://cdn.jsdelivr.net/npm/vega-lite@5.14.1?noext\",\n",
       "      \"vega-embed\": \"https://cdn.jsdelivr.net/npm/vega-embed@6?noext\",\n",
       "    };\n",
       "\n",
       "    function maybeLoadScript(lib, version) {\n",
       "      var key = `${lib.replace(\"-\", \"\")}_version`;\n",
       "      return (VEGA_DEBUG[key] == version) ?\n",
       "        Promise.resolve(paths[lib]) :\n",
       "        new Promise(function(resolve, reject) {\n",
       "          var s = document.createElement('script');\n",
       "          document.getElementsByTagName(\"head\")[0].appendChild(s);\n",
       "          s.async = true;\n",
       "          s.onload = () => {\n",
       "            VEGA_DEBUG[key] = version;\n",
       "            return resolve(paths[lib]);\n",
       "          };\n",
       "          s.onerror = () => reject(`Error loading script: ${paths[lib]}`);\n",
       "          s.src = paths[lib];\n",
       "        });\n",
       "    }\n",
       "\n",
       "    function showError(err) {\n",
       "      outputDiv.innerHTML = `<div class=\"error\" style=\"color:red;\">${err}</div>`;\n",
       "      throw err;\n",
       "    }\n",
       "\n",
       "    function displayChart(vegaEmbed) {\n",
       "      vegaEmbed(outputDiv, spec, embedOpt)\n",
       "        .catch(err => showError(`Javascript Error: ${err.message}<br>This usually means there's a typo in your chart specification. See the javascript console for the full traceback.`));\n",
       "    }\n",
       "\n",
       "    if(typeof define === \"function\" && define.amd) {\n",
       "      requirejs.config({paths});\n",
       "      require([\"vega-embed\"], displayChart, err => showError(`Error loading script: ${err.message}`));\n",
       "    } else {\n",
       "      maybeLoadScript(\"vega\", \"5\")\n",
       "        .then(() => maybeLoadScript(\"vega-lite\", \"5.14.1\"))\n",
       "        .then(() => maybeLoadScript(\"vega-embed\", \"6\"))\n",
       "        .catch(showError)\n",
       "        .then(() => displayChart(vegaEmbed));\n",
       "    }\n",
       "  })({\"$schema\": \"https://vega.github.io/schema/vega/v5.json\", \"data\": [{\"name\": \"source_0\", \"values\": [{\"bin_maxbins_20_annhrs\": 1500.0, \"bin_maxbins_20_annhrs_end\": 2000.0, \"sex\": \"Male\", \"__count\": 3591, \"__count_start\": 0.0, \"__count_end\": 3591.0}, {\"bin_maxbins_20_annhrs\": 500.0, \"bin_maxbins_20_annhrs_end\": 1000.0, \"sex\": \"Male\", \"__count\": 301, \"__count_start\": 0.0, \"__count_end\": 301.0}, {\"bin_maxbins_20_annhrs\": 2500.0, \"bin_maxbins_20_annhrs_end\": 3000.0, \"sex\": \"Male\", \"__count\": 2246, \"__count_start\": 0.0, \"__count_end\": 2246.0}, {\"bin_maxbins_20_annhrs\": 3000.0, \"bin_maxbins_20_annhrs_end\": 3500.0, \"sex\": \"Male\", \"__count\": 822, \"__count_start\": 0.0, \"__count_end\": 822.0}, {\"bin_maxbins_20_annhrs\": 2000.0, \"bin_maxbins_20_annhrs_end\": 2500.0, \"sex\": \"Male\", \"__count\": 6683, \"__count_start\": 0.0, \"__count_end\": 6683.0}, {\"bin_maxbins_20_annhrs\": 1000.0, \"bin_maxbins_20_annhrs_end\": 1500.0, \"sex\": \"Male\", \"__count\": 637, \"__count_start\": 0.0, \"__count_end\": 637.0}, {\"bin_maxbins_20_annhrs\": 3500.0, \"bin_maxbins_20_annhrs_end\": 4000.0, \"sex\": \"Male\", \"__count\": 264, \"__count_start\": 0.0, \"__count_end\": 264.0}, {\"bin_maxbins_20_annhrs\": 0.0, \"bin_maxbins_20_annhrs_end\": 500.0, \"sex\": \"Male\", \"__count\": 155, \"__count_start\": 0.0, \"__count_end\": 155.0}, {\"bin_maxbins_20_annhrs\": 4000.0, \"bin_maxbins_20_annhrs_end\": 4500.0, \"sex\": \"Male\", \"__count\": 110, \"__count_start\": 0.0, \"__count_end\": 110.0}, {\"bin_maxbins_20_annhrs\": 5000.0, \"bin_maxbins_20_annhrs_end\": 5500.0, \"sex\": \"Male\", \"__count\": 10, \"__count_start\": 0.0, \"__count_end\": 10.0}, {\"bin_maxbins_20_annhrs\": 4500.0, \"bin_maxbins_20_annhrs_end\": 5000.0, \"sex\": \"Male\", \"__count\": 21, \"__count_start\": 0.0, \"__count_end\": 21.0}, {\"bin_maxbins_20_annhrs\": 5500.0, \"bin_maxbins_20_annhrs_end\": 6000.0, \"sex\": \"Male\", \"__count\": 3, \"__count_start\": 0.0, \"__count_end\": 3.0}, {\"bin_maxbins_20_annhrs\": 1500.0, \"bin_maxbins_20_annhrs_end\": 2000.0, \"sex\": \"Female\", \"__count\": 6208, \"__count_start\": 0.0, \"__count_end\": 6208.0}, {\"bin_maxbins_20_annhrs\": 2000.0, \"bin_maxbins_20_annhrs_end\": 2500.0, \"sex\": \"Female\", \"__count\": 5207, \"__count_start\": 0.0, \"__count_end\": 5207.0}, {\"bin_maxbins_20_annhrs\": 1000.0, \"bin_maxbins_20_annhrs_end\": 1500.0, \"sex\": \"Female\", \"__count\": 2038, \"__count_start\": 0.0, \"__count_end\": 2038.0}, {\"bin_maxbins_20_annhrs\": 2500.0, \"bin_maxbins_20_annhrs_end\": 3000.0, \"sex\": \"Female\", \"__count\": 954, \"__count_start\": 0.0, \"__count_end\": 954.0}, {\"bin_maxbins_20_annhrs\": 500.0, \"bin_maxbins_20_annhrs_end\": 1000.0, \"sex\": \"Female\", \"__count\": 1105, \"__count_start\": 0.0, \"__count_end\": 1105.0}, {\"bin_maxbins_20_annhrs\": 0.0, \"bin_maxbins_20_annhrs_end\": 500.0, \"sex\": \"Female\", \"__count\": 575, \"__count_start\": 0.0, \"__count_end\": 575.0}, {\"bin_maxbins_20_annhrs\": 3000.0, \"bin_maxbins_20_annhrs_end\": 3500.0, \"sex\": \"Female\", \"__count\": 264, \"__count_start\": 0.0, \"__count_end\": 264.0}, {\"bin_maxbins_20_annhrs\": 3500.0, \"bin_maxbins_20_annhrs_end\": 4000.0, \"sex\": \"Female\", \"__count\": 96, \"__count_start\": 0.0, \"__count_end\": 96.0}, {\"bin_maxbins_20_annhrs\": 4000.0, \"bin_maxbins_20_annhrs_end\": 4500.0, \"sex\": \"Female\", \"__count\": 37, \"__count_start\": 0.0, \"__count_end\": 37.0}, {\"bin_maxbins_20_annhrs\": 4500.0, \"bin_maxbins_20_annhrs_end\": 5000.0, \"sex\": \"Female\", \"__count\": 10, \"__count_start\": 0.0, \"__count_end\": 10.0}, {\"bin_maxbins_20_annhrs\": 5000.0, \"bin_maxbins_20_annhrs_end\": 5500.0, \"sex\": \"Female\", \"__count\": 3, \"__count_start\": 0.0, \"__count_end\": 3.0}]}, {\"name\": \"concat_0_column_domain\", \"values\": [{\"sex\": \"Male\", \"count\": 12}, {\"sex\": \"Female\", \"count\": 11}]}, {\"name\": \"source_0_color_domain_sex\", \"values\": [{\"sex\": \"Male\"}, {\"sex\": \"Female\"}]}], \"signals\": [{\"name\": \"concat_0_child_bin_maxbins_20_annhrs_bins\", \"value\": {\"fields\": [\"annhrs\"], \"fname\": \"bin_annhrs\", \"start\": 0.0, \"step\": 500.0, \"stop\": 6000.0}}, {\"name\": \"concat_0_child_width\", \"value\": 300}, {\"name\": \"concat_0_child_height\", \"value\": 200}], \"marks\": [{\"type\": \"group\", \"name\": \"concat_0_group\", \"marks\": [{\"type\": \"group\", \"name\": \"concat_0_row_header\", \"encode\": {\"update\": {\"height\": {\"signal\": \"concat_0_child_height\"}}}, \"axes\": [{\"scale\": \"concat_0_y\", \"grid\": false, \"zindex\": 0, \"orient\": \"left\", \"labelOverlap\": true, \"title\": \"Frequency\", \"tickCount\": {\"signal\": \"ceil(concat_0_child_height/40)\"}}], \"role\": \"row-header\"}, {\"type\": \"group\", \"name\": \"concat_0_column_header\", \"from\": {\"data\": \"concat_0_column_domain\"}, \"sort\": {\"field\": \"datum[\\\"sex\\\"]\", \"order\": \"ascending\"}, \"encode\": {\"update\": {\"width\": {\"signal\": \"concat_0_child_width\"}}}, \"title\": {\"text\": {\"signal\": \"isValid(parent[\\\"sex\\\"]) ? parent[\\\"sex\\\"] : \\\"\\\"+parent[\\\"sex\\\"]\"}, \"style\": \"guide-label\", \"frame\": \"group\", \"offset\": 10}, \"role\": \"column-header\"}, {\"type\": \"group\", \"name\": \"concat_0_column_footer\", \"from\": {\"data\": \"concat_0_column_domain\"}, \"sort\": {\"field\": \"datum[\\\"sex\\\"]\", \"order\": \"ascending\"}, \"encode\": {\"update\": {\"width\": {\"signal\": \"concat_0_child_width\"}}}, \"axes\": [{\"scale\": \"concat_0_x\", \"grid\": false, \"title\": \"Annual Working Hours\", \"tickCount\": {\"signal\": \"ceil(concat_0_child_width/10)\"}, \"orient\": \"bottom\", \"labelFlush\": true, \"labelOverlap\": true, \"zindex\": 0}], \"role\": \"column-footer\"}, {\"type\": \"group\", \"name\": \"concat_0_cell\", \"from\": {\"facet\": {\"data\": \"source_0\", \"name\": \"concat_0_facet\", \"groupby\": [\"sex\"]}}, \"sort\": {\"field\": [\"datum[\\\"sex\\\"]\"], \"order\": [\"ascending\"]}, \"encode\": {\"update\": {\"width\": {\"signal\": \"concat_0_child_width\"}, \"height\": {\"signal\": \"concat_0_child_height\"}}}, \"marks\": [{\"type\": \"rect\", \"name\": \"concat_0_child_marks\", \"from\": {\"data\": \"concat_0_facet\"}, \"encode\": {\"update\": {\"description\": {\"signal\": \"\\\"Annual Working Hours: \\\" + (!isValid(datum[\\\"bin_maxbins_20_annhrs\\\"]) || !isFinite(+datum[\\\"bin_maxbins_20_annhrs\\\"]) ? \\\"null\\\" : format(datum[\\\"bin_maxbins_20_annhrs\\\"], \\\"\\\") + \\\" \\u2013 \\\" + format(datum[\\\"bin_maxbins_20_annhrs_end\\\"], \\\"\\\")) + \\\"; Frequency: \\\" + (format(datum[\\\"__count\\\"], \\\"\\\")) + \\\"; sex: \\\" + (isValid(datum[\\\"sex\\\"]) ? datum[\\\"sex\\\"] : \\\"\\\"+datum[\\\"sex\\\"])\"}, \"y2\": {\"field\": \"__count_start\", \"scale\": \"concat_0_y\"}, \"ariaRoleDescription\": {\"value\": \"bar\"}, \"fill\": {\"field\": \"sex\", \"scale\": \"color\"}, \"x\": {\"field\": \"bin_maxbins_20_annhrs_end\", \"scale\": \"concat_0_x\", \"offset\": {\"signal\": \"0.5 + (abs(scale(\\\"concat_0_x\\\", datum[\\\"bin_maxbins_20_annhrs_end\\\"]) - scale(\\\"concat_0_x\\\", datum[\\\"bin_maxbins_20_annhrs\\\"])) < 0.25 ? 0.5 * (0.25 - (abs(scale(\\\"concat_0_x\\\", datum[\\\"bin_maxbins_20_annhrs_end\\\"]) - scale(\\\"concat_0_x\\\", datum[\\\"bin_maxbins_20_annhrs\\\"])))) : -0.5)\"}}, \"y\": {\"field\": \"__count_end\", \"scale\": \"concat_0_y\"}, \"x2\": {\"field\": \"bin_maxbins_20_annhrs\", \"scale\": \"concat_0_x\", \"offset\": {\"signal\": \"0.5 + (abs(scale(\\\"concat_0_x\\\", datum[\\\"bin_maxbins_20_annhrs_end\\\"]) - scale(\\\"concat_0_x\\\", datum[\\\"bin_maxbins_20_annhrs\\\"])) < 0.25 ? -0.5 * (0.25 - (abs(scale(\\\"concat_0_x\\\", datum[\\\"bin_maxbins_20_annhrs_end\\\"]) - scale(\\\"concat_0_x\\\", datum[\\\"bin_maxbins_20_annhrs\\\"])))) : 0.5)\"}}}}, \"style\": [\"bar\"]}], \"axes\": [{\"scale\": \"concat_0_y\", \"maxExtent\": 0, \"minExtent\": 0, \"domain\": false, \"grid\": true, \"gridScale\": \"concat_0_x\", \"tickCount\": {\"signal\": \"ceil(concat_0_child_height/40)\"}, \"ticks\": false, \"zindex\": 0, \"labels\": false, \"orient\": \"left\", \"aria\": false}], \"style\": \"cell\"}], \"layout\": {\"padding\": 20, \"columns\": {\"signal\": \"length(data('concat_0_column_domain'))\"}, \"bounds\": \"full\", \"align\": \"all\"}}], \"scales\": [{\"name\": \"color\", \"type\": \"ordinal\", \"domain\": {\"data\": \"source_0_color_domain_sex\", \"field\": \"sex\", \"sort\": true}, \"range\": \"category\"}, {\"name\": \"concat_0_x\", \"type\": \"linear\", \"domain\": {\"signal\": \"[concat_0_child_bin_maxbins_20_annhrs_bins.start, concat_0_child_bin_maxbins_20_annhrs_bins.stop]\"}, \"range\": [0, {\"signal\": \"concat_0_child_width\"}], \"bins\": {\"signal\": \"concat_0_child_bin_maxbins_20_annhrs_bins\"}, \"zero\": false}, {\"name\": \"concat_0_y\", \"type\": \"linear\", \"domain\": {\"data\": \"source_0\", \"fields\": [\"__count_start\", \"__count_end\"]}, \"range\": [{\"signal\": \"concat_0_child_height\"}, 0], \"zero\": true, \"nice\": true}], \"title\": {\"text\": \"Distribution of Annual Working Hours by Sex\", \"anchor\": \"middle\"}, \"background\": \"white\", \"padding\": 5, \"layout\": {\"padding\": 20, \"bounds\": \"full\", \"align\": \"each\"}}, {\"mode\": \"vega\"});\n",
       "</script>"
      ],
      "text/plain": [
       "alt.ConcatChart(...)"
      ]
     },
     "execution_count": 42,
     "metadata": {},
     "output_type": "execute_result"
    }
   ],
   "source": [
    "# Create a histogram plot\n",
    "chart = alt.Chart(time_dynamics).mark_bar().encode(\n",
    "    x=alt.X('annhrs:Q', bin=alt.Bin(maxbins=20), title='Annual Working Hours'),\n",
    "    y=alt.Y('count()', title='Frequency'),\n",
    "    color=alt.Color('sex:N', legend=None)\n",
    ").properties(\n",
    "    width=300,  # Adjust the width of each subplot as needed\n",
    "    height=200,  # Adjust the height of each subplot as needed\n",
    ")\n",
    "\n",
    "# Facet the plot by 'sex'\n",
    "facet_chart = chart.facet(column=alt.Column('sex:N', header=alt.Header(titlePadding=30,title= None)))\n",
    "\n",
    "# Concatenate the facets and set a common title\n",
    "combined_chart = alt.concat(facet_chart, title=alt.TitleParams(text='Distribution of Annual Working Hours by Sex', anchor='middle'))\n",
    "\n",
    "# Show the plot\n",
    "combined_chart"
   ]
  },
  {
   "cell_type": "markdown",
   "id": "3c793915",
   "metadata": {
    "id": "3c793915"
   },
   "source": [
    "As we can see from the plot, male has more frequency working more than 2000 hours but female has more frequency working less than 2000 or about 2000. It might because female need to spend more time on family weekly and when we focus on annually, the difference become significant. More working time means more exprience and better performance in work. It might also be a possible reason for wage gap."
   ]
  },
  {
   "cell_type": "markdown",
   "id": "e4678cdf",
   "metadata": {
    "id": "e4678cdf"
   },
   "source": [
    "### Visualizing difference in working hours by occupation"
   ]
  },
  {
   "cell_type": "code",
   "execution_count": 43,
   "id": "1538c508",
   "metadata": {
    "id": "1538c508",
    "outputId": "0567a3f4-0575-405a-9d9d-ee09b7af0b18",
    "scrolled": true
   },
   "outputs": [
    {
     "data": {
      "text/html": [
       "\n",
       "<style>\n",
       "  #altair-viz-8ccbb758e5e642f486939ff44ec52013.vega-embed {\n",
       "    width: 100%;\n",
       "    display: flex;\n",
       "  }\n",
       "\n",
       "  #altair-viz-8ccbb758e5e642f486939ff44ec52013.vega-embed details,\n",
       "  #altair-viz-8ccbb758e5e642f486939ff44ec52013.vega-embed details summary {\n",
       "    position: relative;\n",
       "  }\n",
       "</style>\n",
       "<div id=\"altair-viz-8ccbb758e5e642f486939ff44ec52013\"></div>\n",
       "<script type=\"text/javascript\">\n",
       "  var VEGA_DEBUG = (typeof VEGA_DEBUG == \"undefined\") ? {} : VEGA_DEBUG;\n",
       "  (function(spec, embedOpt){\n",
       "    let outputDiv = document.currentScript.previousElementSibling;\n",
       "    if (outputDiv.id !== \"altair-viz-8ccbb758e5e642f486939ff44ec52013\") {\n",
       "      outputDiv = document.getElementById(\"altair-viz-8ccbb758e5e642f486939ff44ec52013\");\n",
       "    }\n",
       "    const paths = {\n",
       "      \"vega\": \"https://cdn.jsdelivr.net/npm/vega@5?noext\",\n",
       "      \"vega-lib\": \"https://cdn.jsdelivr.net/npm/vega-lib?noext\",\n",
       "      \"vega-lite\": \"https://cdn.jsdelivr.net/npm/vega-lite@5.14.1?noext\",\n",
       "      \"vega-embed\": \"https://cdn.jsdelivr.net/npm/vega-embed@6?noext\",\n",
       "    };\n",
       "\n",
       "    function maybeLoadScript(lib, version) {\n",
       "      var key = `${lib.replace(\"-\", \"\")}_version`;\n",
       "      return (VEGA_DEBUG[key] == version) ?\n",
       "        Promise.resolve(paths[lib]) :\n",
       "        new Promise(function(resolve, reject) {\n",
       "          var s = document.createElement('script');\n",
       "          document.getElementsByTagName(\"head\")[0].appendChild(s);\n",
       "          s.async = true;\n",
       "          s.onload = () => {\n",
       "            VEGA_DEBUG[key] = version;\n",
       "            return resolve(paths[lib]);\n",
       "          };\n",
       "          s.onerror = () => reject(`Error loading script: ${paths[lib]}`);\n",
       "          s.src = paths[lib];\n",
       "        });\n",
       "    }\n",
       "\n",
       "    function showError(err) {\n",
       "      outputDiv.innerHTML = `<div class=\"error\" style=\"color:red;\">${err}</div>`;\n",
       "      throw err;\n",
       "    }\n",
       "\n",
       "    function displayChart(vegaEmbed) {\n",
       "      vegaEmbed(outputDiv, spec, embedOpt)\n",
       "        .catch(err => showError(`Javascript Error: ${err.message}<br>This usually means there's a typo in your chart specification. See the javascript console for the full traceback.`));\n",
       "    }\n",
       "\n",
       "    if(typeof define === \"function\" && define.amd) {\n",
       "      requirejs.config({paths});\n",
       "      require([\"vega-embed\"], displayChart, err => showError(`Error loading script: ${err.message}`));\n",
       "    } else {\n",
       "      maybeLoadScript(\"vega\", \"5\")\n",
       "        .then(() => maybeLoadScript(\"vega-lite\", \"5.14.1\"))\n",
       "        .then(() => maybeLoadScript(\"vega-embed\", \"6\"))\n",
       "        .catch(showError)\n",
       "        .then(() => displayChart(vegaEmbed));\n",
       "    }\n",
       "  })({\"$schema\": \"https://vega.github.io/schema/vega/v5.json\", \"data\": [{\"name\": \"source_0\", \"values\": [{\"sex\": \"Female\", \"Field of Work\": \"Agriculture\", \"annhrs\": 1469.0, \"annhrs_start\": 0.0, \"annhrs_end\": 1469.0}, {\"sex\": \"Female\", \"Field of Work\": \"Communications\", \"annhrs\": 1939.5, \"annhrs_start\": 0.0, \"annhrs_end\": 1939.5}, {\"sex\": \"Female\", \"Field of Work\": \"Education\", \"annhrs\": 1760.0, \"annhrs_start\": 0.0, \"annhrs_end\": 1760.0}, {\"sex\": \"Female\", \"Field of Work\": \"Medical\", \"annhrs\": 1959.0, \"annhrs_start\": 0.0, \"annhrs_end\": 1959.0}, {\"sex\": \"Female\", \"Field of Work\": \"SocArtOther\", \"annhrs\": 1840.0, \"annhrs_start\": 0.0, \"annhrs_end\": 1840.0}, {\"sex\": \"Female\", \"Field of Work\": \"Transport\", \"annhrs\": 1960.0, \"annhrs_start\": 0.0, \"annhrs_end\": 1960.0}, {\"sex\": \"Female\", \"Field of Work\": \"Utilities\", \"annhrs\": 1960.0, \"annhrs_start\": 0.0, \"annhrs_end\": 1960.0}, {\"sex\": \"Female\", \"Field of Work\": \"durables\", \"annhrs\": 2000.0, \"annhrs_start\": 0.0, \"annhrs_end\": 2000.0}, {\"sex\": \"Female\", \"Field of Work\": \"finance\", \"annhrs\": 1960.0, \"annhrs_start\": 0.0, \"annhrs_end\": 1960.0}, {\"sex\": \"Female\", \"Field of Work\": \"hotelsrestaurants\", \"annhrs\": 1785.0, \"annhrs_start\": 0.0, \"annhrs_end\": 1785.0}, {\"sex\": \"Female\", \"Field of Work\": \"miningconstruction\", \"annhrs\": 1960.0, \"annhrs_start\": 0.0, \"annhrs_end\": 1960.0}, {\"sex\": \"Female\", \"Field of Work\": \"nondurables\", \"annhrs\": 1976.0, \"annhrs_start\": 0.0, \"annhrs_end\": 1976.0}, {\"sex\": \"Female\", \"Field of Work\": \"professional\", \"annhrs\": 1960.0, \"annhrs_start\": 0.0, \"annhrs_end\": 1960.0}, {\"sex\": \"Female\", \"Field of Work\": \"publicadmin\", \"annhrs\": 1963.0, \"annhrs_start\": 0.0, \"annhrs_end\": 1963.0}, {\"sex\": \"Female\", \"Field of Work\": \"retailtrade\", \"annhrs\": 1897.0, \"annhrs_start\": 0.0, \"annhrs_end\": 1897.0}, {\"sex\": \"Female\", \"Field of Work\": \"wholesaletrade\", \"annhrs\": 1992.0, \"annhrs_start\": 0.0, \"annhrs_end\": 1992.0}, {\"sex\": \"Male\", \"Field of Work\": \"Agriculture\", \"annhrs\": 2281.5, \"annhrs_start\": 0.0, \"annhrs_end\": 2281.5}, {\"sex\": \"Male\", \"Field of Work\": \"Communications\", \"annhrs\": 2110.0, \"annhrs_start\": 0.0, \"annhrs_end\": 2110.0}, {\"sex\": \"Male\", \"Field of Work\": \"Education\", \"annhrs\": 2043.0, \"annhrs_start\": 0.0, \"annhrs_end\": 2043.0}, {\"sex\": \"Male\", \"Field of Work\": \"Medical\", \"annhrs\": 2040.0, \"annhrs_start\": 0.0, \"annhrs_end\": 2040.0}, {\"sex\": \"Male\", \"Field of Work\": \"SocArtOther\", \"annhrs\": 2080.0, \"annhrs_start\": 0.0, \"annhrs_end\": 2080.0}, {\"sex\": \"Male\", \"Field of Work\": \"Transport\", \"annhrs\": 2191.0, \"annhrs_start\": 0.0, \"annhrs_end\": 2191.0}, {\"sex\": \"Male\", \"Field of Work\": \"Utilities\", \"annhrs\": 2115.0, \"annhrs_start\": 0.0, \"annhrs_end\": 2115.0}, {\"sex\": \"Male\", \"Field of Work\": \"durables\", \"annhrs\": 2106.5, \"annhrs_start\": 0.0, \"annhrs_end\": 2106.5}, {\"sex\": \"Male\", \"Field of Work\": \"finance\", \"annhrs\": 2080.0, \"annhrs_start\": 0.0, \"annhrs_end\": 2080.0}, {\"sex\": \"Male\", \"Field of Work\": \"hotelsrestaurants\", \"annhrs\": 2051.5, \"annhrs_start\": 0.0, \"annhrs_end\": 2051.5}, {\"sex\": \"Male\", \"Field of Work\": \"miningconstruction\", \"annhrs\": 2080.0, \"annhrs_start\": 0.0, \"annhrs_end\": 2080.0}, {\"sex\": \"Male\", \"Field of Work\": \"nondurables\", \"annhrs\": 2147.0, \"annhrs_start\": 0.0, \"annhrs_end\": 2147.0}, {\"sex\": \"Male\", \"Field of Work\": \"professional\", \"annhrs\": 2098.0, \"annhrs_start\": 0.0, \"annhrs_end\": 2098.0}, {\"sex\": \"Male\", \"Field of Work\": \"publicadmin\", \"annhrs\": 2072.0, \"annhrs_start\": 0.0, \"annhrs_end\": 2072.0}, {\"sex\": \"Male\", \"Field of Work\": \"retailtrade\", \"annhrs\": 2120.5, \"annhrs_start\": 0.0, \"annhrs_end\": 2120.5}, {\"sex\": \"Male\", \"Field of Work\": \"wholesaletrade\", \"annhrs\": 2223.0, \"annhrs_start\": 0.0, \"annhrs_end\": 2223.0}]}, {\"name\": \"column_domain\", \"values\": [{\"Field of Work\": \"Agriculture\", \"count\": 2}, {\"Field of Work\": \"Communications\", \"count\": 2}, {\"Field of Work\": \"Education\", \"count\": 2}, {\"Field of Work\": \"Medical\", \"count\": 2}, {\"Field of Work\": \"SocArtOther\", \"count\": 2}, {\"Field of Work\": \"Transport\", \"count\": 2}, {\"Field of Work\": \"Utilities\", \"count\": 2}, {\"Field of Work\": \"durables\", \"count\": 2}, {\"Field of Work\": \"finance\", \"count\": 2}, {\"Field of Work\": \"hotelsrestaurants\", \"count\": 2}, {\"Field of Work\": \"miningconstruction\", \"count\": 2}, {\"Field of Work\": \"nondurables\", \"count\": 2}, {\"Field of Work\": \"professional\", \"count\": 2}, {\"Field of Work\": \"publicadmin\", \"count\": 2}, {\"Field of Work\": \"retailtrade\", \"count\": 2}, {\"Field of Work\": \"wholesaletrade\", \"count\": 2}]}, {\"name\": \"source_0_x_domain_sex\", \"values\": [{\"sex\": \"Female\"}, {\"sex\": \"Male\"}]}, {\"name\": \"source_0_color_domain_sex\", \"values\": [{\"sex\": \"Female\"}, {\"sex\": \"Male\"}]}], \"signals\": [{\"name\": \"child_width\", \"value\": 100}, {\"name\": \"child_height\", \"value\": 300}], \"marks\": [{\"type\": \"group\", \"name\": \"column-title\", \"title\": {\"text\": \"Field of Work\", \"offset\": 10, \"style\": \"guide-title\"}, \"role\": \"column-title\"}, {\"type\": \"group\", \"name\": \"row_header\", \"encode\": {\"update\": {\"height\": {\"signal\": \"child_height\"}}}, \"axes\": [{\"scale\": \"y\", \"orient\": \"left\", \"grid\": false, \"zindex\": 0, \"title\": \"Average annual working hours\", \"tickCount\": {\"signal\": \"ceil(child_height/40)\"}, \"labelOverlap\": true}], \"role\": \"row-header\"}, {\"type\": \"group\", \"name\": \"column_header\", \"from\": {\"data\": \"column_domain\"}, \"sort\": {\"field\": \"datum[\\\"Field of Work\\\"]\", \"order\": \"ascending\"}, \"encode\": {\"update\": {\"width\": {\"signal\": \"child_width\"}}}, \"title\": {\"text\": {\"signal\": \"isValid(parent[\\\"Field of Work\\\"]) ? parent[\\\"Field of Work\\\"] : \\\"\\\"+parent[\\\"Field of Work\\\"]\"}, \"frame\": \"group\", \"style\": \"guide-label\", \"offset\": 10}, \"role\": \"column-header\"}, {\"type\": \"group\", \"name\": \"column_footer\", \"from\": {\"data\": \"column_domain\"}, \"sort\": {\"field\": \"datum[\\\"Field of Work\\\"]\", \"order\": \"ascending\"}, \"encode\": {\"update\": {\"width\": {\"signal\": \"child_width\"}}}, \"axes\": [{\"scale\": \"x\", \"orient\": \"bottom\", \"labelAlign\": \"right\", \"zindex\": 0, \"labelAngle\": 270, \"grid\": false, \"labelBaseline\": \"middle\"}], \"role\": \"column-footer\"}, {\"type\": \"group\", \"name\": \"cell\", \"from\": {\"facet\": {\"data\": \"source_0\", \"name\": \"facet\", \"groupby\": [\"Field of Work\"]}}, \"sort\": {\"field\": [\"datum[\\\"Field of Work\\\"]\"], \"order\": [\"ascending\"]}, \"encode\": {\"update\": {\"height\": {\"signal\": \"child_height\"}, \"width\": {\"signal\": \"child_width\"}}}, \"marks\": [{\"type\": \"rect\", \"name\": \"child_marks\", \"from\": {\"data\": \"facet\"}, \"encode\": {\"update\": {\"width\": {\"signal\": \"max(0.25, bandwidth('x'))\"}, \"description\": {\"signal\": \"\\\"sex: \\\" + (isValid(datum[\\\"sex\\\"]) ? datum[\\\"sex\\\"] : \\\"\\\"+datum[\\\"sex\\\"]) + \\\"; Average annual working hours: \\\" + (format(datum[\\\"annhrs\\\"], \\\"\\\"))\"}, \"x\": {\"field\": \"sex\", \"scale\": \"x\"}, \"y\": {\"field\": \"annhrs_end\", \"scale\": \"y\"}, \"y2\": {\"field\": \"annhrs_start\", \"scale\": \"y\"}, \"fill\": {\"field\": \"sex\", \"scale\": \"color\"}, \"ariaRoleDescription\": {\"value\": \"bar\"}}}, \"style\": [\"bar\"]}], \"axes\": [{\"scale\": \"y\", \"tickCount\": {\"signal\": \"ceil(child_height/40)\"}, \"ticks\": false, \"maxExtent\": 0, \"zindex\": 0, \"grid\": true, \"minExtent\": 0, \"aria\": false, \"labels\": false, \"domain\": false, \"orient\": \"left\", \"gridScale\": \"x\"}], \"style\": \"cell\"}], \"scales\": [{\"name\": \"x\", \"type\": \"band\", \"domain\": {\"data\": \"source_0_x_domain_sex\", \"field\": \"sex\", \"sort\": true}, \"range\": [0, {\"signal\": \"child_width\"}], \"paddingInner\": 0.1, \"paddingOuter\": 0.05}, {\"name\": \"y\", \"type\": \"linear\", \"domain\": {\"data\": \"source_0\", \"fields\": [\"annhrs_start\", \"annhrs_end\"]}, \"range\": [{\"signal\": \"child_height\"}, 0], \"zero\": true, \"nice\": true}, {\"name\": \"color\", \"type\": \"ordinal\", \"domain\": {\"data\": \"source_0_color_domain_sex\", \"field\": \"sex\", \"sort\": true}, \"range\": \"category\"}], \"title\": {\"text\": \"Differences in working hours by occupation\", \"anchor\": \"middle\", \"offset\": 30}, \"padding\": 5, \"layout\": {\"padding\": 20, \"offset\": {\"columnTitle\": 10}, \"columns\": {\"signal\": \"length(data('column_domain'))\"}, \"bounds\": \"full\", \"align\": \"all\"}, \"background\": \"white\", \"legends\": [{\"fill\": \"color\", \"symbolType\": \"square\", \"title\": \"sex\"}], \"config\": {\"axisX\": {\"labels\": false}, \"axisY\": {\"labels\": true}, \"style\": {\"cell\": {\"strokeWidth\": 0}}}}, {\"mode\": \"vega\"});\n",
       "</script>"
      ],
      "text/plain": [
       "alt.Chart(...)"
      ]
     },
     "execution_count": 43,
     "metadata": {},
     "output_type": "execute_result"
    }
   ],
   "source": [
    "# Group the data by 'education_level' and 'sex' and calculate the count\n",
    "grouped_data = income_dynamics.groupby(['sex','Field of Work'])['annhrs'].median().reset_index()\n",
    "\n",
    "# Create the grouped bar plot\n",
    "grouped_bar_plot = alt.Chart(grouped_data).mark_bar().encode(\n",
    "    x=alt.X('sex:N', title=None),\n",
    "    y=alt.Y('annhrs:Q', title='Average annual working hours'),\n",
    "    color='sex:N',\n",
    "    column=alt.Column('Field of Work:N', title='Field of Work')\n",
    ").properties(title=alt.TitleParams(text='Differences in working hours by occupation',anchor='middle', offset=30), width=100)\n",
    "\n",
    "# Display the plot\n",
    "grouped_bar_plot.configure_axisX(labels=False).configure_axisY(labels=True).configure_view(strokeWidth=0)"
   ]
  },
  {
   "cell_type": "markdown",
   "id": "dd125e81",
   "metadata": {
    "id": "dd125e81"
   },
   "source": [
    "\n",
    "Women often encounter challenges in spending equal time as men in high-demand occupations that require long and inflexible working hours, such as certain positions in the agriculture, education, and hotel. These roles often demand intense commitment and extensive work hours, which can be particularly challenging for women, especially if they have caregiving responsibilities. In contrast, women are more likely to have equal working hours with men in professions and industries that have embraced more flexible work arrangements. The ability to balance work and personal life is often influenced by workplace culture, policies, and societal norms, impacting the extent to which women can achieve work-hour parity with their male counterparts."
   ]
  },
  {
   "cell_type": "code",
   "execution_count": 44,
   "id": "104d751c",
   "metadata": {
    "id": "104d751c"
   },
   "outputs": [],
   "source": [
    "# Define the conditions and corresponding categories\n",
    "conditions = [(time_dynamics['annhrs'] == 0),\n",
    "    (time_dynamics['annhrs'] > 0) & (time_dynamics['annhrs'] < 1500),\n",
    "    (time_dynamics['annhrs'] >= 1500) & (time_dynamics['annhrs'] < 1800),\n",
    "    (time_dynamics['annhrs'] >= 1800) & (time_dynamics['annhrs'] < 2050),\n",
    "    (time_dynamics['annhrs'] >= 2050) & (time_dynamics['annhrs'] < 2150),\n",
    "    (time_dynamics['annhrs'] >= 2150) & (time_dynamics['annhrs'] <= 2500),\n",
    "    (time_dynamics['annhrs'] > 2500)\n",
    "             ]\n",
    "\n",
    "# Define the corresponding categories\n",
    "categories = [\"no_work\",\n",
    "              \"little work\",\n",
    "              \"slightly little work\",\n",
    "              \"average work\",\n",
    "              \"slightly hard work\",\n",
    "              \"hard work\",\n",
    "              \"workaholic\"\n",
    "              ]"
   ]
  },
  {
   "cell_type": "code",
   "execution_count": 45,
   "id": "e08f741a",
   "metadata": {
    "id": "e08f741a"
   },
   "outputs": [],
   "source": [
    "# Create the new column 'working_hardness' based on the conditions\n",
    "time_dynamics = time_dynamics.copy()  # Create a copy to avoid modifying the original DataFrame\n",
    "\n",
    "time_dynamics['working_level'] = pd.Categorical(np.select(conditions, categories), categories=categories)"
   ]
  },
  {
   "cell_type": "code",
   "execution_count": 46,
   "id": "7a0fa4ae",
   "metadata": {
    "id": "7a0fa4ae"
   },
   "outputs": [],
   "source": [
    "income_dynamics = income_dynamics.copy()\n",
    "\n",
    "income_dynamics['working_level'] = time_dynamics['working_level']"
   ]
  },
  {
   "cell_type": "markdown",
   "id": "947f8b2a",
   "metadata": {
    "id": "947f8b2a"
   },
   "source": [
    "### Visualizing the wage differences between men and women with similar working hours"
   ]
  },
  {
   "cell_type": "code",
   "execution_count": 47,
   "id": "638b331e",
   "metadata": {
    "id": "638b331e",
    "outputId": "55d3cb4a-c810-47ee-81ce-af18d16ee883"
   },
   "outputs": [
    {
     "data": {
      "text/html": [
       "\n",
       "<style>\n",
       "  #altair-viz-c40c3e301a0f4bb0a80e3aaa811b13fc.vega-embed {\n",
       "    width: 100%;\n",
       "    display: flex;\n",
       "  }\n",
       "\n",
       "  #altair-viz-c40c3e301a0f4bb0a80e3aaa811b13fc.vega-embed details,\n",
       "  #altair-viz-c40c3e301a0f4bb0a80e3aaa811b13fc.vega-embed details summary {\n",
       "    position: relative;\n",
       "  }\n",
       "</style>\n",
       "<div id=\"altair-viz-c40c3e301a0f4bb0a80e3aaa811b13fc\"></div>\n",
       "<script type=\"text/javascript\">\n",
       "  var VEGA_DEBUG = (typeof VEGA_DEBUG == \"undefined\") ? {} : VEGA_DEBUG;\n",
       "  (function(spec, embedOpt){\n",
       "    let outputDiv = document.currentScript.previousElementSibling;\n",
       "    if (outputDiv.id !== \"altair-viz-c40c3e301a0f4bb0a80e3aaa811b13fc\") {\n",
       "      outputDiv = document.getElementById(\"altair-viz-c40c3e301a0f4bb0a80e3aaa811b13fc\");\n",
       "    }\n",
       "    const paths = {\n",
       "      \"vega\": \"https://cdn.jsdelivr.net/npm/vega@5?noext\",\n",
       "      \"vega-lib\": \"https://cdn.jsdelivr.net/npm/vega-lib?noext\",\n",
       "      \"vega-lite\": \"https://cdn.jsdelivr.net/npm/vega-lite@5.14.1?noext\",\n",
       "      \"vega-embed\": \"https://cdn.jsdelivr.net/npm/vega-embed@6?noext\",\n",
       "    };\n",
       "\n",
       "    function maybeLoadScript(lib, version) {\n",
       "      var key = `${lib.replace(\"-\", \"\")}_version`;\n",
       "      return (VEGA_DEBUG[key] == version) ?\n",
       "        Promise.resolve(paths[lib]) :\n",
       "        new Promise(function(resolve, reject) {\n",
       "          var s = document.createElement('script');\n",
       "          document.getElementsByTagName(\"head\")[0].appendChild(s);\n",
       "          s.async = true;\n",
       "          s.onload = () => {\n",
       "            VEGA_DEBUG[key] = version;\n",
       "            return resolve(paths[lib]);\n",
       "          };\n",
       "          s.onerror = () => reject(`Error loading script: ${paths[lib]}`);\n",
       "          s.src = paths[lib];\n",
       "        });\n",
       "    }\n",
       "\n",
       "    function showError(err) {\n",
       "      outputDiv.innerHTML = `<div class=\"error\" style=\"color:red;\">${err}</div>`;\n",
       "      throw err;\n",
       "    }\n",
       "\n",
       "    function displayChart(vegaEmbed) {\n",
       "      vegaEmbed(outputDiv, spec, embedOpt)\n",
       "        .catch(err => showError(`Javascript Error: ${err.message}<br>This usually means there's a typo in your chart specification. See the javascript console for the full traceback.`));\n",
       "    }\n",
       "\n",
       "    if(typeof define === \"function\" && define.amd) {\n",
       "      requirejs.config({paths});\n",
       "      require([\"vega-embed\"], displayChart, err => showError(`Error loading script: ${err.message}`));\n",
       "    } else {\n",
       "      maybeLoadScript(\"vega\", \"5\")\n",
       "        .then(() => maybeLoadScript(\"vega-lite\", \"5.14.1\"))\n",
       "        .then(() => maybeLoadScript(\"vega-embed\", \"6\"))\n",
       "        .catch(showError)\n",
       "        .then(() => displayChart(vegaEmbed));\n",
       "    }\n",
       "  })({\"$schema\": \"https://vega.github.io/schema/vega/v5.json\", \"data\": [{\"name\": \"source_0\", \"values\": [{\"sex\": \"Female\", \"working_level\": \"no_work\", \"realhrwage\": null, \"x_working_level_sort_index\": 0.0}, {\"sex\": \"Female\", \"working_level\": \"little work\", \"realhrwage\": 15.552700810370874, \"x_working_level_sort_index\": 1.0}, {\"sex\": \"Female\", \"working_level\": \"slightly little work\", \"realhrwage\": 18.124896624807544, \"x_working_level_sort_index\": 2.0}, {\"sex\": \"Female\", \"working_level\": \"average work\", \"realhrwage\": 17.525074270795724, \"x_working_level_sort_index\": 3.0}, {\"sex\": \"Female\", \"working_level\": \"slightly hard work\", \"realhrwage\": 16.363090505480102, \"x_working_level_sort_index\": 4.0}, {\"sex\": \"Female\", \"working_level\": \"hard work\", \"realhrwage\": 19.351030631778826, \"x_working_level_sort_index\": 5.0}, {\"sex\": \"Female\", \"working_level\": \"workaholic\", \"realhrwage\": 16.317281210631652, \"x_working_level_sort_index\": 6.0}, {\"sex\": \"Male\", \"working_level\": \"no_work\", \"realhrwage\": null, \"x_working_level_sort_index\": 0.0}, {\"sex\": \"Male\", \"working_level\": \"little work\", \"realhrwage\": 17.875425820163052, \"x_working_level_sort_index\": 1.0}, {\"sex\": \"Male\", \"working_level\": \"slightly little work\", \"realhrwage\": 21.02117174369591, \"x_working_level_sort_index\": 2.0}, {\"sex\": \"Male\", \"working_level\": \"average work\", \"realhrwage\": 22.054964698036617, \"x_working_level_sort_index\": 3.0}, {\"sex\": \"Male\", \"working_level\": \"slightly hard work\", \"realhrwage\": 20.532480286622427, \"x_working_level_sort_index\": 4.0}, {\"sex\": \"Male\", \"working_level\": \"hard work\", \"realhrwage\": 22.72756663266397, \"x_working_level_sort_index\": 5.0}, {\"sex\": \"Male\", \"working_level\": \"workaholic\", \"realhrwage\": 20.00178653650945, \"x_working_level_sort_index\": 6.0}]}, {\"name\": \"data_0\", \"values\": [{\"realhrwage\": 15.552700810370874, \"sex\": \"Female\", \"working_level\": \"little work\"}, {\"realhrwage\": 18.124896624807544, \"sex\": \"Female\", \"working_level\": \"slightly little work\"}, {\"realhrwage\": 17.525074270795724, \"sex\": \"Female\", \"working_level\": \"average work\"}, {\"realhrwage\": 16.363090505480102, \"sex\": \"Female\", \"working_level\": \"slightly hard work\"}, {\"realhrwage\": 19.351030631778826, \"sex\": \"Female\", \"working_level\": \"hard work\"}, {\"realhrwage\": 16.317281210631652, \"sex\": \"Female\", \"working_level\": \"workaholic\"}, {\"realhrwage\": 17.875425820163052, \"sex\": \"Male\", \"working_level\": \"little work\"}, {\"realhrwage\": 21.02117174369591, \"sex\": \"Male\", \"working_level\": \"slightly little work\"}, {\"realhrwage\": 22.054964698036617, \"sex\": \"Male\", \"working_level\": \"average work\"}, {\"realhrwage\": 20.532480286622427, \"sex\": \"Male\", \"working_level\": \"slightly hard work\"}, {\"realhrwage\": 22.72756663266397, \"sex\": \"Male\", \"working_level\": \"hard work\"}, {\"realhrwage\": 20.00178653650945, \"sex\": \"Male\", \"working_level\": \"workaholic\"}]}, {\"name\": \"source_0_x_domain_working_level\", \"values\": [{\"sort_field\": 0.0, \"working_level\": \"no_work\"}, {\"sort_field\": 1.0, \"working_level\": \"little work\"}, {\"sort_field\": 2.0, \"working_level\": \"slightly little work\"}, {\"sort_field\": 3.0, \"working_level\": \"average work\"}, {\"sort_field\": 4.0, \"working_level\": \"slightly hard work\"}, {\"sort_field\": 5.0, \"working_level\": \"hard work\"}, {\"sort_field\": 6.0, \"working_level\": \"workaholic\"}]}, {\"name\": \"source_0_color_domain_sex_0\", \"values\": [{\"sex\": \"Female\"}, {\"sex\": \"Male\"}]}, {\"name\": \"data_0_color_domain_sex_1\", \"values\": [{\"sex\": \"Female\"}, {\"sex\": \"Male\"}]}], \"marks\": [{\"type\": \"group\", \"name\": \"layer_0_pathgroup\", \"from\": {\"facet\": {\"data\": \"source_0\", \"name\": \"faceted_path_layer_0_main\", \"groupby\": [\"sex\"]}}, \"encode\": {\"update\": {\"height\": {\"field\": {\"signal\": null, \"datum\": null, \"group\": \"height\", \"parent\": null}}, \"width\": {\"field\": {\"signal\": null, \"datum\": null, \"group\": \"width\", \"parent\": null}}}}, \"marks\": [{\"type\": \"line\", \"name\": \"layer_0_marks\", \"from\": {\"data\": \"faceted_path_layer_0_main\"}, \"sort\": {\"field\": \"datum[\\\"x_working_level_sort_index\\\"]\"}, \"encode\": {\"update\": {\"y\": {\"field\": \"realhrwage\", \"scale\": \"y\"}, \"defined\": {\"signal\": \"isValid(datum[\\\"realhrwage\\\"]) && isFinite(+datum[\\\"realhrwage\\\"])\"}, \"description\": {\"signal\": \"\\\"Working Hardness: \\\" + (isValid(datum[\\\"working_level\\\"]) ? datum[\\\"working_level\\\"] : \\\"\\\"+datum[\\\"working_level\\\"]) + \\\"; Average realhrwage: \\\" + (format(datum[\\\"realhrwage\\\"], \\\"\\\")) + \\\"; sex: \\\" + (isValid(datum[\\\"sex\\\"]) ? datum[\\\"sex\\\"] : \\\"\\\"+datum[\\\"sex\\\"])\"}, \"stroke\": {\"field\": \"sex\", \"scale\": \"color\"}, \"x\": {\"field\": \"working_level\", \"scale\": \"x\"}}}, \"style\": [\"line\"]}]}, {\"type\": \"symbol\", \"name\": \"layer_1_marks\", \"from\": {\"data\": \"data_0\"}, \"encode\": {\"update\": {\"description\": {\"signal\": \"\\\"Working Hardness: \\\" + (isValid(datum[\\\"working_level\\\"]) ? datum[\\\"working_level\\\"] : \\\"\\\"+datum[\\\"working_level\\\"]) + \\\"; Average realhrwage: \\\" + (format(datum[\\\"realhrwage\\\"], \\\"\\\")) + \\\"; sex: \\\" + (isValid(datum[\\\"sex\\\"]) ? datum[\\\"sex\\\"] : \\\"\\\"+datum[\\\"sex\\\"])\"}, \"fill\": {\"field\": \"sex\", \"scale\": \"color\"}, \"ariaRoleDescription\": {\"value\": \"point\"}, \"x\": {\"field\": \"working_level\", \"scale\": \"x\"}, \"y\": {\"field\": \"realhrwage\", \"scale\": \"y\"}, \"opacity\": {\"value\": 1}}}, \"style\": [\"point\"]}], \"scales\": [{\"name\": \"x\", \"type\": \"point\", \"domain\": {\"data\": \"source_0_x_domain_working_level\", \"field\": \"working_level\", \"sort\": {\"op\": \"max\", \"field\": \"sort_field\"}}, \"range\": [0, {\"signal\": \"width\"}], \"padding\": 0.5}, {\"name\": \"y\", \"type\": \"linear\", \"domain\": {\"fields\": [{\"data\": \"source_0\", \"field\": \"realhrwage\"}, {\"data\": \"data_0\", \"field\": \"realhrwage\"}]}, \"range\": [{\"signal\": \"height\"}, 0], \"nice\": true, \"zero\": true}, {\"name\": \"color\", \"type\": \"ordinal\", \"domain\": {\"fields\": [{\"data\": \"source_0_color_domain_sex_0\", \"field\": \"sex\"}, {\"data\": \"data_0_color_domain_sex_1\", \"field\": \"sex\"}], \"sort\": true}, \"range\": \"category\"}], \"axes\": [{\"scale\": \"y\", \"maxExtent\": 0, \"minExtent\": 0, \"zindex\": 0, \"gridScale\": \"x\", \"tickCount\": {\"signal\": \"ceil(height/40)\"}, \"ticks\": false, \"domain\": false, \"orient\": \"left\", \"labels\": false, \"aria\": false, \"grid\": true}, {\"scale\": \"x\", \"grid\": false, \"title\": \"Working Hardness\", \"orient\": \"bottom\", \"labelBaseline\": \"top\", \"labelAlign\": \"left\", \"zindex\": 0}, {\"scale\": \"y\", \"zindex\": 0, \"title\": \"Average realhrwage\", \"orient\": \"left\", \"labelOverlap\": true, \"tickCount\": {\"signal\": \"ceil(height/40)\"}, \"labelAlign\": \"right\", \"grid\": false}], \"title\": {\"text\": \"Trend of realhrwage by Working Hardness\", \"frame\": \"group\"}, \"height\": 300, \"background\": \"white\", \"config\": {\"axis\": {\"labelAngle\": 45}}, \"padding\": 5, \"style\": \"cell\", \"legends\": [{\"title\": \"Sex\", \"stroke\": \"color\", \"symbolType\": \"circle\", \"fill\": \"color\", \"encode\": {\"symbols\": {\"update\": {\"opacity\": {\"value\": 1}}}}}], \"width\": 600}, {\"mode\": \"vega\"});\n",
       "</script>"
      ],
      "text/plain": [
       "alt.Chart(...)"
      ]
     },
     "execution_count": 47,
     "metadata": {},
     "output_type": "execute_result"
    }
   ],
   "source": [
    "# Group the data by 'sex' and 'working_hardness' and calculate the mean of 'realhrwage'\n",
    "grouped_data_wage = time_dynamics.groupby(['sex', 'working_level'])['realhrwage'].mean().reset_index()\n",
    "\n",
    "# Create the plot\n",
    "chart = alt.Chart(grouped_data_wage).mark_line(point=True).encode(\n",
    "    x=alt.X('working_level:O', title='Working Hardness', sort=categories),\n",
    "    y=alt.Y('realhrwage:Q', title='Average realhrwage'),\n",
    "    color=alt.Color('sex:N', legend=alt.Legend(title='Sex'))\n",
    ").properties(width=600)\n",
    "\n",
    "# Set x-axis labels to the working hardness categories\n",
    "chart = chart.configure_axis(labelAngle=45)\n",
    "\n",
    "# Add a title\n",
    "chart = chart.properties(title='Trend of realhrwage by Working Hardness')\n",
    "\n",
    "chart_dict = chart.to_dict(format=\"vega\")\n",
    "\n",
    "# Show the plot\n",
    "chart"
   ]
  },
  {
   "cell_type": "markdown",
   "id": "1cb1bda6",
   "metadata": {
    "id": "1cb1bda6"
   },
   "source": [
    "Even between people with similar working patterns, the wage disparity significant difference. Since we seperate the different work time into groups, the difference should ignore if the reason that female has less wage is because of working time. However, it is obvious that no matter what the work time is, female will get less wage than man."
   ]
  },
  {
   "cell_type": "markdown",
   "id": "2bf89ee5",
   "metadata": {
    "id": "2bf89ee5"
   },
   "source": [
    "# <font color = blue > Does the wage difference accurately correspond to the difference in working hours ? How has this evolved over the years ?"
   ]
  },
  {
   "cell_type": "markdown",
   "id": "718e7a97",
   "metadata": {
    "id": "718e7a97"
   },
   "source": [
    "### Visualizing and comparing difference in average working hours and average wage diff. >> Pie chart using matplotlib to show the differences over the years."
   ]
  },
  {
   "cell_type": "code",
   "execution_count": 48,
   "id": "6ba1fb71",
   "metadata": {
    "scrolled": true
   },
   "outputs": [
    {
     "data": {
      "text/html": [
       "\n",
       "<style>\n",
       "  #altair-viz-5218b31f98dc48f29d3f92345c33d766.vega-embed {\n",
       "    width: 100%;\n",
       "    display: flex;\n",
       "  }\n",
       "\n",
       "  #altair-viz-5218b31f98dc48f29d3f92345c33d766.vega-embed details,\n",
       "  #altair-viz-5218b31f98dc48f29d3f92345c33d766.vega-embed details summary {\n",
       "    position: relative;\n",
       "  }\n",
       "</style>\n",
       "<div id=\"altair-viz-5218b31f98dc48f29d3f92345c33d766\"></div>\n",
       "<script type=\"text/javascript\">\n",
       "  var VEGA_DEBUG = (typeof VEGA_DEBUG == \"undefined\") ? {} : VEGA_DEBUG;\n",
       "  (function(spec, embedOpt){\n",
       "    let outputDiv = document.currentScript.previousElementSibling;\n",
       "    if (outputDiv.id !== \"altair-viz-5218b31f98dc48f29d3f92345c33d766\") {\n",
       "      outputDiv = document.getElementById(\"altair-viz-5218b31f98dc48f29d3f92345c33d766\");\n",
       "    }\n",
       "    const paths = {\n",
       "      \"vega\": \"https://cdn.jsdelivr.net/npm/vega@5?noext\",\n",
       "      \"vega-lib\": \"https://cdn.jsdelivr.net/npm/vega-lib?noext\",\n",
       "      \"vega-lite\": \"https://cdn.jsdelivr.net/npm/vega-lite@5.14.1?noext\",\n",
       "      \"vega-embed\": \"https://cdn.jsdelivr.net/npm/vega-embed@6?noext\",\n",
       "    };\n",
       "\n",
       "    function maybeLoadScript(lib, version) {\n",
       "      var key = `${lib.replace(\"-\", \"\")}_version`;\n",
       "      return (VEGA_DEBUG[key] == version) ?\n",
       "        Promise.resolve(paths[lib]) :\n",
       "        new Promise(function(resolve, reject) {\n",
       "          var s = document.createElement('script');\n",
       "          document.getElementsByTagName(\"head\")[0].appendChild(s);\n",
       "          s.async = true;\n",
       "          s.onload = () => {\n",
       "            VEGA_DEBUG[key] = version;\n",
       "            return resolve(paths[lib]);\n",
       "          };\n",
       "          s.onerror = () => reject(`Error loading script: ${paths[lib]}`);\n",
       "          s.src = paths[lib];\n",
       "        });\n",
       "    }\n",
       "\n",
       "    function showError(err) {\n",
       "      outputDiv.innerHTML = `<div class=\"error\" style=\"color:red;\">${err}</div>`;\n",
       "      throw err;\n",
       "    }\n",
       "\n",
       "    function displayChart(vegaEmbed) {\n",
       "      vegaEmbed(outputDiv, spec, embedOpt)\n",
       "        .catch(err => showError(`Javascript Error: ${err.message}<br>This usually means there's a typo in your chart specification. See the javascript console for the full traceback.`));\n",
       "    }\n",
       "\n",
       "    if(typeof define === \"function\" && define.amd) {\n",
       "      requirejs.config({paths});\n",
       "      require([\"vega-embed\"], displayChart, err => showError(`Error loading script: ${err.message}`));\n",
       "    } else {\n",
       "      maybeLoadScript(\"vega\", \"5\")\n",
       "        .then(() => maybeLoadScript(\"vega-lite\", \"5.14.1\"))\n",
       "        .then(() => maybeLoadScript(\"vega-embed\", \"6\"))\n",
       "        .catch(showError)\n",
       "        .then(() => displayChart(vegaEmbed));\n",
       "    }\n",
       "  })({\"$schema\": \"https://vega.github.io/schema/vega/v5.json\", \"data\": [{\"name\": \"source_0\"}, {\"name\": \"source_1\"}, {\"name\": \"source_2\"}, {\"name\": \"source_3\"}, {\"name\": \"source_4\"}, {\"name\": \"source_5\"}, {\"name\": \"data_0\", \"values\": [{\"Average Hourly Wage\": 20.187035127828477, \"Average Hourly Wage_end\": 33.74374308446124, \"Average Hourly Wage_start\": 13.55670795663276, \"Category\": \"Male\"}, {\"Average Hourly Wage\": 13.55670795663276, \"Average Hourly Wage_end\": 13.55670795663276, \"Average Hourly Wage_start\": 0.0, \"Category\": \"Female\"}]}, {\"name\": \"data_1\", \"values\": [{\"Average Working Hours\": 2106.1275551921503, \"Average Working Hours_end\": 3755.3649016294967, \"Average Working Hours_start\": 1649.2373464373463, \"Category\": \"Male\"}, {\"Average Working Hours\": 1649.2373464373463, \"Average Working Hours_end\": 1649.2373464373463, \"Average Working Hours_start\": 0.0, \"Category\": \"Female\"}]}, {\"name\": \"data_2\", \"values\": [{\"Average Hourly Wage\": 20.294032635093398, \"Average Hourly Wage_end\": 35.63754718384962, \"Average Hourly Wage_start\": 15.343514548756222, \"Category\": \"Male\"}, {\"Average Hourly Wage\": 15.343514548756225, \"Average Hourly Wage_end\": 15.343514548756225, \"Average Hourly Wage_start\": 0.0, \"Category\": \"Female\"}]}, {\"name\": \"data_3\", \"values\": [{\"Average Working Hours\": 2204.9933308632826, \"Average Working Hours_end\": 3960.9107285241016, \"Average Working Hours_start\": 1755.917397660819, \"Category\": \"Male\"}, {\"Average Working Hours\": 1755.9173976608188, \"Average Working Hours_end\": 1755.9173976608188, \"Average Working Hours_start\": 0.0, \"Category\": \"Female\"}]}, {\"name\": \"data_4\", \"values\": [{\"Average Hourly Wage\": 21.271188084703258, \"Average Hourly Wage_end\": 38.26388594082257, \"Average Hourly Wage_start\": 16.99269785611931, \"Category\": \"Male\"}, {\"Average Hourly Wage\": 16.99269785611931, \"Average Hourly Wage_end\": 16.99269785611931, \"Average Hourly Wage_start\": 0.0, \"Category\": \"Female\"}]}, {\"name\": \"data_5\", \"values\": [{\"Average Working Hours\": 2311.078221490325, \"Average Working Hours_end\": 4178.334953323597, \"Average Working Hours_start\": 1867.2567318332717, \"Category\": \"Male\"}, {\"Average Working Hours\": 1867.256731833272, \"Average Working Hours_end\": 1867.256731833272, \"Average Working Hours_start\": 0.0, \"Category\": \"Female\"}]}, {\"name\": \"data_6\", \"values\": [{\"Average Hourly Wage\": 21.444006207757273, \"Average Hourly Wage_end\": 39.81582751091992, \"Average Hourly Wage_start\": 18.371821303162644, \"Category\": \"Male\"}, {\"Average Hourly Wage\": 18.371821303162644, \"Average Hourly Wage_end\": 18.371821303162644, \"Average Hourly Wage_start\": 0.0, \"Category\": \"Female\"}]}, {\"name\": \"data_7\", \"values\": [{\"Average Working Hours\": 2226.7127403846152, \"Average Working Hours_end\": 4101.949994633199, \"Average Working Hours_start\": 1875.2372542485837, \"Category\": \"Male\"}, {\"Average Working Hours\": 1875.237254248584, \"Average Working Hours_end\": 1875.237254248584, \"Average Working Hours_start\": 0.0, \"Category\": \"Female\"}]}, {\"name\": \"data_8\", \"values\": [{\"Average Hourly Wage\": 22.562727693641957, \"Average Hourly Wage_end\": 41.40349149968553, \"Average Hourly Wage_start\": 18.840763806043572, \"Category\": \"Male\"}, {\"Average Hourly Wage\": 18.84076380604357, \"Average Hourly Wage_end\": 18.84076380604357, \"Average Hourly Wage_start\": 0.0, \"Category\": \"Female\"}]}, {\"name\": \"data_9\", \"values\": [{\"Average Working Hours\": 2138.7031888798037, \"Average Working Hours_end\": 3966.4663294842712, \"Average Working Hours_start\": 1827.7631406044675, \"Category\": \"Male\"}, {\"Average Working Hours\": 1827.7631406044677, \"Average Working Hours_end\": 1827.7631406044677, \"Average Working Hours_start\": 0.0, \"Category\": \"Female\"}]}, {\"name\": \"data_10\", \"values\": [{\"Average Hourly Wage\": 21.675954545778833, \"Average Hourly Wage_end\": 40.30802331957189, \"Average Hourly Wage_start\": 18.632068773793055, \"Category\": \"Male\"}, {\"Average Hourly Wage\": 18.63206877379305, \"Average Hourly Wage_end\": 18.63206877379305, \"Average Hourly Wage_start\": 0.0, \"Category\": \"Female\"}]}, {\"name\": \"data_11\", \"values\": [{\"Average Working Hours\": 2151.230769230769, \"Average Working Hours_end\": 3987.87555037555, \"Average Working Hours_start\": 1836.644781144781, \"Category\": \"Male\"}, {\"Average Working Hours\": 1836.644781144781, \"Average Working Hours_end\": 1836.644781144781, \"Average Working Hours_start\": 0.0, \"Category\": \"Female\"}]}, {\"name\": \"data_0_color_domain_Category_0\", \"values\": [{\"Category\": \"Male\"}, {\"Category\": \"Female\"}]}, {\"name\": \"data_1_color_domain_Category_1\", \"values\": [{\"Category\": \"Male\"}, {\"Category\": \"Female\"}]}, {\"name\": \"data_2_color_domain_Category_2\", \"values\": [{\"Category\": \"Male\"}, {\"Category\": \"Female\"}]}, {\"name\": \"data_3_color_domain_Category_3\", \"values\": [{\"Category\": \"Male\"}, {\"Category\": \"Female\"}]}, {\"name\": \"data_4_color_domain_Category_4\", \"values\": [{\"Category\": \"Male\"}, {\"Category\": \"Female\"}]}, {\"name\": \"data_5_color_domain_Category_5\", \"values\": [{\"Category\": \"Male\"}, {\"Category\": \"Female\"}]}, {\"name\": \"data_6_color_domain_Category_6\", \"values\": [{\"Category\": \"Male\"}, {\"Category\": \"Female\"}]}, {\"name\": \"data_7_color_domain_Category_7\", \"values\": [{\"Category\": \"Male\"}, {\"Category\": \"Female\"}]}, {\"name\": \"data_8_color_domain_Category_8\", \"values\": [{\"Category\": \"Male\"}, {\"Category\": \"Female\"}]}, {\"name\": \"data_9_color_domain_Category_9\", \"values\": [{\"Category\": \"Male\"}, {\"Category\": \"Female\"}]}, {\"name\": \"data_10_color_domain_Category_10\", \"values\": [{\"Category\": \"Male\"}, {\"Category\": \"Female\"}]}, {\"name\": \"data_11_color_domain_Category_11\", \"values\": [{\"Category\": \"Male\"}, {\"Category\": \"Female\"}]}], \"signals\": [{\"name\": \"childHeight\", \"value\": 300}, {\"name\": \"concat_0_childWidth\", \"value\": 300}, {\"name\": \"concat_1_childWidth\", \"value\": 300}, {\"name\": \"concat_2_childWidth\", \"value\": 300}, {\"name\": \"concat_3_childWidth\", \"value\": 300}, {\"name\": \"concat_4_childWidth\", \"value\": 300}, {\"name\": \"concat_5_childWidth\", \"value\": 300}], \"marks\": [{\"type\": \"group\", \"name\": \"concat_0_group\", \"marks\": [{\"type\": \"group\", \"name\": \"concat_0_concat_0_group\", \"encode\": {\"update\": {\"width\": {\"signal\": \"concat_0_childWidth\"}, \"height\": {\"signal\": \"childHeight\"}}}, \"marks\": [{\"type\": \"arc\", \"name\": \"concat_0_concat_0_marks\", \"from\": {\"data\": \"data_0\"}, \"encode\": {\"update\": {\"y\": {\"signal\": \"childHeight\", \"mult\": 0.5}, \"tooltip\": {\"signal\": \"isValid(datum[\\\"Category\\\"]) ? datum[\\\"Category\\\"] : \\\"\\\"+datum[\\\"Category\\\"]\"}, \"endAngle\": {\"field\": \"Average Hourly Wage_start\", \"scale\": \"concat_0_concat_0_theta\"}, \"startAngle\": {\"field\": \"Average Hourly Wage_end\", \"scale\": \"concat_0_concat_0_theta\"}, \"innerRadius\": {\"value\": 0}, \"fill\": {\"field\": \"Category\", \"scale\": \"color\"}, \"description\": {\"signal\": \"\\\"Average Hourly Wage: \\\" + (format(datum[\\\"Average Hourly Wage\\\"], \\\"\\\")) + \\\"; Category: \\\" + (isValid(datum[\\\"Category\\\"]) ? datum[\\\"Category\\\"] : \\\"\\\"+datum[\\\"Category\\\"])\"}, \"outerRadius\": {\"signal\": \"min(concat_0_childWidth,childHeight)/2\"}, \"x\": {\"signal\": \"concat_0_childWidth\", \"mult\": 0.5}}}, \"style\": [\"arc\"]}], \"title\": {\"text\": \"Year 1981 - Average Hourly Wage\", \"frame\": \"group\"}, \"style\": \"view\"}, {\"type\": \"group\", \"name\": \"concat_0_concat_1_group\", \"encode\": {\"update\": {\"height\": {\"signal\": \"childHeight\"}, \"width\": {\"signal\": \"concat_0_childWidth\"}}}, \"marks\": [{\"type\": \"arc\", \"name\": \"concat_0_concat_1_marks\", \"from\": {\"data\": \"data_1\"}, \"encode\": {\"update\": {\"fill\": {\"field\": \"Category\", \"scale\": \"color\"}, \"tooltip\": {\"signal\": \"isValid(datum[\\\"Category\\\"]) ? datum[\\\"Category\\\"] : \\\"\\\"+datum[\\\"Category\\\"]\"}, \"outerRadius\": {\"signal\": \"min(concat_0_childWidth,childHeight)/2\"}, \"x\": {\"signal\": \"concat_0_childWidth\", \"mult\": 0.5}, \"description\": {\"signal\": \"\\\"Average Working Hours: \\\" + (format(datum[\\\"Average Working Hours\\\"], \\\"\\\")) + \\\"; Category: \\\" + (isValid(datum[\\\"Category\\\"]) ? datum[\\\"Category\\\"] : \\\"\\\"+datum[\\\"Category\\\"])\"}, \"endAngle\": {\"field\": \"Average Working Hours_start\", \"scale\": \"concat_0_concat_1_theta\"}, \"innerRadius\": {\"value\": 0}, \"startAngle\": {\"field\": \"Average Working Hours_end\", \"scale\": \"concat_0_concat_1_theta\"}, \"y\": {\"signal\": \"childHeight\", \"mult\": 0.5}}}, \"style\": [\"arc\"]}], \"title\": {\"text\": \"Year 1981 - Average Working Hours\", \"frame\": \"group\"}, \"style\": \"view\"}], \"layout\": {\"padding\": 20, \"bounds\": \"full\", \"align\": \"each\"}}, {\"type\": \"group\", \"name\": \"concat_1_group\", \"marks\": [{\"type\": \"group\", \"name\": \"concat_1_concat_0_group\", \"encode\": {\"update\": {\"width\": {\"signal\": \"concat_1_childWidth\"}, \"height\": {\"signal\": \"childHeight\"}}}, \"marks\": [{\"type\": \"arc\", \"name\": \"concat_1_concat_0_marks\", \"from\": {\"data\": \"data_2\"}, \"encode\": {\"update\": {\"description\": {\"signal\": \"\\\"Average Hourly Wage: \\\" + (format(datum[\\\"Average Hourly Wage\\\"], \\\"\\\")) + \\\"; Category: \\\" + (isValid(datum[\\\"Category\\\"]) ? datum[\\\"Category\\\"] : \\\"\\\"+datum[\\\"Category\\\"])\"}, \"x\": {\"signal\": \"concat_1_childWidth\", \"mult\": 0.5}, \"outerRadius\": {\"signal\": \"min(concat_1_childWidth,childHeight)/2\"}, \"fill\": {\"field\": \"Category\", \"scale\": \"color\"}, \"tooltip\": {\"signal\": \"isValid(datum[\\\"Category\\\"]) ? datum[\\\"Category\\\"] : \\\"\\\"+datum[\\\"Category\\\"]\"}, \"innerRadius\": {\"value\": 0}, \"y\": {\"signal\": \"childHeight\", \"mult\": 0.5}, \"endAngle\": {\"field\": \"Average Hourly Wage_start\", \"scale\": \"concat_1_concat_0_theta\"}, \"startAngle\": {\"field\": \"Average Hourly Wage_end\", \"scale\": \"concat_1_concat_0_theta\"}}}, \"style\": [\"arc\"]}], \"title\": {\"text\": \"Year 1990 - Average Hourly Wage\", \"frame\": \"group\"}, \"style\": \"view\"}, {\"type\": \"group\", \"name\": \"concat_1_concat_1_group\", \"encode\": {\"update\": {\"width\": {\"signal\": \"concat_1_childWidth\"}, \"height\": {\"signal\": \"childHeight\"}}}, \"marks\": [{\"type\": \"arc\", \"name\": \"concat_1_concat_1_marks\", \"from\": {\"data\": \"data_3\"}, \"encode\": {\"update\": {\"startAngle\": {\"field\": \"Average Working Hours_end\", \"scale\": \"concat_1_concat_1_theta\"}, \"tooltip\": {\"signal\": \"isValid(datum[\\\"Category\\\"]) ? datum[\\\"Category\\\"] : \\\"\\\"+datum[\\\"Category\\\"]\"}, \"endAngle\": {\"field\": \"Average Working Hours_start\", \"scale\": \"concat_1_concat_1_theta\"}, \"innerRadius\": {\"value\": 0}, \"fill\": {\"field\": \"Category\", \"scale\": \"color\"}, \"y\": {\"signal\": \"childHeight\", \"mult\": 0.5}, \"outerRadius\": {\"signal\": \"min(concat_1_childWidth,childHeight)/2\"}, \"x\": {\"signal\": \"concat_1_childWidth\", \"mult\": 0.5}, \"description\": {\"signal\": \"\\\"Average Working Hours: \\\" + (format(datum[\\\"Average Working Hours\\\"], \\\"\\\")) + \\\"; Category: \\\" + (isValid(datum[\\\"Category\\\"]) ? datum[\\\"Category\\\"] : \\\"\\\"+datum[\\\"Category\\\"])\"}}}, \"style\": [\"arc\"]}], \"title\": {\"text\": \"Year 1990 - Average Working Hours\", \"frame\": \"group\"}, \"style\": \"view\"}], \"layout\": {\"padding\": 20, \"bounds\": \"full\", \"align\": \"each\"}}, {\"type\": \"group\", \"name\": \"concat_2_group\", \"marks\": [{\"type\": \"group\", \"name\": \"concat_2_concat_0_group\", \"encode\": {\"update\": {\"width\": {\"signal\": \"concat_2_childWidth\"}, \"height\": {\"signal\": \"childHeight\"}}}, \"marks\": [{\"type\": \"arc\", \"name\": \"concat_2_concat_0_marks\", \"from\": {\"data\": \"data_4\"}, \"encode\": {\"update\": {\"outerRadius\": {\"signal\": \"min(concat_2_childWidth,childHeight)/2\"}, \"startAngle\": {\"field\": \"Average Hourly Wage_end\", \"scale\": \"concat_2_concat_0_theta\"}, \"fill\": {\"field\": \"Category\", \"scale\": \"color\"}, \"tooltip\": {\"signal\": \"isValid(datum[\\\"Category\\\"]) ? datum[\\\"Category\\\"] : \\\"\\\"+datum[\\\"Category\\\"]\"}, \"innerRadius\": {\"value\": 0}, \"endAngle\": {\"field\": \"Average Hourly Wage_start\", \"scale\": \"concat_2_concat_0_theta\"}, \"y\": {\"signal\": \"childHeight\", \"mult\": 0.5}, \"description\": {\"signal\": \"\\\"Average Hourly Wage: \\\" + (format(datum[\\\"Average Hourly Wage\\\"], \\\"\\\")) + \\\"; Category: \\\" + (isValid(datum[\\\"Category\\\"]) ? datum[\\\"Category\\\"] : \\\"\\\"+datum[\\\"Category\\\"])\"}, \"x\": {\"signal\": \"concat_2_childWidth\", \"mult\": 0.5}}}, \"style\": [\"arc\"]}], \"title\": {\"text\": \"Year 1999 - Average Hourly Wage\", \"frame\": \"group\"}, \"style\": \"view\"}, {\"type\": \"group\", \"name\": \"concat_2_concat_1_group\", \"encode\": {\"update\": {\"width\": {\"signal\": \"concat_2_childWidth\"}, \"height\": {\"signal\": \"childHeight\"}}}, \"marks\": [{\"type\": \"arc\", \"name\": \"concat_2_concat_1_marks\", \"from\": {\"data\": \"data_5\"}, \"encode\": {\"update\": {\"y\": {\"signal\": \"childHeight\", \"mult\": 0.5}, \"description\": {\"signal\": \"\\\"Average Working Hours: \\\" + (format(datum[\\\"Average Working Hours\\\"], \\\"\\\")) + \\\"; Category: \\\" + (isValid(datum[\\\"Category\\\"]) ? datum[\\\"Category\\\"] : \\\"\\\"+datum[\\\"Category\\\"])\"}, \"startAngle\": {\"field\": \"Average Working Hours_end\", \"scale\": \"concat_2_concat_1_theta\"}, \"tooltip\": {\"signal\": \"isValid(datum[\\\"Category\\\"]) ? datum[\\\"Category\\\"] : \\\"\\\"+datum[\\\"Category\\\"]\"}, \"endAngle\": {\"field\": \"Average Working Hours_start\", \"scale\": \"concat_2_concat_1_theta\"}, \"x\": {\"signal\": \"concat_2_childWidth\", \"mult\": 0.5}, \"outerRadius\": {\"signal\": \"min(concat_2_childWidth,childHeight)/2\"}, \"innerRadius\": {\"value\": 0}, \"fill\": {\"field\": \"Category\", \"scale\": \"color\"}}}, \"style\": [\"arc\"]}], \"title\": {\"text\": \"Year 1999 - Average Working Hours\", \"frame\": \"group\"}, \"style\": \"view\"}], \"layout\": {\"padding\": 20, \"bounds\": \"full\", \"align\": \"each\"}}, {\"type\": \"group\", \"name\": \"concat_3_group\", \"marks\": [{\"type\": \"group\", \"name\": \"concat_3_concat_0_group\", \"encode\": {\"update\": {\"height\": {\"signal\": \"childHeight\"}, \"width\": {\"signal\": \"concat_3_childWidth\"}}}, \"marks\": [{\"type\": \"arc\", \"name\": \"concat_3_concat_0_marks\", \"from\": {\"data\": \"data_6\"}, \"encode\": {\"update\": {\"fill\": {\"field\": \"Category\", \"scale\": \"color\"}, \"endAngle\": {\"field\": \"Average Hourly Wage_start\", \"scale\": \"concat_3_concat_0_theta\"}, \"y\": {\"signal\": \"childHeight\", \"mult\": 0.5}, \"outerRadius\": {\"signal\": \"min(concat_3_childWidth,childHeight)/2\"}, \"startAngle\": {\"field\": \"Average Hourly Wage_end\", \"scale\": \"concat_3_concat_0_theta\"}, \"innerRadius\": {\"value\": 0}, \"description\": {\"signal\": \"\\\"Average Hourly Wage: \\\" + (format(datum[\\\"Average Hourly Wage\\\"], \\\"\\\")) + \\\"; Category: \\\" + (isValid(datum[\\\"Category\\\"]) ? datum[\\\"Category\\\"] : \\\"\\\"+datum[\\\"Category\\\"])\"}, \"x\": {\"signal\": \"concat_3_childWidth\", \"mult\": 0.5}, \"tooltip\": {\"signal\": \"isValid(datum[\\\"Category\\\"]) ? datum[\\\"Category\\\"] : \\\"\\\"+datum[\\\"Category\\\"]\"}}}, \"style\": [\"arc\"]}], \"title\": {\"text\": \"Year 2007 - Average Hourly Wage\", \"frame\": \"group\"}, \"style\": \"view\"}, {\"type\": \"group\", \"name\": \"concat_3_concat_1_group\", \"encode\": {\"update\": {\"width\": {\"signal\": \"concat_3_childWidth\"}, \"height\": {\"signal\": \"childHeight\"}}}, \"marks\": [{\"type\": \"arc\", \"name\": \"concat_3_concat_1_marks\", \"from\": {\"data\": \"data_7\"}, \"encode\": {\"update\": {\"tooltip\": {\"signal\": \"isValid(datum[\\\"Category\\\"]) ? datum[\\\"Category\\\"] : \\\"\\\"+datum[\\\"Category\\\"]\"}, \"fill\": {\"field\": \"Category\", \"scale\": \"color\"}, \"endAngle\": {\"field\": \"Average Working Hours_start\", \"scale\": \"concat_3_concat_1_theta\"}, \"startAngle\": {\"field\": \"Average Working Hours_end\", \"scale\": \"concat_3_concat_1_theta\"}, \"outerRadius\": {\"signal\": \"min(concat_3_childWidth,childHeight)/2\"}, \"innerRadius\": {\"value\": 0}, \"description\": {\"signal\": \"\\\"Average Working Hours: \\\" + (format(datum[\\\"Average Working Hours\\\"], \\\"\\\")) + \\\"; Category: \\\" + (isValid(datum[\\\"Category\\\"]) ? datum[\\\"Category\\\"] : \\\"\\\"+datum[\\\"Category\\\"])\"}, \"y\": {\"signal\": \"childHeight\", \"mult\": 0.5}, \"x\": {\"signal\": \"concat_3_childWidth\", \"mult\": 0.5}}}, \"style\": [\"arc\"]}], \"title\": {\"text\": \"Year 2007 - Average Working Hours\", \"frame\": \"group\"}, \"style\": \"view\"}], \"layout\": {\"padding\": 20, \"bounds\": \"full\", \"align\": \"each\"}}, {\"type\": \"group\", \"name\": \"concat_4_group\", \"marks\": [{\"type\": \"group\", \"name\": \"concat_4_concat_0_group\", \"encode\": {\"update\": {\"width\": {\"signal\": \"concat_4_childWidth\"}, \"height\": {\"signal\": \"childHeight\"}}}, \"marks\": [{\"type\": \"arc\", \"name\": \"concat_4_concat_0_marks\", \"from\": {\"data\": \"data_8\"}, \"encode\": {\"update\": {\"tooltip\": {\"signal\": \"isValid(datum[\\\"Category\\\"]) ? datum[\\\"Category\\\"] : \\\"\\\"+datum[\\\"Category\\\"]\"}, \"x\": {\"signal\": \"concat_4_childWidth\", \"mult\": 0.5}, \"endAngle\": {\"field\": \"Average Hourly Wage_start\", \"scale\": \"concat_4_concat_0_theta\"}, \"startAngle\": {\"field\": \"Average Hourly Wage_end\", \"scale\": \"concat_4_concat_0_theta\"}, \"y\": {\"signal\": \"childHeight\", \"mult\": 0.5}, \"innerRadius\": {\"value\": 0}, \"outerRadius\": {\"signal\": \"min(concat_4_childWidth,childHeight)/2\"}, \"description\": {\"signal\": \"\\\"Average Hourly Wage: \\\" + (format(datum[\\\"Average Hourly Wage\\\"], \\\"\\\")) + \\\"; Category: \\\" + (isValid(datum[\\\"Category\\\"]) ? datum[\\\"Category\\\"] : \\\"\\\"+datum[\\\"Category\\\"])\"}, \"fill\": {\"field\": \"Category\", \"scale\": \"color\"}}}, \"style\": [\"arc\"]}], \"title\": {\"text\": \"Year 2009 - Average Hourly Wage\", \"frame\": \"group\"}, \"style\": \"view\"}, {\"type\": \"group\", \"name\": \"concat_4_concat_1_group\", \"encode\": {\"update\": {\"height\": {\"signal\": \"childHeight\"}, \"width\": {\"signal\": \"concat_4_childWidth\"}}}, \"marks\": [{\"type\": \"arc\", \"name\": \"concat_4_concat_1_marks\", \"from\": {\"data\": \"data_9\"}, \"encode\": {\"update\": {\"y\": {\"signal\": \"childHeight\", \"mult\": 0.5}, \"startAngle\": {\"field\": \"Average Working Hours_end\", \"scale\": \"concat_4_concat_1_theta\"}, \"description\": {\"signal\": \"\\\"Average Working Hours: \\\" + (format(datum[\\\"Average Working Hours\\\"], \\\"\\\")) + \\\"; Category: \\\" + (isValid(datum[\\\"Category\\\"]) ? datum[\\\"Category\\\"] : \\\"\\\"+datum[\\\"Category\\\"])\"}, \"x\": {\"signal\": \"concat_4_childWidth\", \"mult\": 0.5}, \"endAngle\": {\"field\": \"Average Working Hours_start\", \"scale\": \"concat_4_concat_1_theta\"}, \"tooltip\": {\"signal\": \"isValid(datum[\\\"Category\\\"]) ? datum[\\\"Category\\\"] : \\\"\\\"+datum[\\\"Category\\\"]\"}, \"fill\": {\"field\": \"Category\", \"scale\": \"color\"}, \"outerRadius\": {\"signal\": \"min(concat_4_childWidth,childHeight)/2\"}, \"innerRadius\": {\"value\": 0}}}, \"style\": [\"arc\"]}], \"title\": {\"text\": \"Year 2009 - Average Working Hours\", \"frame\": \"group\"}, \"style\": \"view\"}], \"layout\": {\"padding\": 20, \"bounds\": \"full\", \"align\": \"each\"}}, {\"type\": \"group\", \"name\": \"concat_5_group\", \"marks\": [{\"type\": \"group\", \"name\": \"concat_5_concat_0_group\", \"encode\": {\"update\": {\"height\": {\"signal\": \"childHeight\"}, \"width\": {\"signal\": \"concat_5_childWidth\"}}}, \"marks\": [{\"type\": \"arc\", \"name\": \"concat_5_concat_0_marks\", \"from\": {\"data\": \"data_10\"}, \"encode\": {\"update\": {\"x\": {\"signal\": \"concat_5_childWidth\", \"mult\": 0.5}, \"tooltip\": {\"signal\": \"isValid(datum[\\\"Category\\\"]) ? datum[\\\"Category\\\"] : \\\"\\\"+datum[\\\"Category\\\"]\"}, \"y\": {\"signal\": \"childHeight\", \"mult\": 0.5}, \"innerRadius\": {\"value\": 0}, \"startAngle\": {\"field\": \"Average Hourly Wage_end\", \"scale\": \"concat_5_concat_0_theta\"}, \"outerRadius\": {\"signal\": \"min(concat_5_childWidth,childHeight)/2\"}, \"endAngle\": {\"field\": \"Average Hourly Wage_start\", \"scale\": \"concat_5_concat_0_theta\"}, \"fill\": {\"field\": \"Category\", \"scale\": \"color\"}, \"description\": {\"signal\": \"\\\"Average Hourly Wage: \\\" + (format(datum[\\\"Average Hourly Wage\\\"], \\\"\\\")) + \\\"; Category: \\\" + (isValid(datum[\\\"Category\\\"]) ? datum[\\\"Category\\\"] : \\\"\\\"+datum[\\\"Category\\\"])\"}}}, \"style\": [\"arc\"]}], \"title\": {\"text\": \"Year 2011 - Average Hourly Wage\", \"frame\": \"group\"}, \"style\": \"view\"}, {\"type\": \"group\", \"name\": \"concat_5_concat_1_group\", \"encode\": {\"update\": {\"height\": {\"signal\": \"childHeight\"}, \"width\": {\"signal\": \"concat_5_childWidth\"}}}, \"marks\": [{\"type\": \"arc\", \"name\": \"concat_5_concat_1_marks\", \"from\": {\"data\": \"data_11\"}, \"encode\": {\"update\": {\"description\": {\"signal\": \"\\\"Average Working Hours: \\\" + (format(datum[\\\"Average Working Hours\\\"], \\\"\\\")) + \\\"; Category: \\\" + (isValid(datum[\\\"Category\\\"]) ? datum[\\\"Category\\\"] : \\\"\\\"+datum[\\\"Category\\\"])\"}, \"fill\": {\"field\": \"Category\", \"scale\": \"color\"}, \"outerRadius\": {\"signal\": \"min(concat_5_childWidth,childHeight)/2\"}, \"tooltip\": {\"signal\": \"isValid(datum[\\\"Category\\\"]) ? datum[\\\"Category\\\"] : \\\"\\\"+datum[\\\"Category\\\"]\"}, \"innerRadius\": {\"value\": 0}, \"endAngle\": {\"field\": \"Average Working Hours_start\", \"scale\": \"concat_5_concat_1_theta\"}, \"startAngle\": {\"field\": \"Average Working Hours_end\", \"scale\": \"concat_5_concat_1_theta\"}, \"x\": {\"signal\": \"concat_5_childWidth\", \"mult\": 0.5}, \"y\": {\"signal\": \"childHeight\", \"mult\": 0.5}}}, \"style\": [\"arc\"]}], \"title\": {\"text\": \"Year 2011 - Average Working Hours\", \"frame\": \"group\"}, \"style\": \"view\"}], \"layout\": {\"padding\": 20, \"bounds\": \"full\", \"align\": \"each\"}}], \"scales\": [{\"name\": \"color\", \"type\": \"ordinal\", \"domain\": {\"fields\": [{\"data\": \"data_0_color_domain_Category_0\", \"field\": \"Category\"}, {\"data\": \"data_1_color_domain_Category_1\", \"field\": \"Category\"}, {\"data\": \"data_2_color_domain_Category_2\", \"field\": \"Category\"}, {\"data\": \"data_3_color_domain_Category_3\", \"field\": \"Category\"}, {\"data\": \"data_4_color_domain_Category_4\", \"field\": \"Category\"}, {\"data\": \"data_5_color_domain_Category_5\", \"field\": \"Category\"}, {\"data\": \"data_6_color_domain_Category_6\", \"field\": \"Category\"}, {\"data\": \"data_7_color_domain_Category_7\", \"field\": \"Category\"}, {\"data\": \"data_8_color_domain_Category_8\", \"field\": \"Category\"}, {\"data\": \"data_9_color_domain_Category_9\", \"field\": \"Category\"}, {\"data\": \"data_10_color_domain_Category_10\", \"field\": \"Category\"}, {\"data\": \"data_11_color_domain_Category_11\", \"field\": \"Category\"}], \"sort\": true}, \"range\": [\"blue\", \"orange\"]}, {\"name\": \"concat_0_concat_0_theta\", \"type\": \"linear\", \"domain\": {\"data\": \"data_0\", \"fields\": [\"Average Hourly Wage_start\", \"Average Hourly Wage_end\"]}, \"range\": [0, 6.283185307179586], \"zero\": true}, {\"name\": \"concat_0_concat_1_theta\", \"type\": \"linear\", \"domain\": {\"data\": \"data_1\", \"fields\": [\"Average Working Hours_start\", \"Average Working Hours_end\"]}, \"range\": [0, 6.283185307179586], \"zero\": true}, {\"name\": \"concat_1_concat_0_theta\", \"type\": \"linear\", \"domain\": {\"data\": \"data_2\", \"fields\": [\"Average Hourly Wage_start\", \"Average Hourly Wage_end\"]}, \"range\": [0, 6.283185307179586], \"zero\": true}, {\"name\": \"concat_1_concat_1_theta\", \"type\": \"linear\", \"domain\": {\"data\": \"data_3\", \"fields\": [\"Average Working Hours_start\", \"Average Working Hours_end\"]}, \"range\": [0, 6.283185307179586], \"zero\": true}, {\"name\": \"concat_2_concat_0_theta\", \"type\": \"linear\", \"domain\": {\"data\": \"data_4\", \"fields\": [\"Average Hourly Wage_start\", \"Average Hourly Wage_end\"]}, \"range\": [0, 6.283185307179586], \"zero\": true}, {\"name\": \"concat_2_concat_1_theta\", \"type\": \"linear\", \"domain\": {\"data\": \"data_5\", \"fields\": [\"Average Working Hours_start\", \"Average Working Hours_end\"]}, \"range\": [0, 6.283185307179586], \"zero\": true}, {\"name\": \"concat_3_concat_0_theta\", \"type\": \"linear\", \"domain\": {\"data\": \"data_6\", \"fields\": [\"Average Hourly Wage_start\", \"Average Hourly Wage_end\"]}, \"range\": [0, 6.283185307179586], \"zero\": true}, {\"name\": \"concat_3_concat_1_theta\", \"type\": \"linear\", \"domain\": {\"data\": \"data_7\", \"fields\": [\"Average Working Hours_start\", \"Average Working Hours_end\"]}, \"range\": [0, 6.283185307179586], \"zero\": true}, {\"name\": \"concat_4_concat_0_theta\", \"type\": \"linear\", \"domain\": {\"data\": \"data_8\", \"fields\": [\"Average Hourly Wage_start\", \"Average Hourly Wage_end\"]}, \"range\": [0, 6.283185307179586], \"zero\": true}, {\"name\": \"concat_4_concat_1_theta\", \"type\": \"linear\", \"domain\": {\"data\": \"data_9\", \"fields\": [\"Average Working Hours_start\", \"Average Working Hours_end\"]}, \"range\": [0, 6.283185307179586], \"zero\": true}, {\"name\": \"concat_5_concat_0_theta\", \"type\": \"linear\", \"domain\": {\"data\": \"data_10\", \"fields\": [\"Average Hourly Wage_start\", \"Average Hourly Wage_end\"]}, \"range\": [0, 6.283185307179586], \"zero\": true}, {\"name\": \"concat_5_concat_1_theta\", \"type\": \"linear\", \"domain\": {\"data\": \"data_11\", \"fields\": [\"Average Working Hours_start\", \"Average Working Hours_end\"]}, \"range\": [0, 6.283185307179586], \"zero\": true}], \"layout\": {\"padding\": 20, \"columns\": 1, \"bounds\": \"full\", \"align\": \"each\"}, \"legends\": [{\"fill\": \"color\", \"symbolType\": \"circle\", \"title\": \"Category\"}], \"background\": \"white\", \"padding\": 5}, {\"mode\": \"vega\"});\n",
       "</script>"
      ],
      "text/plain": [
       "alt.VConcatChart(...)"
      ]
     },
     "execution_count": 48,
     "metadata": {},
     "output_type": "execute_result"
    }
   ],
   "source": [
    "# Assuming you have a DataFrame named time_dynamics\n",
    "# with columns: wave, realhrwage, annhrs, sex\n",
    "\n",
    "# Create a pivot table to calculate the average working hours and hourly wage\n",
    "pivot_table = time_dynamics.pivot_table(index='wave', columns='sex', \n",
    "                                       values=['realhrwage', 'annhrs'], \n",
    "                                       aggfunc='mean')\n",
    "\n",
    "# Initialize a list to hold the charts\n",
    "charts = []\n",
    "\n",
    "# Iterate through the years\n",
    "for year in pivot_table.index:\n",
    "    year_data = pivot_table.loc[year]\n",
    "\n",
    "    # Create a DataFrame for plotting\n",
    "    df = pd.DataFrame({\n",
    "        'Category': ['Male', 'Female'],\n",
    "        'Average Hourly Wage': [year_data['realhrwage']['Male'], year_data['realhrwage']['Female']],\n",
    "        'Average Working Hours': [year_data['annhrs']['Male'], year_data['annhrs']['Female']]\n",
    "    })\n",
    "\n",
    "    # Create pie chart for hourly wage\n",
    "    wage_chart = alt.Chart(df).mark_arc().encode(\n",
    "        alt.Color('Category:N', scale=alt.Scale(range=['blue','orange'])),\n",
    "        alt.Tooltip('Category:N'),\n",
    "        alt.Size(value=60),  # Adjust the radius value here\n",
    "        theta='Average Hourly Wage:Q',\n",
    "    ).properties(title=f'Year {year} - Average Hourly Wage')\n",
    "\n",
    "    # Create pie chart for working hours\n",
    "    hours_chart = alt.Chart(df).mark_arc().encode(\n",
    "        alt.Color('Category:N', scale=alt.Scale(range=['blue','orange'])),\n",
    "        alt.Tooltip('Category:N'),\n",
    "        alt.Size(value=60),  # Adjust the radius value here\n",
    "        theta='Average Working Hours:Q',\n",
    "    ).properties(title=f'Year {year} - Average Working Hours')\n",
    "\n",
    "    # Combine both charts for each year\n",
    "    combined_chart = alt.hconcat(wage_chart, hours_chart)\n",
    "\n",
    "    # Add the combined chart to the list\n",
    "    charts.append(combined_chart)\n",
    "\n",
    "# Concatenate all charts into a single visualization\n",
    "alt.vconcat(*charts)  # Adjust width and height as needed"
   ]
  },
  {
   "cell_type": "markdown",
   "id": "39145437",
   "metadata": {},
   "source": [
    "The above visualization clearly depicts the following:\n",
    "    \n",
    "Working Hours: \n",
    "- There is a relatively small difference in working hours between men and women in each year. Men consistently worked a slightly higher percentage of the total annual hours compared to women.\n",
    "- For instance, in 1981, men worked around 56.1% of the total hours, while women worked approximately 43.9%. By 2011, men were working about 53.9% of the total hours, and women were working around 46.1%.\n",
    "\n",
    "Wage Gap:\n",
    "- The wage gap fluctuated over the years, but there is a discernible trend. In 1981, men earned approximately 59.8% of the total wage, while women earned about 40.2%. By 2011, this gap had narrowed slightly, with men earning around 53.8% and women earning about 46.2%. This suggests a gradual improvement in gender wage equality, but a significant gap still remains.\n",
    "\n",
    "Wage Gap vs. Working Hours Difference:\n",
    "- The wage gap and the difference in working hours are related but distinct aspects of the gender earnings disparity. The wage gap primarily reflects differences in the hourly earnings between men and women, while the working hours difference indicates variations in the amount of time spent working.\n",
    "\n",
    "- The wage gap tends to be more significant in magnitude compared to the difference in working hours. This means that even when men and women work similar hours, there is still a notable disparity in their earnings."
   ]
  },
  {
   "cell_type": "markdown",
   "id": "c6399046",
   "metadata": {},
   "source": [
    "Overall, Over the observed period (1981 to 2011), there is evidence of a gradual improvement in gender wage equality. The wage gap has reduced, albeit modestly. In 1981, men earned around 59.8% of the total wage, whereas in 2011, they earned about 53.8%. This suggests that efforts to address gender wage disparities have had some impact, although there is still work to be done.\n",
    "\n",
    "The difference in working hours between men and women has remained relatively stable over the years. Men consistently worked a slightly higher percentage of the total hours, indicating a persistent but relatively small difference in time spent at work."
   ]
  },
  {
   "cell_type": "markdown",
   "id": "33c81160",
   "metadata": {},
   "source": [
    "### Recreating the plot with labels"
   ]
  },
  {
   "cell_type": "code",
   "execution_count": 49,
   "id": "793c2231",
   "metadata": {},
   "outputs": [
    {
     "data": {
      "image/png": "[encoded data removed]",
      "text/plain": [
       "<Figure size 1200x1000 with 12 Axes>"
      ]
     },
     "metadata": {},
     "output_type": "display_data"
    }
   ],
   "source": [
    "# Create a pivot table to calculate the average working hours and hourly wage\n",
    "pivot_table = income_dynamics.pivot_table(index='wave', columns='sex', \n",
    "                                          values=['realhrwage', 'annhrs'], \n",
    "                                          aggfunc='mean')\n",
    "\n",
    "# Set up subplots\n",
    "num_years = len(pivot_table.index)\n",
    "fig, axes = plt.subplots(nrows=num_years, ncols=2, figsize=(12, 10))\n",
    "\n",
    "# Iterate through the years\n",
    "for i, year in enumerate(pivot_table.index):\n",
    "    year_data = pivot_table.loc[year]\n",
    "    \n",
    "    # Create labels and values for the pie charts\n",
    "    labels = ['Male', 'Female']\n",
    "    avg_hourly_wage = year_data['realhrwage']\n",
    "    avg_working_hours = year_data['annhrs']\n",
    "    sizes_wage = [avg_hourly_wage['Male'], avg_hourly_wage['Female']]\n",
    "    sizes_hours = [avg_working_hours['Male'], avg_working_hours['Female']]\n",
    "    \n",
    "    # Create pie chart for hourly wage\n",
    "    axes[i, 0].pie(sizes_wage, labels=labels, autopct='%1.1f%%', startangle=90, \n",
    "                   colors=['orange','blue'])\n",
    "    axes[i, 0].set_title(f'Year {year} - Average Hourly Wage')\n",
    "    \n",
    "    # Create pie chart for working hours\n",
    "    axes[i, 1].pie(sizes_hours, labels=labels, autopct='%1.1f%%', startangle=90, \n",
    "                   colors=['orange','blue'])\n",
    "    axes[i, 1].set_title(f'Year {year} - Average Working Hours')\n",
    "\n",
    "# Adjust layout and add spacing between subplots\n",
    "plt.tight_layout()\n",
    "\n",
    "# Save plot as image\n",
    "plt.savefig('average_income_plot.png')\n",
    "\n",
    "# Show plot\n",
    "plt.show()"
   ]
  },
  {
   "cell_type": "markdown",
   "id": "6d58807c",
   "metadata": {
    "id": "6d58807c"
   },
   "source": [
    "# <font color = blue> Key Findings:"
   ]
  },
  {
   "cell_type": "markdown",
   "id": "9ff8381e",
   "metadata": {},
   "source": [
    "Below are our key findings from the analysis:\n",
    "\n",
    "#### - A significant wage gap exists between men and women:\n",
    "\n",
    "The analysis unequivocally establishes the existence of a substantial wage gap between men and women. This wage disparity is evident across various dimensions, including industries, occupations, education levels, and levels of work experience. The consistent pattern of men earning higher wages than women underscores the persistence of this issue.\n",
    "\n",
    "The distribution of hourly wages reveals a wide range, indicating considerable disparity in earnings. The presence of potential outliers on the higher end of the wage distribution suggests the influence of extremely high wages in certain cases. This could be attributed to factors such as executive salaries or specialized professions.\n",
    "\n",
    "On average, men consistently earn higher wages than women across all levels of work experience, education levels, and industries. This recurring pattern is a clear indication of a gender-based wage gap. The difference in average wages suggests systemic disparities in pay between genders.\n",
    "\n",
    "#### - Some industries clearly reflect dominance of women while others reflect underrepresentation:\n",
    "\n",
    "The analysis identifies distinct disparities in gender representation across different industries. Some industries exhibit a clear dominance of either male or female workers. This industry-specific imbalance can contribute to the wage gap.\n",
    "\n",
    "Industries such as education, medicine, social arts, finance, and hotel management are predominantly populated by women. This suggests a higher representation of women in these fields compared to men.\n",
    "\n",
    "Conversely, industries like mining, construction, agriculture, transport, and trade have a notably lower presence of female workers. These industries are characterized by a scarcity of women workers.\n",
    "\n",
    "Industries where women constitute the majority of the workforce may be associated with lower average wages for several reasons. One factor contributing to this association is the influence of historical gender norms and societal expectations. These norms have traditionally undervalued and marginalized work that is predominantly performed by women. As a result, industries where women are more prevalent may be subject to systemic undervaluation of their contributions, leading to lower overall wages.\n",
    "\n",
    "#### - Differences in work experience, education level or racial disparities do not fully account for the wage gap:\n",
    "\n",
    "The wage gap is a complex issue influenced by a multitude of factors. These include occupational segregation, wherein men and women tend to be concentrated in different roles or industries. \n",
    "\n",
    "Our analysis evidently shows that, while work experience, education level, and racial disparities are important factors affecting earnings, they do not fully account for the wage gap. \n",
    "\n",
    "Even when controlling for these variables, men consistently earn higher wages than women. \n",
    "       \n",
    "#### - Differences in time spent in work between men and women is a major factor contributing to the wage gap\n",
    "       \n",
    "Through the whole analysis, while men and women have similar trends with respect to education, years of experience etc., one area of distinction was that men do work slightly more hours than women.\n",
    "\n",
    "Though the difference is relatively small in average, this does seem to have a definitive implication on the wages received.\n",
    "\n",
    "Moreover, the wage gap is disproportionate with the gap in working hours.\n",
    "       \n",
    "Also , the analysis indicates a modest improvement in gender wage equality over the observed period (1981 to 2011). The reduction in the wage gap suggests positive steps towards addressing gender disparities in earnings through education and representation of more women in industries. However, there is still work to be done to achieve true gender wage equality, and further efforts are needed to continue this positive trend.    "
   ]
  },
  {
   "cell_type": "markdown",
   "id": "7da8645d",
   "metadata": {
    "id": "7da8645d"
   },
   "source": [
    "# <font color = blue> Call for Action/Recommendations:"
   ]
  },
  {
   "cell_type": "markdown",
   "id": "c5feeb8d",
   "metadata": {
    "id": "bca0e743"
   },
   "source": [
    "Based on the specific findings , here are three actionable policy recommendations to address the gender wage gap:\n",
    "\n",
    "#### 1. Promote Gender-Neutral Recruitment and Advancement Practices:\n",
    "\n",
    "Implement policies that ensure unbiased recruitment, hiring, and promotion processes. This includes conducting blind resume screenings, offering unconscious bias training for hiring managers, and establishing clear and transparent criteria for evaluation.\n",
    "\n",
    "#### 2. Encourage Industry-Specific Wage Equity Initiatives:\n",
    "\n",
    "Develop industry-specific initiatives to address wage disparities. This can include conducting regular pay equity audits, establishing clear wage guidelines, and providing incentives for companies to actively work towards closing the wage gap within their respective industries.\n",
    "\n",
    "To be specific for example, In male-dominated industries, establish industry-wide benchmarks for salaries based on educational attainment and years of experience. This ensures that individuals with comparable qualifications and experience receive equitable compensation.\n",
    "\n",
    "#### 3. Support Flexible Work Arrangements and Work-Life Balance:\n",
    "\n",
    "Women, on average, still bear a significant portion of caregiving responsibilities for children, elderly family members, or other dependents. Flexible work arrangements allow them to manage these responsibilities more effectively without compromising their careers.\n",
    "\n",
    "Advocate for policies that promote flexible work arrangements, such as telecommuting and flexible hours. Encourage the adoption of family-friendly policies, such as paid parental leave and affordable childcare options, to support both men and women in balancing work and family responsibilities.\n",
    "\n",
    "Women who have access to flexible work arrangements are more likely to pursue professional development opportunities and seek career advancement. This helps in narrowing the gender wage gap and increasing the representation of women in leadership roles.\n",
    "\n",
    "These recommendations are tailored to address the specific challenges and disparities identified in our analysis. They focus on promoting fairness, transparency, and support for both men and women in the workforce, and can contribute to meaningful progress in achieving gender wage equality."
   ]
  },
  {
   "cell_type": "markdown",
   "id": "d1784141",
   "metadata": {
    "id": "d1784141"
   },
   "source": [
    "# <font color = blue> Final Comments on the analysis and Future Work:"
   ]
  },
  {
   "cell_type": "markdown",
   "id": "a154cf93",
   "metadata": {
    "id": "cdd281b5"
   },
   "source": [
    "- In conclusion, our analysis sheds light on the persistent gender wage gap and its multifaceted determinants. It underscores the importance of targeted interventions to address disparities in industries, promote flexible work arrangements, and implement gender-neutral recruitment practices. These steps are vital in achieving greater gender wage equality.\n",
    "\n",
    "- Conducting in-depth studies on the impact of specific industry policies, examining the effectiveness of flexible work arrangements on reducing wage disparities, and assessing the long-term outcomes of gender-neutral recruitment practices are areas of potential focus. Additionally, delving into the influence of cultural and societal factors on the wage gap could provide valuable insights. Continued efforts and collaboration are essential to effect lasting change and create workplaces that prioritize fairness, inclusivity, and equal opportunity for all."
   ]
  },
  {
   "cell_type": "markdown",
   "id": "411a010b",
   "metadata": {},
   "source": [
    "# <font color = blue> Limitations"
   ]
  },
  {
   "cell_type": "markdown",
   "id": "c510083b",
   "metadata": {},
   "source": [
    "While our dataset provides valuable insights into the gender wage gap, it's important to acknowledge its inherent limitations:\n",
    "\n",
    "- Firstly, the dataset offers limited demographic information beyond gender, omitting factors like race, ethnicity, age, and socio-economic background that can influence wage disparities. \n",
    "\n",
    "- Additionally, contextual details about specific job roles, industry-specific factors, and company-level data are absent, potentially limiting our ability to account for all relevant variables. The dataset covers a specific time period, and economic conditions or policies may have evolved over time, potentially impacting the generalizability of our findings. It's also worth considering the potential for sampling bias, as certain industries or demographics may be overrepresented or underrepresented. \n",
    "\n",
    "- Moreover, the classification of occupations within the dataset may not align perfectly with standard industry classifications, introducing some level of ambiguity. We also recognize the presence of outliers or extreme values that could influence summary statistics and visualizations. Lastly, the dataset may not capture dynamic factors such as changes in policies or societal norms over time. \n",
    "\n",
    "- Despite these limitations, our analysis serves as a meaningful starting point for understanding the complexities of the gender wage gap, and offers directions for future research and policy interventions."
   ]
  },
  {
   "cell_type": "markdown",
   "id": "1148e048",
   "metadata": {
    "id": "1148e048"
   },
   "source": [
    "# <font color = blue> References:"
   ]
  },
  {
   "cell_type": "markdown",
   "id": "d3dedfdf",
   "metadata": {
    "id": "6794898e"
   },
   "source": [
    "1. https://altair-viz.github.io/getting_started/starting.html\n",
    "2. https://altair-viz.github.io/gallery/pie_chart.html\n",
    "3. https://stackoverflow.com/questions/77377162/how-to-calculate-averages-when-constantly-average-is-sum-of-one-col-divide-by-ot"
   ]
  }
 ],
 "metadata": {
  "colab": {
   "provenance": []
  },
  "kernelspec": {
   "display_name": "Python 3 (ipykernel)",
   "language": "python",
   "name": "python3"
  },
  "language_info": {
   "codemirror_mode": {
    "name": "ipython",
    "version": 3
   },
   "file_extension": ".py",
   "mimetype": "text/x-python",
   "name": "python",
   "nbconvert_exporter": "python",
   "pygments_lexer": "ipython3",
   "version": "3.11.4"
  }
 },
 "nbformat": 4,
 "nbformat_minor": 5
}
